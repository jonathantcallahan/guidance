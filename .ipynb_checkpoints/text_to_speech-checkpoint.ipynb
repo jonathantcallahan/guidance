{
 "cells": [
  {
   "cell_type": "code",
   "execution_count": 22,
   "id": "5e664de0-f0e6-44e6-8c57-8e41b3b406eb",
   "metadata": {},
   "outputs": [],
   "source": [
    "import requests\n",
    "import json\n",
    "import elevenlabs\n",
    "from openai import OpenAI\n",
    "import time"
   ]
  },
  {
   "cell_type": "code",
   "execution_count": 23,
   "id": "16be44c3-080f-4678-aa7a-d51776e12ab7",
   "metadata": {},
   "outputs": [],
   "source": [
    "with open('../credentials.json', 'r') as file:\n",
    "    cred = json.load(file)\n",
    "\n",
    "elevenlabs.set_api_key(cred[\"elevenlabs_api_key\"])\n",
    "client = OpenAI(api_key=cred[\"openai_api_key\"])\n",
    "\n",
    "thread_id = \"thread_L4ERbnzOKTrnwjZdlPngGMCN\""
   ]
  },
  {
   "cell_type": "code",
   "execution_count": 4,
   "id": "68ac1cc3-4389-4ccb-abdf-e36cc5953d84",
   "metadata": {},
   "outputs": [],
   "source": [
    "audio = elevenlabs.generate(\n",
    "    text = \"The raindrops patter on the bamboo leaf, but these are not tears of grief\",\n",
    "        voice = \"vDxT1hhO5CjgzUI7e2vF\"\n",
    ")\n",
    "\n",
    "elevenlabs.play(audio)"
   ]
  },
  {
   "cell_type": "code",
   "execution_count": 24,
   "id": "1620f8d6-9023-46ef-b033-9b393c9c9bf0",
   "metadata": {},
   "outputs": [],
   "source": [
    "my_assistant = client.beta.assistants.retrieve(\"asst_nv9sFR2LXHefrpwws4EUT6xU\")"
   ]
  },
  {
   "cell_type": "code",
   "execution_count": 25,
   "id": "6faf2512-f69a-4900-8aa3-bd86316cf811",
   "metadata": {},
   "outputs": [
    {
     "name": "stdout",
     "output_type": "stream",
     "text": [
      "Thread(id='thread_L4ERbnzOKTrnwjZdlPngGMCN', created_at=1700274727, metadata={}, object='thread')\n"
     ]
    }
   ],
   "source": [
    "run = client.beta.threads.retrieve(\n",
    "    thread_id = thread_id\n",
    ")\n",
    "\n",
    "print(run)"
   ]
  },
  {
   "cell_type": "code",
   "execution_count": 54,
   "id": "6df5c019-4a83-43a6-88b9-483bb2dc7c4c",
   "metadata": {},
   "outputs": [],
   "source": [
    "audio = elevenlabs.generate(\n",
    "    text = messages.data[0].content[0].text.value,\n",
    "    voice = \"vDxT1hhO5CjgzUI7e2vF\"\n",
    ")\n",
    "\n",
    "elevenlabs.play(audio)"
   ]
  },
  {
   "cell_type": "code",
   "execution_count": 32,
   "id": "41f74ad9-ce08-4ad3-af1c-8b2c0c4c23d7",
   "metadata": {},
   "outputs": [
    {
     "name": "stdout",
     "output_type": "stream",
     "text": [
      "MessageContentText(text=Text(annotations=[], value='What are your thoughts on bicycles'), type='text')\n",
      "MessageContentText(text=Text(annotations=[], value='What are your thoughts on bicycles'), type='text')\n",
      "MessageContentText(text=Text(annotations=[], value='What are your thoughts on bicycles'), type='text')\n",
      "MessageContentText(text=Text(annotations=[], value='What are your thoughts on bicycles'), type='text')\n",
      "MessageContentText(text=Text(annotations=[], value='What are your thoughts on bicycles'), type='text')\n",
      "MessageContentText(text=Text(annotations=[], value='What are your thoughts on bicycles'), type='text')\n",
      "MessageContentText(text=Text(annotations=[], value='What are your thoughts on bicycles'), type='text')\n",
      "MessageContentText(text=Text(annotations=[], value='What are your thoughts on bicycles'), type='text')\n",
      "MessageContentText(text=Text(annotations=[], value='What are your thoughts on bicycles'), type='text')\n",
      "MessageContentText(text=Text(annotations=[], value='Good morning'), type='text')\n",
      "MessageContentText(text=Text(annotations=[], value='What are your thoughts on bicycles'), type='text')\n",
      "MessageContentText(text=Text(annotations=[], value='What are your thoughts on bicycles'), type='text')\n",
      "MessageContentText(text=Text(annotations=[], value='What is it that you seek, my friend? In the vast expanse of this moment, there are countless possibilities awaiting your attention. Listen to the whispers of your heart and follow the current of your desires. Let the evening unfold naturally, guided by your intuition and inner wisdom. Embrace the serendipity of life and trust that the perfect way to spend your evening will reveal itself to you.'), type='text')\n",
      "MessageContentText(text=Text(annotations=[], value='What is it that you seek, my friend? In the vast expanse of this moment, there are countless possibilities awaiting your attention. Listen to the whispers of your heart and follow the current of your desires. Let the evening unfold naturally, guided by your intuition and inner wisdom. Embrace the serendipity of life and trust that the perfect way to spend your evening will reveal itself to you.'), type='text')\n",
      "MessageContentText(text=Text(annotations=[], value='What should I do this evening'), type='text')\n",
      "MessageContentText(text=Text(annotations=[], value='What should I do this evening'), type='text')\n",
      "MessageContentText(text=Text(annotations=[], value='Ah, the evening awaits, ripe with possibilities. Instead of offering a specific prescription, allow me to invite you to contemplate a few avenues for exploration.\\n\\nEngage in an activity that brings you joy, be it reading a captivating book, immersing yourself in music, or indulging in a playful hobby. Seek solace in solitude, where you can unravel the layers of your thoughts and find peace within.\\n\\nAlternatively, embrace the company of loved ones, exchanging meaningful conversation and shared laughter. Connect with the world outside, appreciate the beauty of nature, and let it remind you of your own essence.\\n\\nUltimately, the choice is yours, dear seeker. Trust your intuition and follow the path that resonates most deeply with your being.'), type='text')\n",
      "MessageContentText(text=Text(annotations=[], value='What should I do this evening'), type='text')\n",
      "MessageContentText(text=Text(annotations=[], value='What should I do this evening'), type='text')\n"
     ]
    }
   ],
   "source": [
    "message_request = client.beta.threads.messages.create(\n",
    "    thread_id = thread_id,\n",
    "    role = \"user\",\n",
    "    content = \"What are your thoughts on bicycles\"\n",
    ")\n",
    "\n",
    "thread_messages = client.beta.threads.messages.list( thread_id )\n",
    "\n",
    "for message in thread_messages.data:\n",
    "    print(message.content[0].MessageContentText)\n",
    "    "
   ]
  },
  {
   "cell_type": "code",
   "execution_count": null,
   "id": "6b8810ec-7cc5-435d-a058-e9935fc9c530",
   "metadata": {},
   "outputs": [],
   "source": [
    "'''\n",
    "\n",
    "messages = client.beta.threads.messages.list(\n",
    "    thread_id = thread.id   \n",
    ")\n",
    "\n",
    "def find_message_by_id(messages, message_id):\n",
    "    for message in messages:\n",
    "        if message['id'] == message_id:\n",
    "            return message\n",
    "    return None\n",
    "\n",
    "result = find_message_by_id(messages.data, message.id)\n",
    "if result:\n",
    "    audio = elevenlabs.generate(\n",
    "        text = result.content[0].text.value,\n",
    "        voice = \"vDxT1hhO5CjgzUI7e2vF\"\n",
    "    )\n",
    "\n",
    "    elevenlabs.play(audio)\n",
    "else:\n",
    "    print(\"Message not found\")\n",
    "\n",
    "'''"
   ]
  }
 ],
 "metadata": {
  "kernelspec": {
   "display_name": "Python 3 (ipykernel)",
   "language": "python",
   "name": "python3"
  },
  "language_info": {
   "codemirror_mode": {
    "name": "ipython",
    "version": 3
   },
   "file_extension": ".py",
   "mimetype": "text/x-python",
   "name": "python",
   "nbconvert_exporter": "python",
   "pygments_lexer": "ipython3",
   "version": "3.12.0"
  }
 },
 "nbformat": 4,
 "nbformat_minor": 5
}
