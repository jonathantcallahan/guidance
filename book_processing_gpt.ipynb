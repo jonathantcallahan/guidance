{
  "cells": [
    {
      "cell_type": "markdown",
      "metadata": {
        "colab_type": "text",
        "id": "view-in-github"
      },
      "source": [
        "<a href=\"https://colab.research.google.com/github/jonathantcallahan/guidance/blob/main/book_processing_gpt.ipynb\" target=\"_parent\"><img src=\"https://colab.research.google.com/assets/colab-badge.svg\" alt=\"Open In Colab\"/></a>"
      ]
    },
    {
      "cell_type": "code",
      "execution_count": null,
      "metadata": {
        "colab": {
          "base_uri": "https://localhost:8080/"
        },
        "id": "QFy5tIxFFQgw",
        "outputId": "6e35ade9-e92a-474c-d2e5-56c9b12d07e2"
      },
      "outputs": [],
      "source": [
        "%pip install openai\n",
        "%pip install getpass\n",
        "%pip install pypdf"
      ]
    },
    {
      "cell_type": "code",
      "execution_count": 9,
      "metadata": {
        "id": "WT7J6KmGcx1d"
      },
      "outputs": [],
      "source": [
        "import openai\n",
        "from openai import OpenAI\n",
        "import os\n",
        "\n",
        "client = OpenAI()"
      ]
    },
    {
      "cell_type": "code",
      "execution_count": 12,
      "metadata": {},
      "outputs": [],
      "source": [
        "training_json = []"
      ]
    },
    {
      "cell_type": "code",
      "execution_count": 28,
      "metadata": {},
      "outputs": [],
      "source": [
        "def store_json(chunk, targ):\n",
        "    json_obj = { \"instruction\" : \"\", \"input\" : \"\", \"output\" : chunk }\n",
        "    targ.append(json_obj)"
      ]
    },
    {
      "cell_type": "code",
      "execution_count": 33,
      "metadata": {
        "id": "Jamc1K3eCBeV"
      },
      "outputs": [],
      "source": [
        "def chunk_gpt(text, targ):\n",
        "    response = client.chat.completions.create(\n",
        "        model=\"gpt-4o\",\n",
        "        messages=[\n",
        "            {\"role\": \"system\", \"content\": \"You are a document processor used to create fine-tuning data. You will receive 5000 characters worth of a book, and extract portions of text that would be coherent as the answer to a theoretical, unspecified question. Each answer can be up to 200 words. The cohesive answers within the text may directly following each other and there may be space between them that needs to be removed. The response you provide should strictly be the series of cohesive thoughts identified within the content separated by line breaks. Minor grammatical may be made as needed. \"},\n",
        "            {\"role\": \"user\", \"content\": f\"Extract chunks of text from this page that would be coherent as responses to an unspecified question. :\\n\\n{text}\"}\n",
        "        ]\n",
        "    )\n",
        "    store_json(response.choices[0].message.content.strip().split('\\n'), targ)"
      ]
    },
    {
      "cell_type": "code",
      "execution_count": 27,
      "metadata": {},
      "outputs": [
        {
          "name": "stdout",
          "output_type": "stream",
          "text": [
            "45\n",
            "['Alan W. Watts_ Joan Watts_ Anne Watts - -New World Library (2018)_djvu.txt', 'Alan Watts in the academy, essays and lecture (2017)_djvu.txt', 'Alan Watts_ Mark Watts - Talking Zen_ Reflections on Mind, Myth, and the Magic of Life-Shambhala (2022)_djvu.txt', 'Alan-Watts-Mark-Watts-Talking-Zen_djvu.txt', 'Columbus, Peter (ed.) - Alan Watts_ In the Academy (SUNY, 2017)_djvu.txt', 'Snelling, John (ed.) - Early Writings of Alan Watts (Celestial Arts, 1987)_djvu.txt', 'Watts, Alan - Become What You Are (Shambhala, 2014)_djvu.txt', 'Watts, Alan - Behold the Spirit (Vintage, 2011)_djvu.txt', 'Watts, Alan - Beyond Theology (Vintage, 1973)_djvu.txt', 'Watts, Alan - Book, The (Vintage, 1989)_djvu.txt', 'Watts, Alan - Buddhism_ The Religion of No-Religion (Tuttle, 1999)_djvu.txt', 'Watts, Alan - Cloud-Hidden, Whereabouts Unknown (Vintage, 1974)_djvu.txt', 'Watts, Alan - Does It Matter (New World Library, 2007)_djvu.txt', 'Watts, Alan - Eastern Wisdom (MJF, 2000)_djvu.txt', 'Watts, Alan - Eastern Wisdom, Modern Life (New World Library, 2006)_djvu.txt', 'Watts, Alan - Essence of Alan Watts (Celestial Arts, 1977)_djvu.txt', 'Watts, Alan - Essential Alan Watts (Celestial Arts, 1977)_djvu.txt', 'Watts, Alan - In My Own Way (New World Library, 2007)_djvu.txt', 'Watts, Alan - Joyous Cosmology (New World Library, 2013)_djvu.txt', 'Watts, Alan - Legacy of Asia and Western Man (John Murray, 1937)_djvu.txt', 'Watts, Alan - Meaning of Happiness (New World Library, 2018)_djvu.txt', 'Watts, Alan - Myth and Religion (Tuttle, 1996)_djvu.txt', 'Watts, Alan - Myth and Ritual in Christianity (Grove, 1960)_djvu.txt', 'Watts, Alan - Nature, Man and Woman (Vintage, 1991)_djvu.txt', 'Watts, Alan - Out of the Trap (And Books, 1985)_djvu.txt', 'Watts, Alan - Out of Your Mind (Sounds True, 2017)_djvu.txt', 'Watts, Alan - Philosophies of Asia (Tuttle, 1999)_djvu.txt', 'Watts, Alan - Play to Live (And Books, 1982)_djvu.txt', 'Watts, Alan - Psychotherapy East & West (New World Library, 2017)_djvu.txt', 'Watts, Alan - Spirit of Zen, The (Grove, 1960)_djvu.txt', 'Watts, Alan - Still the Mind (New World Library, 2002)_djvu.txt', 'Watts, Alan - Talking Zen (Weatherhill, 1994)_djvu.txt', 'Watts, Alan - Tao of Philosophy (Tuttle, 1995)_djvu.txt', 'Watts, Alan - Taoism_ Way Beyond Seeking (Tuttle, 1998)_djvu.txt', 'Watts, Alan - Tao_ The Watercourse Way (Souvenir, 2011)_djvu.txt', 'Watts, Alan - This Is It (Vintage, 1973)_djvu.txt', 'Watts, Alan - Two Hands of God, The (Braziller, 1963)_djvu.txt', 'Watts, Alan - Way of Liberation, The (Weatherhill,  1983)_djvu.txt', 'Watts, Alan - Way of Zen, The (Vintage, 1989)_djvu.txt', 'Watts, Alan - What Is Tao (New World Library, 2000)_djvu.txt', 'Watts, Alan - What Is Zen (New World Library, 2000)_djvu.txt', 'Watts, Alan - Wisdom of Insecurity (Vintage, 2011)_djvu.txt', 'Watts, Alan - Zen (New World Library, 2019)_djvu.txt', 'Watts, Alan - Zen and the Beat Way (Tuttle, 1997)_djvu.txt', 'Watts, Joan (ed.) - Collected Letters of Alan Watts (New World Library, 2017)_djvu.txt']\n"
          ]
        }
      ],
      "source": [
        "filenames = []\n",
        "\n",
        "for filename in os.listdir('books'):\n",
        "    filenames.append(filename)\n",
        "\n",
        "print(len(filenames))\n",
        "print(filenames)"
      ]
    },
    {
      "cell_type": "code",
      "execution_count": 32,
      "metadata": {
        "colab": {
          "base_uri": "https://localhost:8080/"
        },
        "id": "xqx-WPBPSm2N",
        "outputId": "a05ea8aa-6842-4f03-e2ab-775219d9e9e9"
      },
      "outputs": [
        {
          "name": "stdout",
          "output_type": "stream",
          "text": [
            "chunks: 197\n",
            "Alan Watis- CSSdy5 and 9 ¥ - . Edited and with Br introduction by j Peter J. Columbus and Donadrian L. Rice 4 L SEK VE, HB Vig Coe ie SUNY SERIES IN TRANSPERSONAL AND HUMANISTIC PSYCHOLOGY Richard D. Mann, editor SE SO, MWe OL Otebio essays and lectures Edited and with an introduction by Peter J. Columbus and Donadrian L. Rice On the cover: Portrait of Alan Watts by Fred Richards—Daishi, from the artist’s collection. Published by STATE UNIVERSITY OF NEW YORK PRESS Albany © 2017 State University of New York All rights reserved Printed in the United States of America No part of this book may be used or reproduced in any manner whatsoever without written permission. No part of this book may be stored in a retrieval system or transmitted in any form or by any means including electronic, electrostatic, magnetic tape, mechanical, photocopying, recording, or otherwise without the prior permission in writing of the publisher. For information, contact State University of New York Press www.sunypress.edu Production, Dana Foote Marketing, Anne M. Valentine Library of Congress Cataloging-in-Publication Data Names: Watts, Alan, 1915-1973, author. | Columbus, Peter J., editor. | Rice, Donadrian L., editor. Title: Alan Watts—in the academy : essays and lectures / by Alan Watts ; edited and with an introduction by Peter J. Columbus and Donadrian L. Rice. Description: Albany, NY : State University of New York Press, 2017. | Series: SUNY series in transpersonal and humanistic psychology | Includes bibliographical references and index. Identifiers: LCCN 2016031500 (print) | LCCN 2017008164 (ebook) ISBN 9781438465555 (hardcover : alk. paper) | ISBN 9781438465562 (ebook) Subjects: LCSH: Philosophy. Classification: LCC B945 .W321 2017 (print) | LCC B945 (ebook) | DDC 191—dc23 LC record available at https://Iccn.loc.gov/2016031500 TO: 9 68 27 96 ~D of 3B 2 Contents List of Illustrations ix Editors’ Preface xi Introduction: Alan Watts and the Academic Enterprise 1 Peter J. Columbus and Donadrian L. Rice PART ONE LANGUAGE AND MYSTICISM CHAPTER ONE On the Meaning and Relation of Absolute and Relative (1950) 45 CHAPTER TWO The Negative Way (1951) 63 CHAPTER THREE The Language of Metaphysical Experience: The Sense of Non-Sense (1953) 67 CHAPTER FOUR On Philosophical Synthesis (1953) 79 CHAPTER FIVE Philosophy beyond Words (1975) 81 vi CONTENTS PART TWO BUDDHISM AND ZEN CHAPTER SIX The Problem of Faith and Works in Buddhism (1941) CHAPTER SEVEN Zen (1948) CHAPTER EIGHT The Way of Liberation in Zen Buddhism (1955) CHAPTER NINE Beat Zen, Square Zen, and Zen (1958) CHAPTER TEN Zen and Politics (1962) CHAPTER ELEVEN Prefatory Essay to Suzuki's Outlines of Mahayana Buddhism (1963) PART THREE CHRISTIANITY CHAPTER TWELVE Theologia Mystica: Being the Treatise of Saint Dionysius Pseudo-Areopagite on Mystical Theology, Together with the First and Fifth Epistles (1944) CHAPTER THIRTEEN The Case for God (1946) CHAPTER FOURTEEN The Meaning of Priesthood (1946) CHAPTER FIFTEEN The Christian Doctrine of Marriage (1946) PART FOUR COMPARATIVE RELIGION CHAPTER SIXTEEN Worship in Sacrament and Silence (1964/1971) 91 107 127 143 151 155 167 183 193 205 219 CONTENTS CHAPTER SEVENTEEN Western Mythology: Its Dissolution and Transformation (1970) CHAPTER EIGHTEEN The Future of Religion (1970) CHAPTER NINETEEN Unity in Contemplation (1974) PART FIVE PSYCHEDELICS CHAPTER TWENTY The Individual as Man/World (1963) CHAPTER TWENTY-ONE A Psychedelic Experience: Fact or Fantasy? (1964) CHAPTER TWENTY-TWO Psychedelics and Religious Experience (1968) CHAPTER TWENTY-THREE Ordinary Mind Is the Way (1971) PART SIX PSYCHOLOGY AND PSYCHOTHERAPY CHAPTER TWENTY-FOUR Asian Psychology and Modern Psychiatry (1953) CHAPTER TWENTY-FIVE Convention, Conflict, and Liberation: Further Observations on Asian Psychology and Modern Psychiatry (1956) CHAPTER TWENTY-SIX Eternity as the Unrepressed Body (1959) CHAPTER TWENTY-SEVEN Oriental and Occidental Approaches to the Nature of Man (1962) CHAPTER TWENTY-EIGHT The Woman in Man (1963) vii 229 241 251 263 273 285 297 303 311 319 327 331 viii CONTENTS CHAPTER TWENTY-NINE An Interview with Alan Watts (1969) (with Philip D. Ungerer) CHAPTER THIRTY Psychotherapy and Eastern Religion: Metaphysical Bases of Psychiatry (1974) Appendix: Academic and Literary Reviews of Watts’ Major Texts About the Contributors Index 339 349 361 369 371 1.1. 1.2. 1.3. 1.4. 1,5. 1.6. 1.7. 1.8. 1,9. Fads 7.2. 7.3. 7.4. 7.5. Illustrations A Necker Cube representing a three-dimensional perspective. A square representing a two-dimensional perspective. A Necker Cube representing acquisition of a three-dimensional perspective. A tesseract representing a four-dimensional perspective. “The First Cause.” Events in time radiating from the First Cause. Relations of time and eternity. The absolute-relative relationship. An incorrect view of the absolute-relative relationship. The Chinese character for “Zen.” Drawing of Bodhidharma, based on painting by Soga Josaku (15th cent.). \n"
          ]
        }
      ],
      "source": [
        "chunk_size = 5000\n",
        "text_chunks = []\n",
        "\n",
        "for i in range (1,2):\n",
        "    \n",
        "    with open(f'books/{filenames[i]}', 'r', encoding='utf-8', errors='replace') as file:\n",
        "        content = file.read().replace('\\n','')\n",
        "\n",
        "        text_chunks += [content[i:i + chunk_size] for i in range(0, len(content), chunk_size)]\n",
        "        print(f'chunks: {len(text_chunks)}')\n",
        "        print(text_chunks[0])"
      ]
    },
    {
      "cell_type": "code",
      "execution_count": 34,
      "metadata": {},
      "outputs": [],
      "source": [
        "processed_json = []\n",
        "\n",
        "for chunk in text_chunks:\n",
        "    gpt_output = chunk_gpt(chunk, processed_json)"
      ]
    },
    {
      "cell_type": "code",
      "execution_count": null,
      "metadata": {},
      "outputs": [],
      "source": []
    }
  ],
  "metadata": {
    "colab": {
      "authorship_tag": "ABX9TyORdGX/o0kYsZlGIyCOuat2",
      "include_colab_link": true,
      "provenance": []
    },
    "kernelspec": {
      "display_name": "Python 3",
      "name": "python3"
    },
    "language_info": {
      "codemirror_mode": {
        "name": "ipython",
        "version": 3
      },
      "file_extension": ".py",
      "mimetype": "text/x-python",
      "name": "python",
      "nbconvert_exporter": "python",
      "pygments_lexer": "ipython3",
      "version": "3.12.0"
    }
  },
  "nbformat": 4,
  "nbformat_minor": 0
}
