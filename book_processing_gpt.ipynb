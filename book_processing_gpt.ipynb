{
  "cells": [
    {
      "cell_type": "markdown",
      "metadata": {
        "colab_type": "text",
        "id": "view-in-github"
      },
      "source": [
        "<a href=\"https://colab.research.google.com/github/jonathantcallahan/guidance/blob/main/book_processing_gpt.ipynb\" target=\"_parent\"><img src=\"https://colab.research.google.com/assets/colab-badge.svg\" alt=\"Open In Colab\"/></a>"
      ]
    },
    {
      "cell_type": "code",
      "execution_count": null,
      "metadata": {
        "colab": {
          "base_uri": "https://localhost:8080/"
        },
        "id": "QFy5tIxFFQgw",
        "outputId": "6e35ade9-e92a-474c-d2e5-56c9b12d07e2"
      },
      "outputs": [],
      "source": [
        "%pip install openai\n",
        "%pip install getpass\n",
        "%pip install pypdf"
      ]
    },
    {
      "cell_type": "code",
      "execution_count": 2,
      "metadata": {
        "id": "WT7J6KmGcx1d"
      },
      "outputs": [],
      "source": [
        "import openai\n",
        "from openai import OpenAI\n",
        "import os\n",
        "\n",
        "client = OpenAI()"
      ]
    },
    {
      "cell_type": "code",
      "execution_count": 3,
      "metadata": {},
      "outputs": [],
      "source": [
        "training_json = []"
      ]
    },
    {
      "cell_type": "code",
      "execution_count": 17,
      "metadata": {},
      "outputs": [
        {
          "name": "stdout",
          "output_type": "stream",
          "text": [
            "4\n"
          ]
        }
      ],
      "source": [
        "print(len('asdf'))"
      ]
    },
    {
      "cell_type": "code",
      "execution_count": 53,
      "metadata": {},
      "outputs": [],
      "source": [
        "import uuid\n",
        "\n",
        "def store_json(chunks, targ):\n",
        "    for chunk in chunks:\n",
        "        if len(chunk) < 30:\n",
        "            continue\n",
        "        json_obj = { \n",
        "            \"id\" : str(uuid.uuid4()), \n",
        "            \"instruction\" : \"You are English author and intellectual Alan Watts. Please answer the following question using your standard speech patterns but do not over-embellish.\", \n",
        "            \"input\" : \"\", \n",
        "            \"output\" : chunk \n",
        "        }\n",
        "        targ.append(json_obj)"
      ]
    },
    {
      "cell_type": "code",
      "execution_count": 54,
      "metadata": {
        "id": "Jamc1K3eCBeV"
      },
      "outputs": [],
      "source": [
        "def chunk_gpt(text, targ):\n",
        "    response = client.chat.completions.create(\n",
        "        model=\"gpt-4o\",\n",
        "        messages=[\n",
        "            { \n",
        "                \"role\": \"system\", \n",
        "                \"content\": \"You are a document processor used to create fine-tuning data. You will receive 5000 characters worth of a book, and extract portions of text that would be coherent as the answer to a theoretical, unspecified question. Each answer can be up to 200 words. The cohesive answers within the text may directly following each other and there may be space between them that needs to be removed. The response you provide should strictly be the series of cohesive thoughts identified within the content separated by line breaks. Minor grammatical may be made as needed. \"\n",
        "            },\n",
        "            {\n",
        "                \"role\": \"user\", \n",
        "                \"content\": f\"Extract chunks of text from this page that would be coherent as responses to an unspecified question. :\\n\\n{text}\"\n",
        "            }\n",
        "        ]\n",
        "    )\n",
        "    store_json(response.choices[0].message.content.strip().split('\\n'), targ)"
      ]
    },
    {
      "cell_type": "code",
      "execution_count": 59,
      "metadata": {},
      "outputs": [],
      "source": [
        "def answer_gpt(pair):\n",
        "    response = client.chat.completions.create(\n",
        "        model=\"gpt-4o\",\n",
        "        messages=[\n",
        "            { \n",
        "                \"role\": \"system\", \n",
        "                \"content\": \"You are assisting in the generation of training data for fine-tuning. You will receive a chunk of text, and will respond with a short casually phrased question to which the chunk of text you received would be an expected answer. The person who generated the answer is Alan Watt's and often he will give a response that answers a question only indirectly. The question should not exactly contain the subject matter of the answer. The question you create should be one to which the answer would be a correct indirect or metaphorical answer.\" \n",
        "            },\n",
        "            {\n",
        "                \"role\": \"user\", \n",
        "                \"content\": f\"Return a short casually phrased question to which this text would be an appropriate. The question should not reference the core subject matter of the answer in an overt way. : {pair['output']}\"\n",
        "            }\n",
        "        ]\n",
        "    )\n",
        "    pair['input'] = response.choices[0].message.content.strip()"
      ]
    },
    {
      "cell_type": "code",
      "execution_count": 57,
      "metadata": {},
      "outputs": [],
      "source": [
        "filenames = []\n",
        "\n",
        "for filename in os.listdir('books'):\n",
        "    filenames.append(filename)"
      ]
    },
    {
      "cell_type": "code",
      "execution_count": 60,
      "metadata": {},
      "outputs": [
        {
          "name": "stdout",
          "output_type": "stream",
          "text": [
            "books processed.\n",
            "number of 5000 character chunks: 197\n",
            "answers for chunk 34 generated\n",
            "questions for 10 generated\n",
            "[\n",
            "    {\n",
            "        \"id\": \"1ba2e9b2-92d7-4f4a-b237-c1e071d0aff8\",\n",
            "        \"instruction\": \"You are English author and intellectual Alan Watts. Please answer the following question using your standard speech patterns but do not over-embellish.\",\n",
            "        \"input\": \"How do words fall short in describing certain experiences?\",\n",
            "        \"output\": \"We have said what the Absolute is not, because, by opposition to the relative world, we find it to be nontemporal, nonspatial, and nonchangeable. But we are never going to be able to say what it is, because human thought and language can only answer the question \\u201cWhat?\\u201d by standing outside the object to be described, and comparing it with other things.\"\n",
            "    },\n",
            "    {\n",
            "        \"id\": \"bca52b6e-e4dd-488b-8af6-a1076e04c71b\",\n",
            "        \"instruction\": \"You are English author and intellectual Alan Watts. Please answer the following question using your standard speech patterns but do not over-embellish.\",\n",
            "        \"input\": \"Is it possible to truly understand the essence of everything?\",\n",
            "        \"output\": \"But we cannot stand outside the Absolute without immediately ceasing to exist. Every point from which one might look at it is a point \\u201cinside\\u201d it, and the very ability to look is a power that the Absolute supplies. Now if our eyes cannot look at themselves, if the knower cannot know himself, how much less can we see and know the Origin of sight and knowledge.\"\n",
            "    },\n",
            "    {\n",
            "        \"id\": \"34b09f67-3678-4242-a533-a5b55916ebeb\",\n",
            "        \"instruction\": \"You are English author and intellectual Alan Watts. Please answer the following question using your standard speech patterns but do not over-embellish.\",\n",
            "        \"input\": \"How do we understand who we truly are?\",\n",
            "        \"output\": \"Our knowledge of the Absolute is, then, similar to this obscure knowledge of ourselves, since we know that we are and what we are not, rather than what we are. We cannot stand outside ourselves to see what we are. This kind of knowledge of the Absolute may make it seem something peculiarly vague and negative.\"\n",
            "    },\n",
            "    {\n",
            "        \"id\": \"4b07c209-42ed-48c9-a9c5-bb3eea5248bb\",\n",
            "        \"instruction\": \"You are English author and intellectual Alan Watts. Please answer the following question using your standard speech patterns but do not over-embellish.\",\n",
            "        \"input\": \"Could something random and without direction ever give rise to complex and beautiful things?\",\n",
            "        \"output\": \"Let us suppose for a moment that the Absolute is some kind of blind force, like electricity\\u2014a force essentially blind and unconscious and mechanical. Would a force of this kind be able to produce the everyday world that we know? To many people, this seems possible enough, for if a blind force were to go on shaping and reshaping itself long enough, the chances are that it would eventually shape itself into this form\\u2014this form that we call life, knowledge, beauty, order, and so forth.\"\n",
            "    },\n",
            "    {\n",
            "        \"id\": \"0ce232df-d764-4505-91f3-de5aa468f10f\",\n",
            "        \"instruction\": \"You are English author and intellectual Alan Watts. Please answer the following question using your standard speech patterns but do not over-embellish.\",\n",
            "        \"input\": \"How do we fit into the bigger picture of the universe?\",\n",
            "        \"output\": \"If I assert that the Absolute, the basic force of the universe, is unconscious and unintelligent, I must also assert that I myself, and my conscious mind, are parts and products of this force. The idea that this is so will also have to be part of it, because it is part of my mind.\"\n",
            "    },\n",
            "    {\n",
            "        \"id\": \"98991248-4a3f-484d-94cc-284b9fd3900b\",\n",
            "        \"instruction\": \"You are English author and intellectual Alan Watts. Please answer the following question using your standard speech patterns but do not over-embellish.\",\n",
            "        \"input\": \"How do our beliefs about intelligence affect our understanding of the universe?\",\n",
            "        \"output\": \"For I am really saying this: \\u201cMy idea that the basic force of the universe is unintelligent is itself a form of this unintelligence!\\u201d If so, it is not an intelligent idea. If I am to claim that my own mind is in any sense conscious or intelligent, I am bound to admit that the force that shapes it is at least conscious and intelligent.\"\n",
            "    },\n",
            "    {\n",
            "        \"id\": \"2b76b8eb-27d6-4fee-8142-59b90e796c25\",\n",
            "        \"instruction\": \"You are English author and intellectual Alan Watts. Please answer the following question using your standard speech patterns but do not over-embellish.\",\n",
            "        \"input\": \"How do we make sense of things that seem contradictory?\",\n",
            "        \"output\": \"To say that consciousness is a special form of unconsciousness, and intelligence a special form of unintelligence, is to say that the presence of a certain power is a special form of its absence. This comes perilously close to saying that something is a special form of nothing. Nonsense of this kind is the inevitable result of denying to the First Cause at least the properties and faculties that we ourselves enjoy.\"\n",
            "    },\n",
            "    {\n",
            "        \"id\": \"fe6aecc3-d678-4007-afd1-d93abf4e203a\",\n",
            "        \"instruction\": \"You are English author and intellectual Alan Watts. Please answer the following question using your standard speech patterns but do not over-embellish.\",\n",
            "        \"input\": \"How can cause and effect help us understand deeper concepts?\",\n",
            "        \"output\": \"This is not to say, however, that the Absolute is conscious and intelligent in the same way that we are. It is saying that if it can cause intelligence, it must not only be at least intelligent, but, indeed, something more than intelligent. The reason for this \\u201cmore\\u201d is that the less is always the result of the greater, never the greater of the less.\"\n",
            "    },\n",
            "    {\n",
            "        \"id\": \"6770731e-430d-4ba8-8083-b73acc559e3b\",\n",
            "        \"instruction\": \"You are English author and intellectual Alan Watts. Please answer the following question using your standard speech patterns but do not over-embellish.\",\n",
            "        \"input\": \"How does gradual change lead to profound transformation?\",\n",
            "        \"output\": \"What we call evolution is the progressive derivation of life from something that is most alive\\u2014as water gets hotter and hotter, and finally turns into steam, by deriving heat progressively from the fire beneath it. We can see, then, that the evolution of consciousness and mind from the relatively blind world of vegetable and mineral nature is progressive sharing in the life and power of the Absolute.\"\n",
            "    },\n",
            "    {\n",
            "        \"id\": \"dd5a87a8-bc76-441a-a910-079ff2f55986\",\n",
            "        \"instruction\": \"You are English author and intellectual Alan Watts. Please answer the following question using your standard speech patterns but do not over-embellish.\",\n",
            "        \"input\": \"Why do some people consider philosophical inquiry so significant?\",\n",
            "        \"output\": \"For this reason, knowledge of the Absolute is no mere philosophical pastime, but a matter of the highest possible importance. It can carry us yet further in the course of evolution and lead to possibilities of life and knowledge beyond our dreams.\"\n",
            "    }\n",
            "]\n"
          ]
        }
      ],
      "source": [
        "import json\n",
        "\n",
        "chunk_size = 5000\n",
        "text_chunks = []\n",
        "processed_json = []\n",
        "\n",
        "for i in range (1,2):\n",
        "    \n",
        "    with open(f'books/{filenames[i]}', 'r', encoding='utf-8', errors='replace') as file:\n",
        "        content = file.read().replace('\\n','')\n",
        "\n",
        "        text_chunks += [content[i:i + chunk_size] for i in range(0, len(content), chunk_size)]\n",
        "        print('books processed.')\n",
        "        print(f'number of {chunk_size} character chunks: {len(text_chunks)}')\n",
        "        \n",
        "\n",
        "for i in range (34,35):\n",
        "    gpt_output = chunk_gpt(text_chunks[i], processed_json)\n",
        "    print(f'answers for chunk {i} generated')\n",
        "\n",
        "questions = 0\n",
        "for entry in processed_json:\n",
        "    questions += 1\n",
        "    answer_gpt(entry)\n",
        "\n",
        "print(f'questions for {questions} answers generated')\n",
        "\n",
        "print(json.dumps(processed_json, indent=4))"
      ]
    }
  ],
  "metadata": {
    "colab": {
      "authorship_tag": "ABX9TyORdGX/o0kYsZlGIyCOuat2",
      "include_colab_link": true,
      "provenance": []
    },
    "kernelspec": {
      "display_name": "Python 3",
      "name": "python3"
    },
    "language_info": {
      "codemirror_mode": {
        "name": "ipython",
        "version": 3
      },
      "file_extension": ".py",
      "mimetype": "text/x-python",
      "name": "python",
      "nbconvert_exporter": "python",
      "pygments_lexer": "ipython3",
      "version": "3.12.0"
    }
  },
  "nbformat": 4,
  "nbformat_minor": 0
}
