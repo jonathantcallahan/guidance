{
 "cells": [
  {
   "cell_type": "code",
   "execution_count": null,
   "metadata": {},
   "outputs": [],
   "source": [
    "%pip install -U weaviate-client\n",
    "%pip install python-dotenv  \n",
    "%pip install pandas"
   ]
  },
  {
   "cell_type": "code",
   "execution_count": 17,
   "metadata": {},
   "outputs": [],
   "source": [
    "import weaviate\n",
    "import weaviate.classes as wvc\n",
    "import json\n",
    "import os\n",
    "import requests\n",
    "import pandas as pd\n",
    "from dotenv import load_dotenv"
   ]
  },
  {
   "cell_type": "code",
   "execution_count": 12,
   "metadata": {},
   "outputs": [],
   "source": [
    "load_dotenv()\n",
    "\n",
    "client = weaviate.connect_to_weaviate_cloud(\n",
    "    cluster_url = os.getnenv(\"CLUSTER_URL\"),\n",
    "    auth_credentials = weaviate.auth.AuthApiKey(os.getenv(\"WEAVIATE_API_KEY\")),\n",
    "    headers = {\n",
    "        \"X-OpenAI-Api-Key\": os.getenv(\"OPENAI_AI_KEY\")\n",
    "    }\n",
    ")"
   ]
  },
  {
   "cell_type": "code",
   "execution_count": 14,
   "metadata": {},
   "outputs": [],
   "source": [
    "questions = client.collections.create(\n",
    "    name=\"Question\",\n",
    "    vectorizer_config=wvc.config.Configure.Vectorizer.text2vec_openai(),\n",
    "    generative_config=wvc.config.Configure.Generative.openai()\n",
    ")"
   ]
  },
  {
   "cell_type": "code",
   "execution_count": 52,
   "metadata": {},
   "outputs": [],
   "source": [
    "df = pd.read_json('book_documents.json', lines=True)\n",
    "block_list = df.iloc[:,0].tolist()"
   ]
  },
  {
   "cell_type": "code",
   "execution_count": 66,
   "metadata": {},
   "outputs": [
    {
     "data": {
      "text/plain": [
       "BatchObjectReturn(all_responses=[UUID('8dbc50cf-6e9f-4ab5-bed5-88263c88c2cb'), UUID('d85f902b-0c1f-4dca-aaeb-0a0fe3ead73f'), UUID('91564432-b426-453d-87a9-d66c39d0bf27'), UUID('737e953b-a2b0-40c4-81fe-667cb99b2602'), UUID('e257673d-281e-4798-b9eb-bd4d5003e3de'), UUID('d6815c4d-28df-4ba8-9903-b6d7e8cd54c6'), UUID('6c516db4-d4ed-4378-9125-17db25af56be'), UUID('c1894c23-9477-4067-8f11-7a412d6e7e0a'), UUID('7eb1e7d3-790e-48ce-a947-a9adc57c7ac6'), UUID('46cb563c-842e-44a9-bec0-53f77c917627'), UUID('950a7dbc-0c10-46a4-b665-cbbb3da9ae6f'), UUID('79b071eb-275b-4c07-9ef2-d55b7565a0b5'), UUID('c10d034d-ca4f-4957-b3ef-2d72f3e8f4ec'), UUID('028f1edd-c66e-4224-8df6-7da3fb31eb15'), UUID('f12b2cd1-e311-4b58-9a83-e0b3ad299889'), UUID('588a91b8-ab13-4691-af8e-b4a66f0fd834'), UUID('e6a14fbb-48ed-4864-aeb7-08d319f5bc67'), UUID('3d8d3a18-5a98-4972-a224-1083dcc4a1a1'), UUID('dfcb84b0-34b2-4916-a3de-fcd27c03ee32'), UUID('9c71ffdb-06c0-4803-a94d-2d4d4396c19e'), UUID('55134b66-3e67-4f63-9a99-4e286407369d'), UUID('b71b59b6-985d-43cd-8e68-dc2d2d70339e'), UUID('3091f7fa-0fef-4312-aa04-a9ba582789fb'), UUID('a0b91864-c3d8-4fe8-924a-b9cd486a7842'), UUID('aba19314-d342-427e-a0d7-4d9c5d2a75a6'), UUID('5a4604e2-9b37-42ef-844c-931192217ba3'), UUID('0196770d-a08d-4b92-8f7e-c5e39a7a5bbf'), UUID('abd354ae-2e5b-4536-b77d-be24e8d48890'), UUID('6e21d269-f254-47ff-a514-e10ff97623cd'), UUID('cb7fe1f2-2f3d-4b51-b6f3-2d81a9948b1b'), UUID('844518fb-037b-44dc-bff7-eca649130d11'), UUID('0e600a9c-8486-4e67-bb72-e8292592ad59'), UUID('0f679de9-139a-4390-bef3-b6ee4fb47a45'), UUID('02e3ab80-73f8-4418-9350-2736427b26ff'), UUID('3cd406af-f4de-4b0e-9481-0413d1e88549'), UUID('c23b769f-8b61-49a8-a531-48bd4b9fc3e7'), UUID('14be4820-c4e4-4f36-bb90-130ebd0ab6be'), UUID('83d23e9c-6da9-4773-bd9e-b82646cff738'), UUID('95fe442e-be30-4af3-b09f-e467635608a6'), UUID('e000b220-2078-4794-8fee-0ebc4921480a'), UUID('1b9d29a8-0b8b-411a-9ad8-cb603cfb433a'), UUID('2da15043-cedc-4e6a-8834-6b2bcb5a09b6'), UUID('615e76f6-7516-47f9-80b2-d734575d135f'), UUID('14de7354-2779-44b7-a551-98db918cb1a4'), UUID('206678fd-61aa-400c-93d2-e97c62dceafa'), UUID('a3f06354-dec8-4b0e-8436-9963a6ac3679'), UUID('b71eab03-a020-4208-85e3-22b124780315'), UUID('e8deb4b1-3a11-4553-80c8-44d75fc942dc'), UUID('885db7dd-25ce-42f5-a801-ea69c607afce'), UUID('5f8e356e-2d3f-4239-826e-85ada69ddc22')], elapsed_seconds=1.509929895401001, errors={}, uuids={0: UUID('8dbc50cf-6e9f-4ab5-bed5-88263c88c2cb'), 1: UUID('d85f902b-0c1f-4dca-aaeb-0a0fe3ead73f'), 2: UUID('91564432-b426-453d-87a9-d66c39d0bf27'), 3: UUID('737e953b-a2b0-40c4-81fe-667cb99b2602'), 4: UUID('e257673d-281e-4798-b9eb-bd4d5003e3de'), 5: UUID('d6815c4d-28df-4ba8-9903-b6d7e8cd54c6'), 6: UUID('6c516db4-d4ed-4378-9125-17db25af56be'), 7: UUID('c1894c23-9477-4067-8f11-7a412d6e7e0a'), 8: UUID('7eb1e7d3-790e-48ce-a947-a9adc57c7ac6'), 9: UUID('46cb563c-842e-44a9-bec0-53f77c917627'), 10: UUID('950a7dbc-0c10-46a4-b665-cbbb3da9ae6f'), 11: UUID('79b071eb-275b-4c07-9ef2-d55b7565a0b5'), 12: UUID('c10d034d-ca4f-4957-b3ef-2d72f3e8f4ec'), 13: UUID('028f1edd-c66e-4224-8df6-7da3fb31eb15'), 14: UUID('f12b2cd1-e311-4b58-9a83-e0b3ad299889'), 15: UUID('588a91b8-ab13-4691-af8e-b4a66f0fd834'), 16: UUID('e6a14fbb-48ed-4864-aeb7-08d319f5bc67'), 17: UUID('3d8d3a18-5a98-4972-a224-1083dcc4a1a1'), 18: UUID('dfcb84b0-34b2-4916-a3de-fcd27c03ee32'), 19: UUID('9c71ffdb-06c0-4803-a94d-2d4d4396c19e'), 20: UUID('55134b66-3e67-4f63-9a99-4e286407369d'), 21: UUID('b71b59b6-985d-43cd-8e68-dc2d2d70339e'), 22: UUID('3091f7fa-0fef-4312-aa04-a9ba582789fb'), 23: UUID('a0b91864-c3d8-4fe8-924a-b9cd486a7842'), 24: UUID('aba19314-d342-427e-a0d7-4d9c5d2a75a6'), 25: UUID('5a4604e2-9b37-42ef-844c-931192217ba3'), 26: UUID('0196770d-a08d-4b92-8f7e-c5e39a7a5bbf'), 27: UUID('abd354ae-2e5b-4536-b77d-be24e8d48890'), 28: UUID('6e21d269-f254-47ff-a514-e10ff97623cd'), 29: UUID('cb7fe1f2-2f3d-4b51-b6f3-2d81a9948b1b'), 30: UUID('844518fb-037b-44dc-bff7-eca649130d11'), 31: UUID('0e600a9c-8486-4e67-bb72-e8292592ad59'), 32: UUID('0f679de9-139a-4390-bef3-b6ee4fb47a45'), 33: UUID('02e3ab80-73f8-4418-9350-2736427b26ff'), 34: UUID('3cd406af-f4de-4b0e-9481-0413d1e88549'), 35: UUID('c23b769f-8b61-49a8-a531-48bd4b9fc3e7'), 36: UUID('14be4820-c4e4-4f36-bb90-130ebd0ab6be'), 37: UUID('83d23e9c-6da9-4773-bd9e-b82646cff738'), 38: UUID('95fe442e-be30-4af3-b09f-e467635608a6'), 39: UUID('e000b220-2078-4794-8fee-0ebc4921480a'), 40: UUID('1b9d29a8-0b8b-411a-9ad8-cb603cfb433a'), 41: UUID('2da15043-cedc-4e6a-8834-6b2bcb5a09b6'), 42: UUID('615e76f6-7516-47f9-80b2-d734575d135f'), 43: UUID('14de7354-2779-44b7-a551-98db918cb1a4'), 44: UUID('206678fd-61aa-400c-93d2-e97c62dceafa'), 45: UUID('a3f06354-dec8-4b0e-8436-9963a6ac3679'), 46: UUID('b71eab03-a020-4208-85e3-22b124780315'), 47: UUID('e8deb4b1-3a11-4553-80c8-44d75fc942dc'), 48: UUID('885db7dd-25ce-42f5-a801-ea69c607afce'), 49: UUID('5f8e356e-2d3f-4239-826e-85ada69ddc22')}, has_errors=False)"
      ]
     },
     "execution_count": 66,
     "metadata": {},
     "output_type": "execute_result"
    }
   ],
   "source": [
    "question_objs = list()\n",
    "\n",
    "for i in range(50,100):\n",
    "    question_objs.append({'text':block_list[i]})\n",
    "\n",
    "questions = client.collections.get(\"Question\")\n",
    "questions.data.insert_many(question_objs)\n",
    "    "
   ]
  },
  {
   "cell_type": "code",
   "execution_count": 67,
   "metadata": {},
   "outputs": [
    {
     "name": "stdout",
     "output_type": "stream",
     "text": [
      "{'text': 'We can see, then, that the evolution of consciousness and mind from the relatively blind world of vegetable and mineral nature is progressive sharing in the life and power of the Absolute. This implies that the more we are able to share in the life of the Absolute, the more conscious, the more intelligent, we can become. For this reason, knowledge of the Absolute is no mere philo- sophical pastime, but a matter of the highest possible importance. It can carry us yet further in the course of evolution, and lead to possibilities of life and knowledge beyond our dreams. '}\n",
      "\n",
      "QueryReturn(objects=[Object(uuid=_WeaviateUUIDInt('615e76f6-7516-47f9-80b2-d734575d135f'), metadata=MetadataReturn(creation_time=None, last_update_time=None, distance=None, certainty=None, score=None, explain_score=None, is_consistent=None, rerank_score=None), properties={'text': 'We can see, then, that the evolution of consciousness and mind from the relatively blind world of vegetable and mineral nature is progressive sharing in the life and power of the Absolute. This implies that the more we are able to share in the life of the Absolute, the more conscious, the more intelligent, we can become. For this reason, knowledge of the Absolute is no mere philo- sophical pastime, but a matter of the highest possible importance. It can carry us yet further in the course of evolution, and lead to possibilities of life and knowledge beyond our dreams. '}, references=None, vector={}, collection='Question'), Object(uuid=_WeaviateUUIDInt('2da15043-cedc-4e6a-8834-6b2bcb5a09b6'), metadata=MetadataReturn(creation_time=None, last_update_time=None, distance=None, certainty=None, score=None, explain_score=None, is_consistent=None, rerank_score=None), properties={'text': 'The reason for this “more” is that the less is always the result of the greater, never the greater of the less. Take, for example, the power of heat. Something that is merely warm does not, all by itself, become hot. More heat is not simply the result of less heat. The increase of heat must be derived from something most hot—such as fire. Similarly, more life (or more intelligence) does not just “evolve” all by itself from less life, or no life—for this would imply again the nonsense that the presence of a power is the result of its absence. What we call evolution is the progressive derivation of life from something that is most alive—as water gets hotter and hotter, and finally turns into steam, by deriving heat progressively from the fire beneath it. '}, references=None, vector={}, collection='Question')])\n"
     ]
    }
   ],
   "source": [
    "try:\n",
    "    pass\n",
    "    questions = client.collections.get(\"Question\")\n",
    "    response = questions.query.near_text(\n",
    "        query=\"biology\",\n",
    "        limit=2\n",
    "    )\n",
    "\n",
    "    print(f'{response.objects[0].properties}\\n')\n",
    "    print(response)\n",
    "\n",
    "finally:\n",
    "    client.close()\n",
    "    "
   ]
  }
 ],
 "metadata": {
  "kernelspec": {
   "display_name": "Python 3",
   "language": "python",
   "name": "python3"
  },
  "language_info": {
   "codemirror_mode": {
    "name": "ipython",
    "version": 3
   },
   "file_extension": ".py",
   "mimetype": "text/x-python",
   "name": "python",
   "nbconvert_exporter": "python",
   "pygments_lexer": "ipython3",
   "version": "3.12.0"
  }
 },
 "nbformat": 4,
 "nbformat_minor": 2
}
