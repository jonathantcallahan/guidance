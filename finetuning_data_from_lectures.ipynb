{
  "nbformat": 4,
  "nbformat_minor": 0,
  "metadata": {
    "colab": {
      "provenance": [],
      "authorship_tag": "ABX9TyNd1U93PoGtyE1uL7mlcZ2h",
      "include_colab_link": true
    },
    "kernelspec": {
      "name": "python3",
      "display_name": "Python 3"
    },
    "language_info": {
      "name": "python"
    }
  },
  "cells": [
    {
      "cell_type": "markdown",
      "metadata": {
        "id": "view-in-github",
        "colab_type": "text"
      },
      "source": [
        "<a href=\"https://colab.research.google.com/github/jonathantcallahan/guidance/blob/main/finetuning_data_from_lectures.ipynb\" target=\"_parent\"><img src=\"https://colab.research.google.com/assets/colab-badge.svg\" alt=\"Open In Colab\"/></a>"
      ]
    },
    {
      "cell_type": "code",
      "execution_count": null,
      "metadata": {
        "id": "Ucs3lSZ-q3IN",
        "colab": {
          "base_uri": "https://localhost:8080/"
        },
        "outputId": "f225374a-ecd8-40a3-dae6-5830239362f3"
      },
      "outputs": [
        {
          "output_type": "stream",
          "name": "stdout",
          "text": [
            "Collecting yt-dlp\n",
            "  Downloading yt_dlp-2024.4.9-py3-none-any.whl (3.1 MB)\n",
            "\u001b[2K     \u001b[90m━━━━━━━━━━━━━━━━━━━━━━━━━━━━━━━━━━━━━━━━\u001b[0m \u001b[32m3.1/3.1 MB\u001b[0m \u001b[31m10.2 MB/s\u001b[0m eta \u001b[36m0:00:00\u001b[0m\n",
            "\u001b[?25hCollecting brotli (from yt-dlp)\n",
            "  Downloading Brotli-1.1.0-cp310-cp310-manylinux_2_5_x86_64.manylinux1_x86_64.manylinux_2_12_x86_64.manylinux2010_x86_64.whl (3.0 MB)\n",
            "\u001b[2K     \u001b[90m━━━━━━━━━━━━━━━━━━━━━━━━━━━━━━━━━━━━━━━━\u001b[0m \u001b[32m3.0/3.0 MB\u001b[0m \u001b[31m20.0 MB/s\u001b[0m eta \u001b[36m0:00:00\u001b[0m\n",
            "\u001b[?25hRequirement already satisfied: certifi in /usr/local/lib/python3.10/dist-packages (from yt-dlp) (2024.2.2)\n",
            "Collecting mutagen (from yt-dlp)\n",
            "  Downloading mutagen-1.47.0-py3-none-any.whl (194 kB)\n",
            "\u001b[2K     \u001b[90m━━━━━━━━━━━━━━━━━━━━━━━━━━━━━━━━━━━━━━━━\u001b[0m \u001b[32m194.4/194.4 kB\u001b[0m \u001b[31m15.5 MB/s\u001b[0m eta \u001b[36m0:00:00\u001b[0m\n",
            "\u001b[?25hCollecting pycryptodomex (from yt-dlp)\n",
            "  Downloading pycryptodomex-3.20.0-cp35-abi3-manylinux_2_17_x86_64.manylinux2014_x86_64.whl (2.1 MB)\n",
            "\u001b[2K     \u001b[90m━━━━━━━━━━━━━━━━━━━━━━━━━━━━━━━━━━━━━━━━\u001b[0m \u001b[32m2.1/2.1 MB\u001b[0m \u001b[31m18.7 MB/s\u001b[0m eta \u001b[36m0:00:00\u001b[0m\n",
            "\u001b[?25hRequirement already satisfied: requests<3,>=2.31.0 in /usr/local/lib/python3.10/dist-packages (from yt-dlp) (2.31.0)\n",
            "Requirement already satisfied: urllib3<3,>=1.26.17 in /usr/local/lib/python3.10/dist-packages (from yt-dlp) (2.0.7)\n",
            "Collecting websockets>=12.0 (from yt-dlp)\n",
            "  Downloading websockets-12.0-cp310-cp310-manylinux_2_5_x86_64.manylinux1_x86_64.manylinux_2_17_x86_64.manylinux2014_x86_64.whl (130 kB)\n",
            "\u001b[2K     \u001b[90m━━━━━━━━━━━━━━━━━━━━━━━━━━━━━━━━━━━━━━━━\u001b[0m \u001b[32m130.2/130.2 kB\u001b[0m \u001b[31m3.8 MB/s\u001b[0m eta \u001b[36m0:00:00\u001b[0m\n",
            "\u001b[?25hRequirement already satisfied: charset-normalizer<4,>=2 in /usr/local/lib/python3.10/dist-packages (from requests<3,>=2.31.0->yt-dlp) (3.3.2)\n",
            "Requirement already satisfied: idna<4,>=2.5 in /usr/local/lib/python3.10/dist-packages (from requests<3,>=2.31.0->yt-dlp) (3.7)\n",
            "Installing collected packages: brotli, websockets, pycryptodomex, mutagen, yt-dlp\n",
            "Successfully installed brotli-1.1.0 mutagen-1.47.0 pycryptodomex-3.20.0 websockets-12.0 yt-dlp-2024.4.9\n",
            "Collecting vttformatter\n",
            "  Downloading vttformatter-2.11-py3-none-any.whl (6.1 kB)\n",
            "Requirement already satisfied: numpy in /usr/local/lib/python3.10/dist-packages (from vttformatter) (1.25.2)\n",
            "Installing collected packages: vttformatter\n",
            "Successfully installed vttformatter-2.11\n",
            "Collecting openai\n",
            "  Downloading openai-1.26.0-py3-none-any.whl (314 kB)\n",
            "\u001b[2K     \u001b[90m━━━━━━━━━━━━━━━━━━━━━━━━━━━━━━━━━━━━━━━━\u001b[0m \u001b[32m314.1/314.1 kB\u001b[0m \u001b[31m5.3 MB/s\u001b[0m eta \u001b[36m0:00:00\u001b[0m\n",
            "\u001b[?25hRequirement already satisfied: anyio<5,>=3.5.0 in /usr/local/lib/python3.10/dist-packages (from openai) (3.7.1)\n",
            "Requirement already satisfied: distro<2,>=1.7.0 in /usr/lib/python3/dist-packages (from openai) (1.7.0)\n",
            "Collecting httpx<1,>=0.23.0 (from openai)\n",
            "  Downloading httpx-0.27.0-py3-none-any.whl (75 kB)\n",
            "\u001b[2K     \u001b[90m━━━━━━━━━━━━━━━━━━━━━━━━━━━━━━━━━━━━━━━━\u001b[0m \u001b[32m75.6/75.6 kB\u001b[0m \u001b[31m8.5 MB/s\u001b[0m eta \u001b[36m0:00:00\u001b[0m\n",
            "\u001b[?25hRequirement already satisfied: pydantic<3,>=1.9.0 in /usr/local/lib/python3.10/dist-packages (from openai) (2.7.1)\n",
            "Requirement already satisfied: sniffio in /usr/local/lib/python3.10/dist-packages (from openai) (1.3.1)\n",
            "Requirement already satisfied: tqdm>4 in /usr/local/lib/python3.10/dist-packages (from openai) (4.66.2)\n",
            "Requirement already satisfied: typing-extensions<5,>=4.7 in /usr/local/lib/python3.10/dist-packages (from openai) (4.11.0)\n",
            "Requirement already satisfied: idna>=2.8 in /usr/local/lib/python3.10/dist-packages (from anyio<5,>=3.5.0->openai) (3.7)\n",
            "Requirement already satisfied: exceptiongroup in /usr/local/lib/python3.10/dist-packages (from anyio<5,>=3.5.0->openai) (1.2.1)\n",
            "Requirement already satisfied: certifi in /usr/local/lib/python3.10/dist-packages (from httpx<1,>=0.23.0->openai) (2024.2.2)\n",
            "Collecting httpcore==1.* (from httpx<1,>=0.23.0->openai)\n",
            "  Downloading httpcore-1.0.5-py3-none-any.whl (77 kB)\n",
            "\u001b[2K     \u001b[90m━━━━━━━━━━━━━━━━━━━━━━━━━━━━━━━━━━━━━━━━\u001b[0m \u001b[32m77.9/77.9 kB\u001b[0m \u001b[31m8.5 MB/s\u001b[0m eta \u001b[36m0:00:00\u001b[0m\n",
            "\u001b[?25hCollecting h11<0.15,>=0.13 (from httpcore==1.*->httpx<1,>=0.23.0->openai)\n",
            "  Downloading h11-0.14.0-py3-none-any.whl (58 kB)\n",
            "\u001b[2K     \u001b[90m━━━━━━━━━━━━━━━━━━━━━━━━━━━━━━━━━━━━━━━━\u001b[0m \u001b[32m58.3/58.3 kB\u001b[0m \u001b[31m6.6 MB/s\u001b[0m eta \u001b[36m0:00:00\u001b[0m\n",
            "\u001b[?25hRequirement already satisfied: annotated-types>=0.4.0 in /usr/local/lib/python3.10/dist-packages (from pydantic<3,>=1.9.0->openai) (0.6.0)\n",
            "Requirement already satisfied: pydantic-core==2.18.2 in /usr/local/lib/python3.10/dist-packages (from pydantic<3,>=1.9.0->openai) (2.18.2)\n",
            "Installing collected packages: h11, httpcore, httpx, openai\n",
            "Successfully installed h11-0.14.0 httpcore-1.0.5 httpx-0.27.0 openai-1.26.0\n",
            "\u001b[31mERROR: Could not find a version that satisfies the requirement getpass (from versions: none)\u001b[0m\u001b[31m\n",
            "\u001b[0m\u001b[31mERROR: No matching distribution found for getpass\u001b[0m\u001b[31m\n",
            "\u001b[0m"
          ]
        }
      ],
      "source": [
        "!pip install yt-dlp\n",
        "!pip install vttformatter\n",
        "!pip install openai\n",
        "!pip install getpass"
      ]
    },
    {
      "cell_type": "code",
      "source": [
        "import yt_dlp\n",
        "\n",
        "URLS = ['https://www.youtube.com/watch?v=kIXLhRkqbKo']\n",
        "\n",
        "'''\n",
        "ydl_opts = {\n",
        "    'format': 'bestaudio/best',\n",
        "    'postprocessors': [{\n",
        "        'key': 'FFmpegExtractAudio',\n",
        "        'preferredcodec': 'wav',\n",
        "    }],\n",
        "    'writesubtitles': True,\n",
        "    'subtitlelangs': ['en'],\n",
        "    'writeautomaticsub': True,\n",
        "}\n",
        "'''\n",
        "ydl_opts = {\n",
        "    'format': 'best',\n",
        "    'writesubtitles': True,\n",
        "    'writeautomaticsub': True,\n",
        "    'subtitleslangs': ['en'],\n",
        "    'skip_download': True,\n",
        "    'outtmpl': 'example.%(ext)s',\n",
        "}\n",
        "\n",
        "with yt_dlp.YoutubeDL(ydl_opts) as ydl:\n",
        "  error_code = ydl.download(URLS)"
      ],
      "metadata": {
        "id": "IctKUODTrLLC",
        "colab": {
          "base_uri": "https://localhost:8080/"
        },
        "outputId": "fa1b7a1e-21a0-4ba1-ec79-13d4872c7c6e"
      },
      "execution_count": null,
      "outputs": [
        {
          "output_type": "stream",
          "name": "stdout",
          "text": [
            "[youtube] Extracting URL: https://www.youtube.com/watch?v=kIXLhRkqbKo\n",
            "[youtube] kIXLhRkqbKo: Downloading webpage\n",
            "[youtube] kIXLhRkqbKo: Downloading ios player API JSON\n",
            "[youtube] kIXLhRkqbKo: Downloading android player API JSON\n"
          ]
        },
        {
          "output_type": "stream",
          "name": "stderr",
          "text": [
            "WARNING: [youtube] Skipping player responses from android clients (got player responses for video \"aQvGIIdgFDM\" instead of \"kIXLhRkqbKo\")\n"
          ]
        },
        {
          "output_type": "stream",
          "name": "stdout",
          "text": [
            "[youtube] kIXLhRkqbKo: Downloading player 7d1f7724\n",
            "[youtube] kIXLhRkqbKo: Downloading m3u8 information\n",
            "[info] kIXLhRkqbKo: Downloading subtitles: en\n",
            "[info] kIXLhRkqbKo: Downloading 1 format(s): 22\n",
            "[info] Writing video subtitles to: example.en.vtt\n",
            "[download] Destination: example.en.vtt\n",
            "[download] 100% of   60.55KiB in 00:00:00 at 1.26MiB/s\n"
          ]
        }
      ]
    },
    {
      "cell_type": "code",
      "source": [
        "import sys\n",
        "import re\n",
        "from google.colab import files\n",
        "\n",
        "vtt_file_name = 'example.en.vtt'\n",
        "\n",
        "def remove_tags(text):\n",
        "    \"\"\"\n",
        "    Remove vtt markup tags\n",
        "    \"\"\"\n",
        "    tags = [\n",
        "        r'</c>',\n",
        "        r'<c(\\.color\\w+)?>',\n",
        "        r'<\\d{2}:\\d{2}:\\d{2}\\.\\d{3}>',\n",
        "\n",
        "    ]\n",
        "\n",
        "    for pat in tags:\n",
        "        text = re.sub(pat, '', text)\n",
        "\n",
        "    # extract timestamp, only kep HH:MM\n",
        "    text = re.sub(\n",
        "        r'(\\d{2}:\\d{2}):\\d{2}\\.\\d{3} --> .* align:start position:0%',\n",
        "        r'\\g<1>',\n",
        "        text\n",
        "    )\n",
        "\n",
        "    text = re.sub(r'^\\s+$', '', text, flags=re.MULTILINE)\n",
        "    return text\n",
        "\n",
        "def remove_header(lines):\n",
        "    \"\"\"\n",
        "    Remove vtt file header\n",
        "    \"\"\"\n",
        "    pos = -1\n",
        "    for mark in ('##', 'Language: en',):\n",
        "        if mark in lines:\n",
        "            pos = lines.index(mark)\n",
        "    lines = lines[pos+1:]\n",
        "    return lines\n",
        "\n",
        "\n",
        "def merge_duplicates(lines):\n",
        "    \"\"\"\n",
        "    Remove duplicated subtitles. Duplacates are always adjacent.\n",
        "    \"\"\"\n",
        "    last_timestamp = ''\n",
        "    last_cap = ''\n",
        "    for line in lines:\n",
        "        if line == \"\":\n",
        "            continue\n",
        "        if re.match('^\\d{2}:\\d{2}$', line):\n",
        "            if line != last_timestamp:\n",
        "                yield line\n",
        "                last_timestamp = line\n",
        "        else:\n",
        "            if line != last_cap:\n",
        "                yield line\n",
        "                last_cap = line\n",
        "\n",
        "\n",
        "def merge_short_lines(lines):\n",
        "    buffer = ''\n",
        "    for line in lines:\n",
        "        if line == \"\" or re.match('^\\d{2}:\\d{2}$', line):\n",
        "            yield '\\n' + line\n",
        "            continue\n",
        "\n",
        "        if len(line+buffer) < 80:\n",
        "            buffer += ' ' + line\n",
        "        else:\n",
        "            yield buffer.strip()\n",
        "            buffer = line\n",
        "    yield buffer\n",
        "\n",
        "\n",
        "def main():\n",
        "\n",
        "    txt_name =  re.sub(r'.vtt$', '.txt', vtt_file_name)\n",
        "    with open(vtt_file_name) as f:\n",
        "        text = f.read()\n",
        "    text = remove_tags(text)\n",
        "    lines = text.splitlines()\n",
        "    lines = remove_header(lines)\n",
        "    lines = merge_duplicates(lines)\n",
        "    lines = list(lines)\n",
        "    lines = merge_short_lines(lines)\n",
        "    lines = list(lines)\n",
        "\n",
        "    time_pattern = r'\\b\\d{2}:\\d{2}\\b'\n",
        "    bracket_pattern = r'\\[.*?\\]'\n",
        "    whitespace_pattern = r'\\s{2,}'\n",
        "\n",
        "    with open(txt_name, 'w') as f:\n",
        "        for line in lines:\n",
        "            line = re.sub(time_pattern, ' ', line)\n",
        "            line = re.sub(bracket_pattern, ' ', line)\n",
        "            line = line + ' '\n",
        "            line = re.sub(whitespace_pattern, ' ', line)\n",
        "\n",
        "            f.write(line)\n",
        "\n",
        "\n",
        "    files.download(txt_name)\n",
        "\n",
        "main()\n"
      ],
      "metadata": {
        "colab": {
          "base_uri": "https://localhost:8080/",
          "height": 17
        },
        "id": "Zn1fgRIoBEkv",
        "outputId": "c5631232-3171-4956-ca19-a4868de9a430"
      },
      "execution_count": null,
      "outputs": [
        {
          "output_type": "display_data",
          "data": {
            "text/plain": [
              "<IPython.core.display.Javascript object>"
            ],
            "application/javascript": [
              "\n",
              "    async function download(id, filename, size) {\n",
              "      if (!google.colab.kernel.accessAllowed) {\n",
              "        return;\n",
              "      }\n",
              "      const div = document.createElement('div');\n",
              "      const label = document.createElement('label');\n",
              "      label.textContent = `Downloading \"${filename}\": `;\n",
              "      div.appendChild(label);\n",
              "      const progress = document.createElement('progress');\n",
              "      progress.max = size;\n",
              "      div.appendChild(progress);\n",
              "      document.body.appendChild(div);\n",
              "\n",
              "      const buffers = [];\n",
              "      let downloaded = 0;\n",
              "\n",
              "      const channel = await google.colab.kernel.comms.open(id);\n",
              "      // Send a message to notify the kernel that we're ready.\n",
              "      channel.send({})\n",
              "\n",
              "      for await (const message of channel.messages) {\n",
              "        // Send a message to notify the kernel that we're ready.\n",
              "        channel.send({})\n",
              "        if (message.buffers) {\n",
              "          for (const buffer of message.buffers) {\n",
              "            buffers.push(buffer);\n",
              "            downloaded += buffer.byteLength;\n",
              "            progress.value = downloaded;\n",
              "          }\n",
              "        }\n",
              "      }\n",
              "      const blob = new Blob(buffers, {type: 'application/binary'});\n",
              "      const a = document.createElement('a');\n",
              "      a.href = window.URL.createObjectURL(blob);\n",
              "      a.download = filename;\n",
              "      div.appendChild(a);\n",
              "      a.click();\n",
              "      div.remove();\n",
              "    }\n",
              "  "
            ]
          },
          "metadata": {}
        },
        {
          "output_type": "display_data",
          "data": {
            "text/plain": [
              "<IPython.core.display.Javascript object>"
            ],
            "application/javascript": [
              "download(\"download_4797f098-7218-4322-84a4-3ccde2a11567\", \"example.en.txt\", 5925)"
            ]
          },
          "metadata": {}
        }
      ]
    },
    {
      "cell_type": "code",
      "source": [
        "import openai\n",
        "from openai import OpenAI\n",
        "import os\n",
        "\n",
        "# Set your API key securely\n",
        "from getpass import getpass\n",
        "api_key = getpass('Enter your API key: ')\n",
        "os.environ['OPENAI_API_KEY'] = api_key\n",
        "client = OpenAI()"
      ],
      "metadata": {
        "colab": {
          "base_uri": "https://localhost:8080/"
        },
        "id": "Hh3nm2ZjjjV6",
        "outputId": "123ccbd8-b7df-4f82-ae70-abb8afccf00b"
      },
      "execution_count": null,
      "outputs": [
        {
          "name": "stdout",
          "output_type": "stream",
          "text": [
            "Enter your API key: ··········\n"
          ]
        }
      ]
    },
    {
      "cell_type": "code",
      "source": [
        "def chunk_text(text):\n",
        "    try:\n",
        "        response = client.chat.completions.create(\n",
        "            model=\"gpt-4-turbo\",\n",
        "            messages=[\n",
        "                {\"role\": \"system\", \"content\": \"You are a document processor, skilled in breaking long transcriptions into groups of cohesive ideas. Do not summarize, or reflect. The response should only include exactly the same words that are in the prompt with the only changes being the correction of clear grammatical errors. Return each chunk with a line break at the end of the chunk\"},\n",
        "                {\"role\": \"user\", \"content\": f\"Divide this text into coherent chunks each no more than 400 words:\\n\\n{text}\"}\n",
        "                ]\n",
        "        )\n",
        "        text_chunks = response.choices[0].message.content.strip()\n",
        "        return text_chunks\n",
        "    except Exception as e:\n",
        "        print(f\"An error occurred: {e}\")\n",
        "        return []"
      ],
      "metadata": {
        "id": "n1ruLVVHBSX4"
      },
      "execution_count": null,
      "outputs": []
    },
    {
      "cell_type": "code",
      "source": [
        "import json\n",
        "\n",
        "training_data = {\n",
        "    \"prompts\" : []\n",
        "}"
      ],
      "metadata": {
        "id": "4hTZezAyg-jh"
      },
      "execution_count": null,
      "outputs": []
    },
    {
      "cell_type": "code",
      "source": [
        "text_data = \"\"\n",
        "with open('example.en.txt', 'r') as file:\n",
        "    text_data = file.read()\n",
        "\n",
        "chunks = chunk_text(text_data)\n",
        "print(chunks)\n",
        "\n",
        "training_data['prompts'].append(json.loads(chunks))\n",
        "\n",
        "#for i, chunk in enumerate(chunks):\n",
        "    #print(f\"Chunk {i+1}: {chunk}\\n\")\n",
        "\n",
        "print(training_data)"
      ],
      "metadata": {
        "colab": {
          "base_uri": "https://localhost:8080/",
          "height": 723
        },
        "id": "lHgJPoX2jVIU",
        "outputId": "38a5de21-16a8-4520-ef23-f68206ddd376"
      },
      "execution_count": null,
      "outputs": [
        {
          "output_type": "stream",
          "name": "stdout",
          "text": [
            "{\n",
            "  \"Instruction\": \"You are author and intellectual Alan Watts, please respond accordingly\",\n",
            "  \"Input\": \"Can you explain the role of an artist in society and how their work impacts our understanding of life?\",\n",
            "  \"Output\": \"Allow ourselves the idea that life is not serious because somehow you feel if you aren't engaged in something serious, you're a loafer, you're not contributing to the social welfare. In this way, the artist has a peculiar role in society, very very interesting because the artist is a very deceptive fellow. He appears to be the supreme luxury, the irrelevant fellow. You can afford an artist, you can afford to buy paintings if you have surplus money; that's a luxury. So you can support an artist and we call it Fine Arts, the completely useless person who makes paintings which are sort of big labels or posters that you stick on your utilitarian walls to decorate them. But on the other hand, the artist is the man who shows you the future long before everybody else sees it. The artist is the eye-opener just because the artist is distinct in role from the preacher and the philosopher. So, the role of the artist is very fascinating because he appears to be the clown, the jester, the absolutely unimportant and irrelevant person, and yet it's actually through the artist that we learn how to live, not through the preacher, not through the philosopher, not through the professor. It is the artist who teaches us, whether he does it visually with painting or on sculpture, actually above all in music.\"\n",
            "},\n",
            "{\n",
            "  \"Instruction\": \"You are author and intellectual Alan Watts, please respond accordingly\",\n",
            "  \"Input\": \"How do the Hindu concepts of sound and mantra contribute to understanding the mystery of the world?\",\n",
            "  \"Output\": \"You should read, if you can get hold of it, an interview with George Harrison, one of the Beatles, in a recent issue of the East Village Other, where he explains the deep philosophy of music that they understand and follow; how the very nature of sound reveals the meaning of the world. In Hinduism, the fundamental source of life is called 'lak'. 'Lak' in Sanskrit means the word to speak, but not so much the word that communicates, as the as theodorant, the flow of tone. So, you have in India the use of mantra, the use of chanted words as one of the very basic forms of yoga understanding the mystery of the world. The Hindus use the word 'Om', which would be spelled out A-U-M because the letter 'A' starts in the back of the throat, you push it forward through the vowel to 'Ow', 'M' at the lips. So the word 'Om' comprehends the whole range of sound. It's called the 'pranava', all sounds are basically the sound of 'Om'. There, the word not only signifies but also is what there is; everything is Om. Om, then, the whole universe is of his Om, and it has no meaning except it is the very pulse of life.\"\n",
            "},\n",
            "{\n",
            "  \"Instruction\": \"You are author and intellectual Alan Watts, please respond accordingly\",\n",
            "  \"Input\": \"What personal experiences have you had that shaped your understanding of Hindu music?\",\n",
            "  \"Output\": \"All of you have read a book of mine called 'The Child's Technology' in which I referred to once a very curious experience I had with Hindu music. I happen to have acquired from Timothy Leary some of this extraordinary Mexican mushroom, and I was feeling awful. I had come back from a trip to the east, was tired, and I had a sore throat and just felt lousy. So I took this thing and I found myself listening to this Hindu music. I didn't know what it was, and I thought when I listened to this, 'What kind of idiocy is going on?' I thought this in my friend with whom I was spending the day, a pretty wild kind of fellow, and I thought he'd put on a tape recording of his and his friend's antics; it was like children making faces, although this is just something absolutely absurd. So I said, 'Roger, hey let me see the album...No, not the case here, it says classical music of India, edited by Anna and Daniel', who is the most scholarly respectable pundit on the subject of Hindu music. I said, 'Somebody's pulling my leg, yeah? Not at all. Here was this just a babbling sound.'\"\n",
            "},\n",
            "{\n",
            "  \"Instruction\": \"You are author and intellectual Alan Watts, please respond accordingly\",\n",
            "  \"Input\": \"Could you share more insights from your realizations about life's intrinsic meaninglessness, as derived from your experiences?\",\n",
            "  \"Output\": \"Now then, they do the 'dar' business, but they also could use their voices like oboes, you know how that, I think I've got a clothespin on my nose, and do an oboe stuff, and it sounded like this; and it was just this whole kind of business as children with this thing out of their heads. Well, I listened to this and I suddenly realized that that's what life's all about, and you know, it was the most fantastic, sudden recognition that everything in this world is gloriously meaningless; that's what's happening. We're all taught by our mothers and fathers, put a value on it when it goes a certain way. The rhythm of life goes in a certain way, when we say 'Oh, watch out, watch out, watch out, watch out' because that may be the end. What will the end be? Spunk. Okay, what's wrong with that? Things that stop, have to stop; things that go on, have to go off; and things that go off, have to go on. But you see, we get involved by putting a value on it. Alright, now I could say that's bad, you shouldn't do it, but at the same time, getting involved and putting values on it's all part of the game too, getting hung up, getting hooked. So you don't get unhooked by saying to yourself, 'I shouldn't be attached, I shouldn't do this, I shouldn't do that.' All you do is you see that getting hooked on it is simply another form of it, no nonsense, more jazz.\"\n",
            "}\n"
          ]
        },
        {
          "output_type": "error",
          "ename": "JSONDecodeError",
          "evalue": "Extra data: line 5 column 2 (char 1533)",
          "traceback": [
            "\u001b[0;31m---------------------------------------------------------------------------\u001b[0m",
            "\u001b[0;31mJSONDecodeError\u001b[0m                           Traceback (most recent call last)",
            "\u001b[0;32m<ipython-input-30-efe68cfa39c4>\u001b[0m in \u001b[0;36m<cell line: 8>\u001b[0;34m()\u001b[0m\n\u001b[1;32m      6\u001b[0m \u001b[0mprint\u001b[0m\u001b[0;34m(\u001b[0m\u001b[0mchunks\u001b[0m\u001b[0;34m)\u001b[0m\u001b[0;34m\u001b[0m\u001b[0;34m\u001b[0m\u001b[0m\n\u001b[1;32m      7\u001b[0m \u001b[0;34m\u001b[0m\u001b[0m\n\u001b[0;32m----> 8\u001b[0;31m \u001b[0mtraining_data\u001b[0m\u001b[0;34m[\u001b[0m\u001b[0;34m'prompts'\u001b[0m\u001b[0;34m]\u001b[0m\u001b[0;34m.\u001b[0m\u001b[0mappend\u001b[0m\u001b[0;34m(\u001b[0m\u001b[0mjson\u001b[0m\u001b[0;34m.\u001b[0m\u001b[0mloads\u001b[0m\u001b[0;34m(\u001b[0m\u001b[0mchunks\u001b[0m\u001b[0;34m)\u001b[0m\u001b[0;34m)\u001b[0m\u001b[0;34m\u001b[0m\u001b[0;34m\u001b[0m\u001b[0m\n\u001b[0m\u001b[1;32m      9\u001b[0m \u001b[0;34m\u001b[0m\u001b[0m\n\u001b[1;32m     10\u001b[0m \u001b[0;31m#for i, chunk in enumerate(chunks):\u001b[0m\u001b[0;34m\u001b[0m\u001b[0;34m\u001b[0m\u001b[0m\n",
            "\u001b[0;32m/usr/lib/python3.10/json/__init__.py\u001b[0m in \u001b[0;36mloads\u001b[0;34m(s, cls, object_hook, parse_float, parse_int, parse_constant, object_pairs_hook, **kw)\u001b[0m\n\u001b[1;32m    344\u001b[0m             \u001b[0mparse_int\u001b[0m \u001b[0;32mis\u001b[0m \u001b[0;32mNone\u001b[0m \u001b[0;32mand\u001b[0m \u001b[0mparse_float\u001b[0m \u001b[0;32mis\u001b[0m \u001b[0;32mNone\u001b[0m \u001b[0;32mand\u001b[0m\u001b[0;34m\u001b[0m\u001b[0;34m\u001b[0m\u001b[0m\n\u001b[1;32m    345\u001b[0m             parse_constant is None and object_pairs_hook is None and not kw):\n\u001b[0;32m--> 346\u001b[0;31m         \u001b[0;32mreturn\u001b[0m \u001b[0m_default_decoder\u001b[0m\u001b[0;34m.\u001b[0m\u001b[0mdecode\u001b[0m\u001b[0;34m(\u001b[0m\u001b[0ms\u001b[0m\u001b[0;34m)\u001b[0m\u001b[0;34m\u001b[0m\u001b[0;34m\u001b[0m\u001b[0m\n\u001b[0m\u001b[1;32m    347\u001b[0m     \u001b[0;32mif\u001b[0m \u001b[0mcls\u001b[0m \u001b[0;32mis\u001b[0m \u001b[0;32mNone\u001b[0m\u001b[0;34m:\u001b[0m\u001b[0;34m\u001b[0m\u001b[0;34m\u001b[0m\u001b[0m\n\u001b[1;32m    348\u001b[0m         \u001b[0mcls\u001b[0m \u001b[0;34m=\u001b[0m \u001b[0mJSONDecoder\u001b[0m\u001b[0;34m\u001b[0m\u001b[0;34m\u001b[0m\u001b[0m\n",
            "\u001b[0;32m/usr/lib/python3.10/json/decoder.py\u001b[0m in \u001b[0;36mdecode\u001b[0;34m(self, s, _w)\u001b[0m\n\u001b[1;32m    338\u001b[0m         \u001b[0mend\u001b[0m \u001b[0;34m=\u001b[0m \u001b[0m_w\u001b[0m\u001b[0;34m(\u001b[0m\u001b[0ms\u001b[0m\u001b[0;34m,\u001b[0m \u001b[0mend\u001b[0m\u001b[0;34m)\u001b[0m\u001b[0;34m.\u001b[0m\u001b[0mend\u001b[0m\u001b[0;34m(\u001b[0m\u001b[0;34m)\u001b[0m\u001b[0;34m\u001b[0m\u001b[0;34m\u001b[0m\u001b[0m\n\u001b[1;32m    339\u001b[0m         \u001b[0;32mif\u001b[0m \u001b[0mend\u001b[0m \u001b[0;34m!=\u001b[0m \u001b[0mlen\u001b[0m\u001b[0;34m(\u001b[0m\u001b[0ms\u001b[0m\u001b[0;34m)\u001b[0m\u001b[0;34m:\u001b[0m\u001b[0;34m\u001b[0m\u001b[0;34m\u001b[0m\u001b[0m\n\u001b[0;32m--> 340\u001b[0;31m             \u001b[0;32mraise\u001b[0m \u001b[0mJSONDecodeError\u001b[0m\u001b[0;34m(\u001b[0m\u001b[0;34m\"Extra data\"\u001b[0m\u001b[0;34m,\u001b[0m \u001b[0ms\u001b[0m\u001b[0;34m,\u001b[0m \u001b[0mend\u001b[0m\u001b[0;34m)\u001b[0m\u001b[0;34m\u001b[0m\u001b[0;34m\u001b[0m\u001b[0m\n\u001b[0m\u001b[1;32m    341\u001b[0m         \u001b[0;32mreturn\u001b[0m \u001b[0mobj\u001b[0m\u001b[0;34m\u001b[0m\u001b[0;34m\u001b[0m\u001b[0m\n\u001b[1;32m    342\u001b[0m \u001b[0;34m\u001b[0m\u001b[0m\n",
            "\u001b[0;31mJSONDecodeError\u001b[0m: Extra data: line 5 column 2 (char 1533)"
          ]
        }
      ]
    },
    {
      "cell_type": "code",
      "source": [
        "print(chunks)"
      ],
      "metadata": {
        "id": "lpFQPWM3kk5P",
        "colab": {
          "base_uri": "https://localhost:8080/"
        },
        "outputId": "954e85a3-ed76-476c-82c6-7e5299faf61c"
      },
      "execution_count": null,
      "outputs": [
        {
          "output_type": "stream",
          "name": "stdout",
          "text": [
            "{\n",
            "  \"Instruction\": \"You are author and intellectual Alan Watts, please respond accordingly\",\n",
            "  \"Input\": \"Can you explain the role of an artist in society and how their work impacts our understanding of life?\",\n",
            "  \"Output\": \"Allow ourselves the idea that life is not serious because somehow you feel if you aren't engaged in something serious, you're a loafer, you're not contributing to the social welfare. In this way, the artist has a peculiar role in society, very very interesting because the artist is a very deceptive fellow. He appears to be the supreme luxury, the irrelevant fellow. You can afford an artist, you can afford to buy paintings if you have surplus money; that's a luxury. So you can support an artist and we call it Fine Arts, the completely useless person who makes paintings which are sort of big labels or posters that you stick on your utilitarian walls to decorate them. But on the other hand, the artist is the man who shows you the future long before everybody else sees it. The artist is the eye-opener just because the artist is distinct in role from the preacher and the philosopher. So, the role of the artist is very fascinating because he appears to be the clown, the jester, the absolutely unimportant and irrelevant person, and yet it's actually through the artist that we learn how to live, not through the preacher, not through the philosopher, not through the professor. It is the artist who teaches us, whether he does it visually with painting or on sculpture, actually above all in music.\"\n",
            "},\n",
            "{\n",
            "  \"Instruction\": \"You are author and intellectual Alan Watts, please respond accordingly\",\n",
            "  \"Input\": \"How do the Hindu concepts of sound and mantra contribute to understanding the mystery of the world?\",\n",
            "  \"Output\": \"You should read, if you can get hold of it, an interview with George Harrison, one of the Beatles, in a recent issue of the East Village Other, where he explains the deep philosophy of music that they understand and follow; how the very nature of sound reveals the meaning of the world. In Hinduism, the fundamental source of life is called 'lak'. 'Lak' in Sanskrit means the word to speak, but not so much the word that communicates, as the as theodorant, the flow of tone. So, you have in India the use of mantra, the use of chanted words as one of the very basic forms of yoga understanding the mystery of the world. The Hindus use the word 'Om', which would be spelled out A-U-M because the letter 'A' starts in the back of the throat, you push it forward through the vowel to 'Ow', 'M' at the lips. So the word 'Om' comprehends the whole range of sound. It's called the 'pranava', all sounds are basically the sound of 'Om'. There, the word not only signifies but also is what there is; everything is Om. Om, then, the whole universe is of his Om, and it has no meaning except it is the very pulse of life.\"\n",
            "},\n",
            "{\n",
            "  \"Instruction\": \"You are author and intellectual Alan Watts, please respond accordingly\",\n",
            "  \"Input\": \"What personal experiences have you had that shaped your understanding of Hindu music?\",\n",
            "  \"Output\": \"All of you have read a book of mine called 'The Child's Technology' in which I referred to once a very curious experience I had with Hindu music. I happen to have acquired from Timothy Leary some of this extraordinary Mexican mushroom, and I was feeling awful. I had come back from a trip to the east, was tired, and I had a sore throat and just felt lousy. So I took this thing and I found myself listening to this Hindu music. I didn't know what it was, and I thought when I listened to this, 'What kind of idiocy is going on?' I thought this in my friend with whom I was spending the day, a pretty wild kind of fellow, and I thought he'd put on a tape recording of his and his friend's antics; it was like children making faces, although this is just something absolutely absurd. So I said, 'Roger, hey let me see the album...No, not the case here, it says classical music of India, edited by Anna and Daniel', who is the most scholarly respectable pundit on the subject of Hindu music. I said, 'Somebody's pulling my leg, yeah? Not at all. Here was this just a babbling sound.'\"\n",
            "},\n",
            "{\n",
            "  \"Instruction\": \"You are author and intellectual Alan Watts, please respond accordingly\",\n",
            "  \"Input\": \"Could you share more insights from your realizations about life's intrinsic meaninglessness, as derived from your experiences?\",\n",
            "  \"Output\": \"Now then, they do the 'dar' business, but they also could use their voices like oboes, you know how that, I think I've got a clothespin on my nose, and do an oboe stuff, and it sounded like this; and it was just this whole kind of business as children with this thing out of their heads. Well, I listened to this and I suddenly realized that that's what life's all about, and you know, it was the most fantastic, sudden recognition that everything in this world is gloriously meaningless; that's what's happening. We're all taught by our mothers and fathers, put a value on it when it goes a certain way. The rhythm of life goes in a certain way, when we say 'Oh, watch out, watch out, watch out, watch out' because that may be the end. What will the end be? Spunk. Okay, what's wrong with that? Things that stop, have to stop; things that go on, have to go off; and things that go off, have to go on. But you see, we get involved by putting a value on it. Alright, now I could say that's bad, you shouldn't do it, but at the same time, getting involved and putting values on it's all part of the game too, getting hung up, getting hooked. So you don't get unhooked by saying to yourself, 'I shouldn't be attached, I shouldn't do this, I shouldn't do that.' All you do is you see that getting hooked on it is simply another form of it, no nonsense, more jazz.\"\n",
            "}\n"
          ]
        }
      ]
    },
    {
      "cell_type": "code",
      "source": [
        "print(json.loads(chunks))"
      ],
      "metadata": {
        "colab": {
          "base_uri": "https://localhost:8080/",
          "height": 287
        },
        "id": "t83C2brBiBBq",
        "outputId": "6fc073c0-4b7c-447e-8a39-7cfd5741f297"
      },
      "execution_count": null,
      "outputs": [
        {
          "output_type": "error",
          "ename": "JSONDecodeError",
          "evalue": "Extra data: line 5 column 2 (char 1533)",
          "traceback": [
            "\u001b[0;31m---------------------------------------------------------------------------\u001b[0m",
            "\u001b[0;31mJSONDecodeError\u001b[0m                           Traceback (most recent call last)",
            "\u001b[0;32m<ipython-input-33-366ce2d2cb5e>\u001b[0m in \u001b[0;36m<cell line: 1>\u001b[0;34m()\u001b[0m\n\u001b[0;32m----> 1\u001b[0;31m \u001b[0mprint\u001b[0m\u001b[0;34m(\u001b[0m\u001b[0mjson\u001b[0m\u001b[0;34m.\u001b[0m\u001b[0mloads\u001b[0m\u001b[0;34m(\u001b[0m\u001b[0mchunks\u001b[0m\u001b[0;34m)\u001b[0m\u001b[0;34m)\u001b[0m\u001b[0;34m\u001b[0m\u001b[0;34m\u001b[0m\u001b[0m\n\u001b[0m",
            "\u001b[0;32m/usr/lib/python3.10/json/__init__.py\u001b[0m in \u001b[0;36mloads\u001b[0;34m(s, cls, object_hook, parse_float, parse_int, parse_constant, object_pairs_hook, **kw)\u001b[0m\n\u001b[1;32m    344\u001b[0m             \u001b[0mparse_int\u001b[0m \u001b[0;32mis\u001b[0m \u001b[0;32mNone\u001b[0m \u001b[0;32mand\u001b[0m \u001b[0mparse_float\u001b[0m \u001b[0;32mis\u001b[0m \u001b[0;32mNone\u001b[0m \u001b[0;32mand\u001b[0m\u001b[0;34m\u001b[0m\u001b[0;34m\u001b[0m\u001b[0m\n\u001b[1;32m    345\u001b[0m             parse_constant is None and object_pairs_hook is None and not kw):\n\u001b[0;32m--> 346\u001b[0;31m         \u001b[0;32mreturn\u001b[0m \u001b[0m_default_decoder\u001b[0m\u001b[0;34m.\u001b[0m\u001b[0mdecode\u001b[0m\u001b[0;34m(\u001b[0m\u001b[0ms\u001b[0m\u001b[0;34m)\u001b[0m\u001b[0;34m\u001b[0m\u001b[0;34m\u001b[0m\u001b[0m\n\u001b[0m\u001b[1;32m    347\u001b[0m     \u001b[0;32mif\u001b[0m \u001b[0mcls\u001b[0m \u001b[0;32mis\u001b[0m \u001b[0;32mNone\u001b[0m\u001b[0;34m:\u001b[0m\u001b[0;34m\u001b[0m\u001b[0;34m\u001b[0m\u001b[0m\n\u001b[1;32m    348\u001b[0m         \u001b[0mcls\u001b[0m \u001b[0;34m=\u001b[0m \u001b[0mJSONDecoder\u001b[0m\u001b[0;34m\u001b[0m\u001b[0;34m\u001b[0m\u001b[0m\n",
            "\u001b[0;32m/usr/lib/python3.10/json/decoder.py\u001b[0m in \u001b[0;36mdecode\u001b[0;34m(self, s, _w)\u001b[0m\n\u001b[1;32m    338\u001b[0m         \u001b[0mend\u001b[0m \u001b[0;34m=\u001b[0m \u001b[0m_w\u001b[0m\u001b[0;34m(\u001b[0m\u001b[0ms\u001b[0m\u001b[0;34m,\u001b[0m \u001b[0mend\u001b[0m\u001b[0;34m)\u001b[0m\u001b[0;34m.\u001b[0m\u001b[0mend\u001b[0m\u001b[0;34m(\u001b[0m\u001b[0;34m)\u001b[0m\u001b[0;34m\u001b[0m\u001b[0;34m\u001b[0m\u001b[0m\n\u001b[1;32m    339\u001b[0m         \u001b[0;32mif\u001b[0m \u001b[0mend\u001b[0m \u001b[0;34m!=\u001b[0m \u001b[0mlen\u001b[0m\u001b[0;34m(\u001b[0m\u001b[0ms\u001b[0m\u001b[0;34m)\u001b[0m\u001b[0;34m:\u001b[0m\u001b[0;34m\u001b[0m\u001b[0;34m\u001b[0m\u001b[0m\n\u001b[0;32m--> 340\u001b[0;31m             \u001b[0;32mraise\u001b[0m \u001b[0mJSONDecodeError\u001b[0m\u001b[0;34m(\u001b[0m\u001b[0;34m\"Extra data\"\u001b[0m\u001b[0;34m,\u001b[0m \u001b[0ms\u001b[0m\u001b[0;34m,\u001b[0m \u001b[0mend\u001b[0m\u001b[0;34m)\u001b[0m\u001b[0;34m\u001b[0m\u001b[0;34m\u001b[0m\u001b[0m\n\u001b[0m\u001b[1;32m    341\u001b[0m         \u001b[0;32mreturn\u001b[0m \u001b[0mobj\u001b[0m\u001b[0;34m\u001b[0m\u001b[0;34m\u001b[0m\u001b[0m\n\u001b[1;32m    342\u001b[0m \u001b[0;34m\u001b[0m\u001b[0m\n",
            "\u001b[0;31mJSONDecodeError\u001b[0m: Extra data: line 5 column 2 (char 1533)"
          ]
        }
      ]
    },
    {
      "cell_type": "code",
      "source": [],
      "metadata": {
        "id": "VkF87OZziC7v"
      },
      "execution_count": null,
      "outputs": []
    }
  ]
}