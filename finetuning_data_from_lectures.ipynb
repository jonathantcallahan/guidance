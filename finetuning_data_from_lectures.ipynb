{
  "nbformat": 4,
  "nbformat_minor": 0,
  "metadata": {
    "colab": {
      "provenance": [],
      "authorship_tag": "ABX9TyNd1U93PoGtyE1uL7mlcZ2h",
      "include_colab_link": true
    },
    "kernelspec": {
      "name": "python3",
      "display_name": "Python 3"
    },
    "language_info": {
      "name": "python"
    }
  },
  "cells": [
    {
      "cell_type": "markdown",
      "metadata": {
        "id": "view-in-github",
        "colab_type": "text"
      },
      "source": [
        "<a href=\"https://colab.research.google.com/github/jonathantcallahan/guidance/blob/main/finetuning_data_from_lectures.ipynb\" target=\"_parent\"><img src=\"https://colab.research.google.com/assets/colab-badge.svg\" alt=\"Open In Colab\"/></a>"
      ]
    },
    {
      "cell_type": "code",
      "execution_count": null,
      "metadata": {
        "id": "Ucs3lSZ-q3IN"
      },
      "outputs": [],
      "source": [
        "!pip install yt-dlp\n",
        "!pip install vttformatter\n",
        "!pip install openai\n",
        "!pip install getpass"
      ]
    },
    {
      "cell_type": "code",
      "source": [
        "import yt_dlp\n",
        "\n",
        "URLS = ['https://www.youtube.com/watch?v=kIXLhRkqbKo']\n",
        "\n",
        "'''\n",
        "ydl_opts = {\n",
        "    'format': 'bestaudio/best',\n",
        "    'postprocessors': [{\n",
        "        'key': 'FFmpegExtractAudio',\n",
        "        'preferredcodec': 'wav',\n",
        "    }],\n",
        "    'writesubtitles': True,\n",
        "    'subtitlelangs': ['en'],\n",
        "    'writeautomaticsub': True,\n",
        "}\n",
        "'''\n",
        "ydl_opts = {\n",
        "    'format': 'best',\n",
        "    'writesubtitles': True,\n",
        "    'writeautomaticsub': True,\n",
        "    'subtitleslangs': ['en'],\n",
        "    'skip_download': True,\n",
        "    'outtmpl': 'example.%(ext)s',\n",
        "}\n",
        "\n",
        "with yt_dlp.YoutubeDL(ydl_opts) as ydl:\n",
        "  error_code = ydl.download(URLS)"
      ],
      "metadata": {
        "id": "IctKUODTrLLC"
      },
      "execution_count": null,
      "outputs": []
    },
    {
      "cell_type": "code",
      "source": [
        "import sys\n",
        "import re\n",
        "from google.colab import files\n",
        "\n",
        "vtt_file_name = 'example.en.vtt'\n",
        "\n",
        "def remove_tags(text):\n",
        "    \"\"\"\n",
        "    Remove vtt markup tags\n",
        "    \"\"\"\n",
        "    tags = [\n",
        "        r'</c>',\n",
        "        r'<c(\\.color\\w+)?>',\n",
        "        r'<\\d{2}:\\d{2}:\\d{2}\\.\\d{3}>',\n",
        "\n",
        "    ]\n",
        "\n",
        "    for pat in tags:\n",
        "        text = re.sub(pat, '', text)\n",
        "\n",
        "    # extract timestamp, only kep HH:MM\n",
        "    text = re.sub(\n",
        "        r'(\\d{2}:\\d{2}):\\d{2}\\.\\d{3} --> .* align:start position:0%',\n",
        "        r'\\g<1>',\n",
        "        text\n",
        "    )\n",
        "\n",
        "    text = re.sub(r'^\\s+$', '', text, flags=re.MULTILINE)\n",
        "    return text\n",
        "\n",
        "def remove_header(lines):\n",
        "    \"\"\"\n",
        "    Remove vtt file header\n",
        "    \"\"\"\n",
        "    pos = -1\n",
        "    for mark in ('##', 'Language: en',):\n",
        "        if mark in lines:\n",
        "            pos = lines.index(mark)\n",
        "    lines = lines[pos+1:]\n",
        "    return lines\n",
        "\n",
        "\n",
        "def merge_duplicates(lines):\n",
        "    \"\"\"\n",
        "    Remove duplicated subtitles. Duplacates are always adjacent.\n",
        "    \"\"\"\n",
        "    last_timestamp = ''\n",
        "    last_cap = ''\n",
        "    for line in lines:\n",
        "        if line == \"\":\n",
        "            continue\n",
        "        if re.match('^\\d{2}:\\d{2}$', line):\n",
        "            if line != last_timestamp:\n",
        "                yield line\n",
        "                last_timestamp = line\n",
        "        else:\n",
        "            if line != last_cap:\n",
        "                yield line\n",
        "                last_cap = line\n",
        "\n",
        "\n",
        "def merge_short_lines(lines):\n",
        "    buffer = ''\n",
        "    for line in lines:\n",
        "        if line == \"\" or re.match('^\\d{2}:\\d{2}$', line):\n",
        "            yield '\\n' + line\n",
        "            continue\n",
        "\n",
        "        if len(line+buffer) < 80:\n",
        "            buffer += ' ' + line\n",
        "        else:\n",
        "            yield buffer.strip()\n",
        "            buffer = line\n",
        "    yield buffer\n",
        "\n",
        "\n",
        "def main():\n",
        "\n",
        "    txt_name =  re.sub(r'.vtt$', '.txt', vtt_file_name)\n",
        "    with open(vtt_file_name) as f:\n",
        "        text = f.read()\n",
        "    text = remove_tags(text)\n",
        "    lines = text.splitlines()\n",
        "    lines = remove_header(lines)\n",
        "    lines = merge_duplicates(lines)\n",
        "    lines = list(lines)\n",
        "    lines = merge_short_lines(lines)\n",
        "    lines = list(lines)\n",
        "\n",
        "    time_pattern = r'\\b\\d{2}:\\d{2}\\b'\n",
        "    bracket_pattern = r'\\[.*?\\]'\n",
        "    whitespace_pattern = r'\\s{2,}'\n",
        "\n",
        "    with open(txt_name, 'w') as f:\n",
        "        for line in lines:\n",
        "            line = re.sub(time_pattern, ' ', line)\n",
        "            line = re.sub(bracket_pattern, ' ', line)\n",
        "            line = line + ' '\n",
        "            line = re.sub(whitespace_pattern, ' ', line)\n",
        "\n",
        "            f.write(line)\n",
        "\n",
        "\n",
        "    files.download(txt_name)\n",
        "\n",
        "main()\n"
      ],
      "metadata": {
        "colab": {
          "base_uri": "https://localhost:8080/",
          "height": 17
        },
        "id": "Zn1fgRIoBEkv",
        "outputId": "c5631232-3171-4956-ca19-a4868de9a430"
      },
      "execution_count": null,
      "outputs": [
        {
          "output_type": "display_data",
          "data": {
            "text/plain": [
              "<IPython.core.display.Javascript object>"
            ],
            "application/javascript": [
              "\n",
              "    async function download(id, filename, size) {\n",
              "      if (!google.colab.kernel.accessAllowed) {\n",
              "        return;\n",
              "      }\n",
              "      const div = document.createElement('div');\n",
              "      const label = document.createElement('label');\n",
              "      label.textContent = `Downloading \"${filename}\": `;\n",
              "      div.appendChild(label);\n",
              "      const progress = document.createElement('progress');\n",
              "      progress.max = size;\n",
              "      div.appendChild(progress);\n",
              "      document.body.appendChild(div);\n",
              "\n",
              "      const buffers = [];\n",
              "      let downloaded = 0;\n",
              "\n",
              "      const channel = await google.colab.kernel.comms.open(id);\n",
              "      // Send a message to notify the kernel that we're ready.\n",
              "      channel.send({})\n",
              "\n",
              "      for await (const message of channel.messages) {\n",
              "        // Send a message to notify the kernel that we're ready.\n",
              "        channel.send({})\n",
              "        if (message.buffers) {\n",
              "          for (const buffer of message.buffers) {\n",
              "            buffers.push(buffer);\n",
              "            downloaded += buffer.byteLength;\n",
              "            progress.value = downloaded;\n",
              "          }\n",
              "        }\n",
              "      }\n",
              "      const blob = new Blob(buffers, {type: 'application/binary'});\n",
              "      const a = document.createElement('a');\n",
              "      a.href = window.URL.createObjectURL(blob);\n",
              "      a.download = filename;\n",
              "      div.appendChild(a);\n",
              "      a.click();\n",
              "      div.remove();\n",
              "    }\n",
              "  "
            ]
          },
          "metadata": {}
        },
        {
          "output_type": "display_data",
          "data": {
            "text/plain": [
              "<IPython.core.display.Javascript object>"
            ],
            "application/javascript": [
              "download(\"download_4797f098-7218-4322-84a4-3ccde2a11567\", \"example.en.txt\", 5925)"
            ]
          },
          "metadata": {}
        }
      ]
    },
    {
      "cell_type": "code",
      "source": [
        "import openai\n",
        "from openai import OpenAI\n",
        "import os\n",
        "\n",
        "# Set your API key securely\n",
        "from getpass import getpass\n",
        "api_key = getpass('Enter your API key: ')\n",
        "os.environ['OPENAI_API_KEY'] = api_key\n",
        "client = OpenAI()"
      ],
      "metadata": {
        "colab": {
          "base_uri": "https://localhost:8080/"
        },
        "id": "Hh3nm2ZjjjV6",
        "outputId": "123ccbd8-b7df-4f82-ae70-abb8afccf00b"
      },
      "execution_count": null,
      "outputs": [
        {
          "name": "stdout",
          "output_type": "stream",
          "text": [
            "Enter your API key: ··········\n"
          ]
        }
      ]
    },
    {
      "cell_type": "code",
      "source": [
        "def chunk_text(text):\n",
        "    try:\n",
        "        response = client.chat.completions.create(\n",
        "            model=\"gpt-4-turbo\",\n",
        "            messages=[\n",
        "                {\"role\": \"system\", \"content\": \"You are a document processor, skilled in breaking long transcriptions into groups of cohesive ideas. Do not summarize, or reflect. The response should only include exactly the same words that are in the prompt with the only changes being the correction of clear grammatical errors. Return each chunk with a line break at the end of the chunk\"},\n",
        "                {\"role\": \"user\", \"content\": f\"Divide this text into coherent chunks each no more than 400 words:\\n\\n{text}\"}\n",
        "                ]\n",
        "        )\n",
        "        text_chunks = response.choices[0].message.content.strip()\n",
        "        return text_chunks\n",
        "    except Exception as e:\n",
        "        print(f\"An error occurred: {e}\")\n",
        "        return []"
      ],
      "metadata": {
        "id": "n1ruLVVHBSX4"
      },
      "execution_count": null,
      "outputs": []
    },
    {
      "cell_type": "code",
      "source": [
        "import json\n",
        "\n",
        "training_data = {\n",
        "    \"prompts\" : []\n",
        "}"
      ],
      "metadata": {
        "id": "4hTZezAyg-jh"
      },
      "execution_count": null,
      "outputs": []
    },
    {
      "cell_type": "code",
      "source": [
        "text_data = \"\"\n",
        "with open('example.en.txt', 'r') as file:\n",
        "    text_data = file.read()\n",
        "\n",
        "chunks = chunk_text(text_data)\n",
        "print(chunks)\n",
        "\n",
        "training_data['prompts'].append(json.loads(chunks))\n",
        "\n",
        "#for i, chunk in enumerate(chunks):\n",
        "    #print(f\"Chunk {i+1}: {chunk}\\n\")\n",
        "\n",
        "print(training_data)"
      ],
      "metadata": {
        "id": "lHgJPoX2jVIU"
      },
      "execution_count": null,
      "outputs": []
    },
    {
      "cell_type": "code",
      "source": [
        "print(chunks)"
      ],
      "metadata": {
        "id": "lpFQPWM3kk5P"
      },
      "execution_count": null,
      "outputs": []
    },
    {
      "cell_type": "code",
      "source": [
        "print(json.loads(chunks))"
      ],
      "metadata": {
        "id": "t83C2brBiBBq"
      },
      "execution_count": null,
      "outputs": []
    },
    {
      "cell_type": "code",
      "source": [],
      "metadata": {
        "id": "VkF87OZziC7v"
      },
      "execution_count": null,
      "outputs": []
    }
  ]
}