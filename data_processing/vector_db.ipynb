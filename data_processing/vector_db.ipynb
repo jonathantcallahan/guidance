{
 "cells": [
  {
   "cell_type": "code",
   "execution_count": null,
   "metadata": {},
   "outputs": [],
   "source": [
    "%pip install -U weaviate-client\n",
    "%pip install python-dotenv  \n",
    "%pip install pandas"
   ]
  },
  {
   "cell_type": "code",
   "execution_count": 1,
   "metadata": {},
   "outputs": [],
   "source": [
    "import weaviate\n",
    "import weaviate.classes as wvc\n",
    "from weaviate.classes.init import Auth\n",
    "from dotenv import load_dotenv\n",
    "import json\n",
    "import os\n",
    "import requests\n",
    "import pandas as pd"
   ]
  },
  {
   "cell_type": "code",
   "execution_count": 26,
   "metadata": {},
   "outputs": [],
   "source": [
    "load_dotenv()\n",
    "\n",
    "client = weaviate.connect_to_weaviate_cloud(\n",
    "    cluster_url = os.getenv(\"CLUSTER_URL\"),\n",
    "    auth_credentials = weaviate.auth.AuthApiKey(os.getenv(\"WEAVIATE_API_KEY\")),\n",
    "    headers = {\n",
    "        \"X-OpenAI-Api-Key\": os.getenv(\"OPENAI_AI_KEY\")\n",
    "    }\n",
    ")"
   ]
  },
  {
   "cell_type": "code",
   "execution_count": null,
   "metadata": {},
   "outputs": [],
   "source": [
    "questions = client.collections.create(\n",
    "    name=\"Question\",\n",
    "    vectorizer_config=wvc.config.Configure.Vectorizer.text2vec_openai(),\n",
    "    generative_config=wvc.config.Configure.Generative.openai()\n",
    ")"
   ]
  },
  {
   "cell_type": "code",
   "execution_count": 7,
   "metadata": {},
   "outputs": [],
   "source": [
    "df = pd.read_json('paragraphs_20240805_01.json', lines=True)"
   ]
  },
  {
   "cell_type": "code",
   "execution_count": 28,
   "metadata": {},
   "outputs": [],
   "source": [
    "collection = client.collections.get(\"Question\")\n",
    "with collection.batch.dynamic() as batch:\n",
    "    for i, row in df.iterrows():\n",
    "        \n",
    "        properties = {\n",
    "            \"answer\": row[0],\n",
    "            \"book\": row[1]\n",
    "        }\n",
    "\n",
    "        batch.add_object(properties=properties)"
   ]
  },
  {
   "cell_type": "code",
   "execution_count": null,
   "metadata": {},
   "outputs": [],
   "source": [
    "#configure batch\n",
    "client.batch.configure(batch_size=100)  \n",
    "with client.batch as batch:\n",
    "    \n",
    "    "
   ]
  },
  {
   "cell_type": "code",
   "execution_count": null,
   "metadata": {},
   "outputs": [],
   "source": [
    "question_objs = list()\n",
    "\n",
    "for i in range(3001,4000):\n",
    "    question_objs.append({'text':block_list[i]})\n",
    "\n",
    "questions = client.collections.get(\"Question\")\n",
    "questions.data.insert_many(question_objs)\n",
    "    "
   ]
  },
  {
   "cell_type": "code",
   "execution_count": null,
   "metadata": {},
   "outputs": [],
   "source": [
    "try:\n",
    "    pass\n",
    "    questions = client.collections.get(\"Question\")\n",
    "    response = questions.query.near_text(\n",
    "        query=\"What should I do this evening?\",\n",
    "        limit=2\n",
    "    )\n",
    "\n",
    "    print(f'{response.objects[0].properties}\\n')\n",
    "    print(response)\n",
    "\n",
    "finally:\n",
    "    client.close()\n",
    "    "
   ]
  }
 ],
 "metadata": {
  "kernelspec": {
   "display_name": "Python 3",
   "language": "python",
   "name": "python3"
  },
  "language_info": {
   "codemirror_mode": {
    "name": "ipython",
    "version": 3
   },
   "file_extension": ".py",
   "mimetype": "text/x-python",
   "name": "python",
   "nbconvert_exporter": "python",
   "pygments_lexer": "ipython3",
   "version": "3.12.0"
  }
 },
 "nbformat": 4,
 "nbformat_minor": 2
}
