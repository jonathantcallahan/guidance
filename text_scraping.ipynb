{
  "nbformat": 4,
  "nbformat_minor": 0,
  "metadata": {
    "colab": {
      "provenance": [],
      "authorship_tag": "ABX9TyOWKZkOk4W232N5WxmrHJLW",
      "include_colab_link": true
    },
    "kernelspec": {
      "name": "python3",
      "display_name": "Python 3"
    },
    "language_info": {
      "name": "python"
    }
  },
  "cells": [
    {
      "cell_type": "markdown",
      "metadata": {
        "id": "view-in-github",
        "colab_type": "text"
      },
      "source": [
        "<a href=\"https://colab.research.google.com/github/jonathantcallahan/guidance/blob/main/text_scraping.ipynb\" target=\"_parent\"><img src=\"https://colab.research.google.com/assets/colab-badge.svg\" alt=\"Open In Colab\"/></a>"
      ]
    },
    {
      "cell_type": "code",
      "execution_count": null,
      "metadata": {
        "id": "NGC4j-6vyFFZ"
      },
      "outputs": [],
      "source": [
        "!pip install beautifulsoup4 requests\n",
        "\n",
        "import requests\n",
        "from bs4 import BeautifulSoup\n",
        "import json\n",
        "import time"
      ]
    },
    {
      "cell_type": "code",
      "source": [
        "import requests\n",
        "from bs4 import BeautifulSoup\n",
        "from time import sleep\n",
        "\n",
        "def fetch_urls(base_url, start_page, end_page):\n",
        "    links = []\n",
        "\n",
        "    headers = {\"User-Agent\": \"Mozilla/5.0 (X11; Ubuntu; Linux x86_64; rv:108.0) Gecko/20100101 Firefox/108.0\"}\n",
        "\n",
        "    for page in range(start_page, end_page + 1):\n",
        "        url = f\"{base_url}/page/{page}/\" if page < 1 else base_url\n",
        "        print(f\"Fetching: {url}\")\n",
        "        response = requests.get(url, headers=headers)\n",
        "\n",
        "        if response.status_code == 200:\n",
        "            soup = BeautifulSoup(response.text, 'html.parser')\n",
        "            container = soup.find('div', id='main-content')\n",
        "            if container:\n",
        "                h2_tags = container.find_all('h2')\n",
        "                for h2 in h2_tags:\n",
        "                    a_tag = h2.find('a')\n",
        "                    if a_tag and a_tag.has_attr('href'):\n",
        "                        links.append(a_tag['href'])\n",
        "        else:\n",
        "            print(f\"Failed to fetch {url}: Status code {response.status_code}\")\n",
        "\n",
        "        sleep(2)\n",
        "\n",
        "    return links\n",
        "\n",
        "base_url = \"https://alanwatts.org/category/transcripts\"\n",
        "start_page = 1\n",
        "end_page = 13\n",
        "all_links = fetch_urls(base_url, start_page, end_page)\n",
        "print(all_links)"
      ],
      "metadata": {
        "id": "DXLOaRQbyZ1D"
      },
      "execution_count": null,
      "outputs": []
    },
    {
      "cell_type": "code",
      "source": [
        "json_objects = []"
      ],
      "metadata": {
        "id": "eIqWd5lg6zkV"
      },
      "execution_count": null,
      "outputs": []
    },
    {
      "cell_type": "code",
      "source": [
        "def fetch_and_process(url):\n",
        "  headers = {\"User-Agent\": \"Mozilla/5.0 (X11; Ubuntu; Linux x86_64; rv:108.0) Gecko/20100101 Firefox/108.0\"}\n",
        "  response = requests.get(url, headers=headers)\n",
        "\n",
        "  if response.status_code == 200:\n",
        "    soup = BeautifulSoup(response.text, 'html.parser')\n",
        "    transcript_div = soup.find('div', class_='ts-transcript')\n",
        "    if transcript_div:\n",
        "      paragraphs = transcript_div.find_all('p')\n",
        "      for p in paragraphs:\n",
        "        text = p.get_text(strip=True)\n",
        "        if len(text) > 100:\n",
        "          json_obj = {\n",
        "              \"instruction\" : \"\",\n",
        "              \"input\" : \"\",\n",
        "              \"output\" : text\n",
        "          }\n",
        "          json_objects.append(json_obj)\n",
        "    else:\n",
        "      print(f'no transcript class: {url}')\n",
        "  else:\n",
        "    print('failed to fetch url')\n",
        "\n",
        "for link in list(set(all_links)):\n",
        "  fetch_and_process(link)\n",
        "  sleep(2)\n",
        "\n",
        "print(json.dumps(json_objects, indent=4))"
      ],
      "metadata": {
        "id": "XC-xgK6L-FdC"
      },
      "execution_count": null,
      "outputs": []
    },
    {
      "cell_type": "code",
      "source": [
        "from google.colab import files\n",
        "import io\n",
        "\n",
        "with open('data.json', 'w') as file:\n",
        "  json.dump(json_objects, file, indent=4, ensure_ascii=False)\n",
        "\n",
        "files.download('data.json')"
      ],
      "metadata": {
        "colab": {
          "base_uri": "https://localhost:8080/",
          "height": 17
        },
        "id": "d6gZ3-L7JQNS",
        "outputId": "896603a6-bcad-4609-8579-745ccebedb21"
      },
      "execution_count": null,
      "outputs": [
        {
          "output_type": "display_data",
          "data": {
            "text/plain": [
              "<IPython.core.display.Javascript object>"
            ],
            "application/javascript": [
              "\n",
              "    async function download(id, filename, size) {\n",
              "      if (!google.colab.kernel.accessAllowed) {\n",
              "        return;\n",
              "      }\n",
              "      const div = document.createElement('div');\n",
              "      const label = document.createElement('label');\n",
              "      label.textContent = `Downloading \"${filename}\": `;\n",
              "      div.appendChild(label);\n",
              "      const progress = document.createElement('progress');\n",
              "      progress.max = size;\n",
              "      div.appendChild(progress);\n",
              "      document.body.appendChild(div);\n",
              "\n",
              "      const buffers = [];\n",
              "      let downloaded = 0;\n",
              "\n",
              "      const channel = await google.colab.kernel.comms.open(id);\n",
              "      // Send a message to notify the kernel that we're ready.\n",
              "      channel.send({})\n",
              "\n",
              "      for await (const message of channel.messages) {\n",
              "        // Send a message to notify the kernel that we're ready.\n",
              "        channel.send({})\n",
              "        if (message.buffers) {\n",
              "          for (const buffer of message.buffers) {\n",
              "            buffers.push(buffer);\n",
              "            downloaded += buffer.byteLength;\n",
              "            progress.value = downloaded;\n",
              "          }\n",
              "        }\n",
              "      }\n",
              "      const blob = new Blob(buffers, {type: 'application/binary'});\n",
              "      const a = document.createElement('a');\n",
              "      a.href = window.URL.createObjectURL(blob);\n",
              "      a.download = filename;\n",
              "      div.appendChild(a);\n",
              "      a.click();\n",
              "      div.remove();\n",
              "    }\n",
              "  "
            ]
          },
          "metadata": {}
        },
        {
          "output_type": "display_data",
          "data": {
            "text/plain": [
              "<IPython.core.display.Javascript object>"
            ],
            "application/javascript": [
              "download(\"download_0037a85b-0cba-4b47-8c4b-deba6083b801\", \"data.json\", 315157)"
            ]
          },
          "metadata": {}
        }
      ]
    },
    {
      "cell_type": "code",
      "source": [],
      "metadata": {
        "id": "S97tYVRRN3II"
      },
      "execution_count": null,
      "outputs": []
    }
  ]
}