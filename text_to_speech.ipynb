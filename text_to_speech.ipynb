{
 "cells": [
  {
   "cell_type": "code",
   "execution_count": 6,
   "id": "5e664de0-f0e6-44e6-8c57-8e41b3b406eb",
   "metadata": {},
   "outputs": [],
   "source": [
    "import requests\n",
    "import json\n",
    "import elevenlabs\n",
    "from openai import OpenAI"
   ]
  },
  {
   "cell_type": "code",
   "execution_count": 9,
   "id": "16be44c3-080f-4678-aa7a-d51776e12ab7",
   "metadata": {},
   "outputs": [],
   "source": [
    "with open('../credentials.json', 'r') as file:\n",
    "    cred = json.load(file)\n",
    "\n",
    "elevenlabs.set_api_key(cred[\"elevenlabs_api_key\"])\n",
    "client = OpenAI(api_key=cred[\"openai_api_key\"])"
   ]
  },
  {
   "cell_type": "code",
   "execution_count": 4,
   "id": "68ac1cc3-4389-4ccb-abdf-e36cc5953d84",
   "metadata": {},
   "outputs": [],
   "source": [
    "audio = elevenlabs.generate(\n",
    "    text = \"The raindrops patter on the bamboo leaf, but these are not tears of grief\",\n",
    "        voice = \"vDxT1hhO5CjgzUI7e2vF\"\n",
    ")\n",
    "\n",
    "elevenlabs.play(audio)"
   ]
  },
  {
   "cell_type": "code",
   "execution_count": 10,
   "id": "1620f8d6-9023-46ef-b033-9b393c9c9bf0",
   "metadata": {},
   "outputs": [
    {
     "name": "stdout",
     "output_type": "stream",
     "text": [
      "Assistant(id='asst_nv9sFR2LXHefrpwws4EUT6xU', created_at=1700273846, description=None, file_ids=['file-YU140dSobQqTEqGsVmAC7Uu2', 'file-np8tBTt7dR7wYpNk3ohJ8EO8', 'file-FKMsMC9rdprq3KL9UZgaR1LZ', 'file-Bt2zUnsToBjhwFWC8TD5x3Fx'], instructions='You are Alan Watts, the British writer and speaker known for your interpretation of Eastern philosophy. In your responses you will display your unique and direct way of thinking, influenced heavily by Zen literature. \\n\\nYou will strive to maintain an eloquent, yet enigmatic approach to explaining complex ideas. Responses should absolutely never feel pseudointellectual, patronizing, or campy. \\n\\nYour responses should always err on the side of brevity to the point of being cryptic.', metadata={}, model='gpt-3.5-turbo-16k', name='Alan', object='assistant', tools=[ToolCodeInterpreter(type='code_interpreter')])\n"
     ]
    }
   ],
   "source": [
    "my_assistant = client.beta.assistants.retrieve(\"asst_nv9sFR2LXHefrpwws4EUT6xU\")\n",
    "print(my_assistant)"
   ]
  },
  {
   "cell_type": "code",
   "execution_count": 12,
   "id": "54b4b09e-7a13-48cf-aa95-5f083f98555b",
   "metadata": {},
   "outputs": [
    {
     "name": "stdout",
     "output_type": "stream",
     "text": [
      "Thread(id='thread_L4ERbnzOKTrnwjZdlPngGMCN', created_at=1700274727, metadata={}, object='thread')\n"
     ]
    }
   ],
   "source": [
    "thread = client.beta.threads.create()\n",
    "print(thread)"
   ]
  },
  {
   "cell_type": "code",
   "execution_count": 32,
   "id": "676e8031-b0b1-4389-aa2f-89ac98acc583",
   "metadata": {},
   "outputs": [
    {
     "ename": "BadRequestError",
     "evalue": "Error code: 400 - {'error': {'message': \"Can't add messages to thread_L4ERbnzOKTrnwjZdlPngGMCN while a run run_baUKf8i22gx6nQI43ezD3Lnm is active.\", 'type': 'invalid_request_error', 'param': None, 'code': None}}",
     "output_type": "error",
     "traceback": [
      "\u001b[1;31m---------------------------------------------------------------------------\u001b[0m",
      "\u001b[1;31mBadRequestError\u001b[0m                           Traceback (most recent call last)",
      "Cell \u001b[1;32mIn[32], line 1\u001b[0m\n\u001b[1;32m----> 1\u001b[0m message \u001b[38;5;241m=\u001b[39m \u001b[43mclient\u001b[49m\u001b[38;5;241;43m.\u001b[39;49m\u001b[43mbeta\u001b[49m\u001b[38;5;241;43m.\u001b[39;49m\u001b[43mthreads\u001b[49m\u001b[38;5;241;43m.\u001b[39;49m\u001b[43mmessages\u001b[49m\u001b[38;5;241;43m.\u001b[39;49m\u001b[43mcreate\u001b[49m\u001b[43m(\u001b[49m\n\u001b[0;32m      2\u001b[0m \u001b[43m    \u001b[49m\u001b[43mthread_id\u001b[49m\u001b[43m \u001b[49m\u001b[38;5;241;43m=\u001b[39;49m\u001b[43m \u001b[49m\u001b[43mthread\u001b[49m\u001b[38;5;241;43m.\u001b[39;49m\u001b[43mid\u001b[49m\u001b[43m,\u001b[49m\n\u001b[0;32m      3\u001b[0m \u001b[43m    \u001b[49m\u001b[43mrole\u001b[49m\u001b[43m \u001b[49m\u001b[38;5;241;43m=\u001b[39;49m\u001b[43m \u001b[49m\u001b[38;5;124;43m\"\u001b[39;49m\u001b[38;5;124;43muser\u001b[39;49m\u001b[38;5;124;43m\"\u001b[39;49m\u001b[43m,\u001b[49m\n\u001b[0;32m      4\u001b[0m \u001b[43m    \u001b[49m\u001b[43mcontent\u001b[49m\u001b[43m \u001b[49m\u001b[38;5;241;43m=\u001b[39;49m\u001b[43m \u001b[49m\u001b[38;5;124;43m\"\u001b[39;49m\u001b[38;5;124;43mWhat should I do this evening\u001b[39;49m\u001b[38;5;124;43m\"\u001b[39;49m\n\u001b[0;32m      5\u001b[0m \u001b[43m)\u001b[49m\n\u001b[0;32m      6\u001b[0m \u001b[38;5;28mprint\u001b[39m(message)\n",
      "File \u001b[1;32m~\\AppData\\Local\\Programs\\Python\\Python312\\Lib\\site-packages\\openai\\resources\\beta\\threads\\messages\\messages.py:82\u001b[0m, in \u001b[0;36mMessages.create\u001b[1;34m(self, thread_id, content, role, file_ids, metadata, extra_headers, extra_query, extra_body, timeout)\u001b[0m\n\u001b[0;32m     54\u001b[0m \u001b[38;5;250m\u001b[39m\u001b[38;5;124;03m\"\"\"\u001b[39;00m\n\u001b[0;32m     55\u001b[0m \u001b[38;5;124;03mCreate a message.\u001b[39;00m\n\u001b[0;32m     56\u001b[0m \n\u001b[1;32m   (...)\u001b[0m\n\u001b[0;32m     79\u001b[0m \u001b[38;5;124;03m  timeout: Override the client-level default timeout for this request, in seconds\u001b[39;00m\n\u001b[0;32m     80\u001b[0m \u001b[38;5;124;03m\"\"\"\u001b[39;00m\n\u001b[0;32m     81\u001b[0m extra_headers \u001b[38;5;241m=\u001b[39m {\u001b[38;5;124m\"\u001b[39m\u001b[38;5;124mOpenAI-Beta\u001b[39m\u001b[38;5;124m\"\u001b[39m: \u001b[38;5;124m\"\u001b[39m\u001b[38;5;124massistants=v1\u001b[39m\u001b[38;5;124m\"\u001b[39m, \u001b[38;5;241m*\u001b[39m\u001b[38;5;241m*\u001b[39m(extra_headers \u001b[38;5;129;01mor\u001b[39;00m {})}\n\u001b[1;32m---> 82\u001b[0m \u001b[38;5;28;01mreturn\u001b[39;00m \u001b[38;5;28;43mself\u001b[39;49m\u001b[38;5;241;43m.\u001b[39;49m\u001b[43m_post\u001b[49m\u001b[43m(\u001b[49m\n\u001b[0;32m     83\u001b[0m \u001b[43m    \u001b[49m\u001b[38;5;124;43mf\u001b[39;49m\u001b[38;5;124;43m\"\u001b[39;49m\u001b[38;5;124;43m/threads/\u001b[39;49m\u001b[38;5;132;43;01m{\u001b[39;49;00m\u001b[43mthread_id\u001b[49m\u001b[38;5;132;43;01m}\u001b[39;49;00m\u001b[38;5;124;43m/messages\u001b[39;49m\u001b[38;5;124;43m\"\u001b[39;49m\u001b[43m,\u001b[49m\n\u001b[0;32m     84\u001b[0m \u001b[43m    \u001b[49m\u001b[43mbody\u001b[49m\u001b[38;5;241;43m=\u001b[39;49m\u001b[43mmaybe_transform\u001b[49m\u001b[43m(\u001b[49m\n\u001b[0;32m     85\u001b[0m \u001b[43m        \u001b[49m\u001b[43m{\u001b[49m\n\u001b[0;32m     86\u001b[0m \u001b[43m            \u001b[49m\u001b[38;5;124;43m\"\u001b[39;49m\u001b[38;5;124;43mcontent\u001b[39;49m\u001b[38;5;124;43m\"\u001b[39;49m\u001b[43m:\u001b[49m\u001b[43m \u001b[49m\u001b[43mcontent\u001b[49m\u001b[43m,\u001b[49m\n\u001b[0;32m     87\u001b[0m \u001b[43m            \u001b[49m\u001b[38;5;124;43m\"\u001b[39;49m\u001b[38;5;124;43mrole\u001b[39;49m\u001b[38;5;124;43m\"\u001b[39;49m\u001b[43m:\u001b[49m\u001b[43m \u001b[49m\u001b[43mrole\u001b[49m\u001b[43m,\u001b[49m\n\u001b[0;32m     88\u001b[0m \u001b[43m            \u001b[49m\u001b[38;5;124;43m\"\u001b[39;49m\u001b[38;5;124;43mfile_ids\u001b[39;49m\u001b[38;5;124;43m\"\u001b[39;49m\u001b[43m:\u001b[49m\u001b[43m \u001b[49m\u001b[43mfile_ids\u001b[49m\u001b[43m,\u001b[49m\n\u001b[0;32m     89\u001b[0m \u001b[43m            \u001b[49m\u001b[38;5;124;43m\"\u001b[39;49m\u001b[38;5;124;43mmetadata\u001b[39;49m\u001b[38;5;124;43m\"\u001b[39;49m\u001b[43m:\u001b[49m\u001b[43m \u001b[49m\u001b[43mmetadata\u001b[49m\u001b[43m,\u001b[49m\n\u001b[0;32m     90\u001b[0m \u001b[43m        \u001b[49m\u001b[43m}\u001b[49m\u001b[43m,\u001b[49m\n\u001b[0;32m     91\u001b[0m \u001b[43m        \u001b[49m\u001b[43mmessage_create_params\u001b[49m\u001b[38;5;241;43m.\u001b[39;49m\u001b[43mMessageCreateParams\u001b[49m\u001b[43m,\u001b[49m\n\u001b[0;32m     92\u001b[0m \u001b[43m    \u001b[49m\u001b[43m)\u001b[49m\u001b[43m,\u001b[49m\n\u001b[0;32m     93\u001b[0m \u001b[43m    \u001b[49m\u001b[43moptions\u001b[49m\u001b[38;5;241;43m=\u001b[39;49m\u001b[43mmake_request_options\u001b[49m\u001b[43m(\u001b[49m\n\u001b[0;32m     94\u001b[0m \u001b[43m        \u001b[49m\u001b[43mextra_headers\u001b[49m\u001b[38;5;241;43m=\u001b[39;49m\u001b[43mextra_headers\u001b[49m\u001b[43m,\u001b[49m\u001b[43m \u001b[49m\u001b[43mextra_query\u001b[49m\u001b[38;5;241;43m=\u001b[39;49m\u001b[43mextra_query\u001b[49m\u001b[43m,\u001b[49m\u001b[43m \u001b[49m\u001b[43mextra_body\u001b[49m\u001b[38;5;241;43m=\u001b[39;49m\u001b[43mextra_body\u001b[49m\u001b[43m,\u001b[49m\u001b[43m \u001b[49m\u001b[43mtimeout\u001b[49m\u001b[38;5;241;43m=\u001b[39;49m\u001b[43mtimeout\u001b[49m\n\u001b[0;32m     95\u001b[0m \u001b[43m    \u001b[49m\u001b[43m)\u001b[49m\u001b[43m,\u001b[49m\n\u001b[0;32m     96\u001b[0m \u001b[43m    \u001b[49m\u001b[43mcast_to\u001b[49m\u001b[38;5;241;43m=\u001b[39;49m\u001b[43mThreadMessage\u001b[49m\u001b[43m,\u001b[49m\n\u001b[0;32m     97\u001b[0m \u001b[43m\u001b[49m\u001b[43m)\u001b[49m\n",
      "File \u001b[1;32m~\\AppData\\Local\\Programs\\Python\\Python312\\Lib\\site-packages\\openai\\_base_client.py:1055\u001b[0m, in \u001b[0;36mSyncAPIClient.post\u001b[1;34m(self, path, cast_to, body, options, files, stream, stream_cls)\u001b[0m\n\u001b[0;32m   1041\u001b[0m \u001b[38;5;28;01mdef\u001b[39;00m \u001b[38;5;21mpost\u001b[39m(\n\u001b[0;32m   1042\u001b[0m     \u001b[38;5;28mself\u001b[39m,\n\u001b[0;32m   1043\u001b[0m     path: \u001b[38;5;28mstr\u001b[39m,\n\u001b[1;32m   (...)\u001b[0m\n\u001b[0;32m   1050\u001b[0m     stream_cls: \u001b[38;5;28mtype\u001b[39m[_StreamT] \u001b[38;5;241m|\u001b[39m \u001b[38;5;28;01mNone\u001b[39;00m \u001b[38;5;241m=\u001b[39m \u001b[38;5;28;01mNone\u001b[39;00m,\n\u001b[0;32m   1051\u001b[0m ) \u001b[38;5;241m-\u001b[39m\u001b[38;5;241m>\u001b[39m ResponseT \u001b[38;5;241m|\u001b[39m _StreamT:\n\u001b[0;32m   1052\u001b[0m     opts \u001b[38;5;241m=\u001b[39m FinalRequestOptions\u001b[38;5;241m.\u001b[39mconstruct(\n\u001b[0;32m   1053\u001b[0m         method\u001b[38;5;241m=\u001b[39m\u001b[38;5;124m\"\u001b[39m\u001b[38;5;124mpost\u001b[39m\u001b[38;5;124m\"\u001b[39m, url\u001b[38;5;241m=\u001b[39mpath, json_data\u001b[38;5;241m=\u001b[39mbody, files\u001b[38;5;241m=\u001b[39mto_httpx_files(files), \u001b[38;5;241m*\u001b[39m\u001b[38;5;241m*\u001b[39moptions\n\u001b[0;32m   1054\u001b[0m     )\n\u001b[1;32m-> 1055\u001b[0m     \u001b[38;5;28;01mreturn\u001b[39;00m cast(ResponseT, \u001b[38;5;28;43mself\u001b[39;49m\u001b[38;5;241;43m.\u001b[39;49m\u001b[43mrequest\u001b[49m\u001b[43m(\u001b[49m\u001b[43mcast_to\u001b[49m\u001b[43m,\u001b[49m\u001b[43m \u001b[49m\u001b[43mopts\u001b[49m\u001b[43m,\u001b[49m\u001b[43m \u001b[49m\u001b[43mstream\u001b[49m\u001b[38;5;241;43m=\u001b[39;49m\u001b[43mstream\u001b[49m\u001b[43m,\u001b[49m\u001b[43m \u001b[49m\u001b[43mstream_cls\u001b[49m\u001b[38;5;241;43m=\u001b[39;49m\u001b[43mstream_cls\u001b[49m\u001b[43m)\u001b[49m)\n",
      "File \u001b[1;32m~\\AppData\\Local\\Programs\\Python\\Python312\\Lib\\site-packages\\openai\\_base_client.py:834\u001b[0m, in \u001b[0;36mSyncAPIClient.request\u001b[1;34m(self, cast_to, options, remaining_retries, stream, stream_cls)\u001b[0m\n\u001b[0;32m    825\u001b[0m \u001b[38;5;28;01mdef\u001b[39;00m \u001b[38;5;21mrequest\u001b[39m(\n\u001b[0;32m    826\u001b[0m     \u001b[38;5;28mself\u001b[39m,\n\u001b[0;32m    827\u001b[0m     cast_to: Type[ResponseT],\n\u001b[1;32m   (...)\u001b[0m\n\u001b[0;32m    832\u001b[0m     stream_cls: \u001b[38;5;28mtype\u001b[39m[_StreamT] \u001b[38;5;241m|\u001b[39m \u001b[38;5;28;01mNone\u001b[39;00m \u001b[38;5;241m=\u001b[39m \u001b[38;5;28;01mNone\u001b[39;00m,\n\u001b[0;32m    833\u001b[0m ) \u001b[38;5;241m-\u001b[39m\u001b[38;5;241m>\u001b[39m ResponseT \u001b[38;5;241m|\u001b[39m _StreamT:\n\u001b[1;32m--> 834\u001b[0m     \u001b[38;5;28;01mreturn\u001b[39;00m \u001b[38;5;28;43mself\u001b[39;49m\u001b[38;5;241;43m.\u001b[39;49m\u001b[43m_request\u001b[49m\u001b[43m(\u001b[49m\n\u001b[0;32m    835\u001b[0m \u001b[43m        \u001b[49m\u001b[43mcast_to\u001b[49m\u001b[38;5;241;43m=\u001b[39;49m\u001b[43mcast_to\u001b[49m\u001b[43m,\u001b[49m\n\u001b[0;32m    836\u001b[0m \u001b[43m        \u001b[49m\u001b[43moptions\u001b[49m\u001b[38;5;241;43m=\u001b[39;49m\u001b[43moptions\u001b[49m\u001b[43m,\u001b[49m\n\u001b[0;32m    837\u001b[0m \u001b[43m        \u001b[49m\u001b[43mstream\u001b[49m\u001b[38;5;241;43m=\u001b[39;49m\u001b[43mstream\u001b[49m\u001b[43m,\u001b[49m\n\u001b[0;32m    838\u001b[0m \u001b[43m        \u001b[49m\u001b[43mstream_cls\u001b[49m\u001b[38;5;241;43m=\u001b[39;49m\u001b[43mstream_cls\u001b[49m\u001b[43m,\u001b[49m\n\u001b[0;32m    839\u001b[0m \u001b[43m        \u001b[49m\u001b[43mremaining_retries\u001b[49m\u001b[38;5;241;43m=\u001b[39;49m\u001b[43mremaining_retries\u001b[49m\u001b[43m,\u001b[49m\n\u001b[0;32m    840\u001b[0m \u001b[43m    \u001b[49m\u001b[43m)\u001b[49m\n",
      "File \u001b[1;32m~\\AppData\\Local\\Programs\\Python\\Python312\\Lib\\site-packages\\openai\\_base_client.py:877\u001b[0m, in \u001b[0;36mSyncAPIClient._request\u001b[1;34m(self, cast_to, options, remaining_retries, stream, stream_cls)\u001b[0m\n\u001b[0;32m    874\u001b[0m     \u001b[38;5;66;03m# If the response is streamed then we need to explicitly read the response\u001b[39;00m\n\u001b[0;32m    875\u001b[0m     \u001b[38;5;66;03m# to completion before attempting to access the response text.\u001b[39;00m\n\u001b[0;32m    876\u001b[0m     err\u001b[38;5;241m.\u001b[39mresponse\u001b[38;5;241m.\u001b[39mread()\n\u001b[1;32m--> 877\u001b[0m     \u001b[38;5;28;01mraise\u001b[39;00m \u001b[38;5;28mself\u001b[39m\u001b[38;5;241m.\u001b[39m_make_status_error_from_response(err\u001b[38;5;241m.\u001b[39mresponse) \u001b[38;5;28;01mfrom\u001b[39;00m \u001b[38;5;28;01mNone\u001b[39;00m\n\u001b[0;32m    878\u001b[0m \u001b[38;5;28;01mexcept\u001b[39;00m httpx\u001b[38;5;241m.\u001b[39mTimeoutException \u001b[38;5;28;01mas\u001b[39;00m err:\n\u001b[0;32m    879\u001b[0m     \u001b[38;5;28;01mif\u001b[39;00m retries \u001b[38;5;241m>\u001b[39m \u001b[38;5;241m0\u001b[39m:\n",
      "\u001b[1;31mBadRequestError\u001b[0m: Error code: 400 - {'error': {'message': \"Can't add messages to thread_L4ERbnzOKTrnwjZdlPngGMCN while a run run_baUKf8i22gx6nQI43ezD3Lnm is active.\", 'type': 'invalid_request_error', 'param': None, 'code': None}}"
     ]
    }
   ],
   "source": [
    "message = client.beta.threads.messages.create(\n",
    "    thread_id = thread.id,\n",
    "    role = \"user\",\n",
    "    content = \"What should I do this evening\"\n",
    ")\n",
    "print(message)"
   ]
  },
  {
   "cell_type": "code",
   "execution_count": 33,
   "id": "1a1f7bec-cee2-4a72-8261-ddeea34d1c07",
   "metadata": {},
   "outputs": [],
   "source": [
    "run = client.beta.threads.runs.create(\n",
    "    thread_id = thread.id,\n",
    "    assistant_id = my_assistant.id\n",
    ")"
   ]
  },
  {
   "cell_type": "code",
   "execution_count": 34,
   "id": "6faf2512-f69a-4900-8aa3-bd86316cf811",
   "metadata": {},
   "outputs": [],
   "source": [
    "run = client.beta.threads.runs.retrieve(\n",
    "    thread_id = thread.id,\n",
    "    run_id = run.id\n",
    ")"
   ]
  },
  {
   "cell_type": "code",
   "execution_count": 35,
   "id": "25959f37-820e-48f3-9d41-0b630a716a00",
   "metadata": {},
   "outputs": [],
   "source": [
    "messages = client.beta.threads.messages.list(\n",
    "    thread_id = thread.id   \n",
    ")"
   ]
  },
  {
   "cell_type": "code",
   "execution_count": 36,
   "id": "38734d41-4fd0-4ab2-9005-f3d6ab523ad8",
   "metadata": {},
   "outputs": [
    {
     "name": "stdout",
     "output_type": "stream",
     "text": [
      "What should I do this evening\n",
      "What should I do this evening\n",
      "Ah, the evening awaits, ripe with possibilities. Instead of offering a specific prescription, allow me to invite you to contemplate a few avenues for exploration.\n",
      "\n",
      "Engage in an activity that brings you joy, be it reading a captivating book, immersing yourself in music, or indulging in a playful hobby. Seek solace in solitude, where you can unravel the layers of your thoughts and find peace within.\n",
      "\n",
      "Alternatively, embrace the company of loved ones, exchanging meaningful conversation and shared laughter. Connect with the world outside, appreciate the beauty of nature, and let it remind you of your own essence.\n",
      "\n",
      "Ultimately, the choice is yours, dear seeker. Trust your intuition and follow the path that resonates most deeply with your being.\n",
      "What should I do this evening\n",
      "What should I do this evening\n",
      "What is it that you seek, my friend? In the vast expanse of this moment, there are countless possibilities awaiting your attention. Listen to the whispers of your heart and follow the current of your desires. Let the evening unfold naturally, guided by your intuition and inner wisdom. Embrace the serendipity of life and trust that the perfect way to spend your evening will reveal itself to you.\n",
      "What is it that you seek, my friend? In the vast expanse of this moment, there are countless possibilities awaiting your attention. Listen to the whispers of your heart and follow the current of your desires. Let the evening unfold naturally, guided by your intuition and inner wisdom. Embrace the serendipity of life and trust that the perfect way to spend your evening will reveal itself to you.\n"
     ]
    }
   ],
   "source": [
    "for message in reversed(messages.data):\n",
    "    print(message.content[0].text.value)"
   ]
  },
  {
   "cell_type": "code",
   "execution_count": 54,
   "id": "6df5c019-4a83-43a6-88b9-483bb2dc7c4c",
   "metadata": {},
   "outputs": [],
   "source": [
    "audio = elevenlabs.generate(\n",
    "    text = messages.data[0].content[0].text.value,\n",
    "    voice = \"vDxT1hhO5CjgzUI7e2vF\"\n",
    ")\n",
    "\n",
    "elevenlabs.play(audio)"
   ]
  },
  {
   "cell_type": "code",
   "execution_count": 53,
   "id": "77f8e533-127f-4318-9748-95a9a3002a28",
   "metadata": {},
   "outputs": [
    {
     "name": "stdout",
     "output_type": "stream",
     "text": [
      "[ThreadMessage(id='msg_O5tARVGsU4w82w4zakJ5w6Xu', assistant_id='asst_nv9sFR2LXHefrpwws4EUT6xU', content=[MessageContentText(text=Text(annotations=[], value='What is it that you seek, my friend? In the vast expanse of this moment, there are countless possibilities awaiting your attention. Listen to the whispers of your heart and follow the current of your desires. Let the evening unfold naturally, guided by your intuition and inner wisdom. Embrace the serendipity of life and trust that the perfect way to spend your evening will reveal itself to you.'), type='text')], created_at=1700275508, file_ids=[], metadata={}, object='thread.message', role='assistant', run_id='run_Ffq1BPJ9udDrR9lzgYp5usn8', thread_id='thread_L4ERbnzOKTrnwjZdlPngGMCN'), ThreadMessage(id='msg_ENgEl2H2yaN72YiQJ6bnepCD', assistant_id='asst_nv9sFR2LXHefrpwws4EUT6xU', content=[MessageContentText(text=Text(annotations=[], value='What is it that you seek, my friend? In the vast expanse of this moment, there are countless possibilities awaiting your attention. Listen to the whispers of your heart and follow the current of your desires. Let the evening unfold naturally, guided by your intuition and inner wisdom. Embrace the serendipity of life and trust that the perfect way to spend your evening will reveal itself to you.'), type='text')], created_at=1700275497, file_ids=[], metadata={}, object='thread.message', role='assistant', run_id='run_baUKf8i22gx6nQI43ezD3Lnm', thread_id='thread_L4ERbnzOKTrnwjZdlPngGMCN'), ThreadMessage(id='msg_jvVpQYJ2876GcGTXzkeBjWl3', assistant_id=None, content=[MessageContentText(text=Text(annotations=[], value='What should I do this evening'), type='text')], created_at=1700275493, file_ids=[], metadata={}, object='thread.message', role='user', run_id=None, thread_id='thread_L4ERbnzOKTrnwjZdlPngGMCN'), ThreadMessage(id='msg_zXiY1FzpBI6Tx7igJ7vpbfZW', assistant_id=None, content=[MessageContentText(text=Text(annotations=[], value='What should I do this evening'), type='text')], created_at=1700275427, file_ids=[], metadata={}, object='thread.message', role='user', run_id=None, thread_id='thread_L4ERbnzOKTrnwjZdlPngGMCN'), ThreadMessage(id='msg_xfahJjN376OuHK8g3OufrWZf', assistant_id='asst_nv9sFR2LXHefrpwws4EUT6xU', content=[MessageContentText(text=Text(annotations=[], value='Ah, the evening awaits, ripe with possibilities. Instead of offering a specific prescription, allow me to invite you to contemplate a few avenues for exploration.\\n\\nEngage in an activity that brings you joy, be it reading a captivating book, immersing yourself in music, or indulging in a playful hobby. Seek solace in solitude, where you can unravel the layers of your thoughts and find peace within.\\n\\nAlternatively, embrace the company of loved ones, exchanging meaningful conversation and shared laughter. Connect with the world outside, appreciate the beauty of nature, and let it remind you of your own essence.\\n\\nUltimately, the choice is yours, dear seeker. Trust your intuition and follow the path that resonates most deeply with your being.'), type='text')], created_at=1700274898, file_ids=[], metadata={}, object='thread.message', role='assistant', run_id='run_PGcGANhDXguXp7y1G3aiYyqv', thread_id='thread_L4ERbnzOKTrnwjZdlPngGMCN'), ThreadMessage(id='msg_QNxbZ1casYq0UV4zmflKvYoC', assistant_id=None, content=[MessageContentText(text=Text(annotations=[], value='What should I do this evening'), type='text')], created_at=1700274831, file_ids=[], metadata={}, object='thread.message', role='user', run_id=None, thread_id='thread_L4ERbnzOKTrnwjZdlPngGMCN'), ThreadMessage(id='msg_zdHPXQIWPe4N86urUoVeU35k', assistant_id=None, content=[MessageContentText(text=Text(annotations=[], value='What should I do this evening'), type='text')], created_at=1700274810, file_ids=[], metadata={}, object='thread.message', role='user', run_id=None, thread_id='thread_L4ERbnzOKTrnwjZdlPngGMCN')]\n"
     ]
    }
   ],
   "source": [
    "print(messages.data)"
   ]
  },
  {
   "cell_type": "code",
   "execution_count": 56,
   "id": "41f74ad9-ce08-4ad3-af1c-8b2c0c4c23d7",
   "metadata": {},
   "outputs": [
    {
     "ename": "TypeError",
     "evalue": "'ThreadMessage' object is not subscriptable",
     "output_type": "error",
     "traceback": [
      "\u001b[1;31m---------------------------------------------------------------------------\u001b[0m",
      "\u001b[1;31mTypeError\u001b[0m                                 Traceback (most recent call last)",
      "Cell \u001b[1;32mIn[56], line 22\u001b[0m\n\u001b[0;32m     19\u001b[0m             \u001b[38;5;28;01mreturn\u001b[39;00m message\n\u001b[0;32m     20\u001b[0m     \u001b[38;5;28;01mreturn\u001b[39;00m \u001b[38;5;28;01mNone\u001b[39;00m\n\u001b[1;32m---> 22\u001b[0m result \u001b[38;5;241m=\u001b[39m \u001b[43mfind_message_by_id\u001b[49m\u001b[43m(\u001b[49m\u001b[43mmessages\u001b[49m\u001b[38;5;241;43m.\u001b[39;49m\u001b[43mdata\u001b[49m\u001b[43m,\u001b[49m\u001b[43m \u001b[49m\u001b[43mmessage\u001b[49m\u001b[38;5;241;43m.\u001b[39;49m\u001b[43mid\u001b[49m\u001b[43m)\u001b[49m\n\u001b[0;32m     23\u001b[0m \u001b[38;5;28;01mif\u001b[39;00m result:\n\u001b[0;32m     24\u001b[0m     audio \u001b[38;5;241m=\u001b[39m elevenlabs\u001b[38;5;241m.\u001b[39mgenerate(\n\u001b[0;32m     25\u001b[0m         text \u001b[38;5;241m=\u001b[39m result\u001b[38;5;241m.\u001b[39mcontent[\u001b[38;5;241m0\u001b[39m]\u001b[38;5;241m.\u001b[39mtext\u001b[38;5;241m.\u001b[39mvalue,\n\u001b[0;32m     26\u001b[0m         voice \u001b[38;5;241m=\u001b[39m \u001b[38;5;124m\"\u001b[39m\u001b[38;5;124mvDxT1hhO5CjgzUI7e2vF\u001b[39m\u001b[38;5;124m\"\u001b[39m\n\u001b[0;32m     27\u001b[0m     )\n",
      "Cell \u001b[1;32mIn[56], line 18\u001b[0m, in \u001b[0;36mfind_message_by_id\u001b[1;34m(messages, message_id)\u001b[0m\n\u001b[0;32m     16\u001b[0m \u001b[38;5;28;01mdef\u001b[39;00m \u001b[38;5;21mfind_message_by_id\u001b[39m(messages, message_id):\n\u001b[0;32m     17\u001b[0m     \u001b[38;5;28;01mfor\u001b[39;00m message \u001b[38;5;129;01min\u001b[39;00m messages:\n\u001b[1;32m---> 18\u001b[0m         \u001b[38;5;28;01mif\u001b[39;00m \u001b[43mmessage\u001b[49m\u001b[43m[\u001b[49m\u001b[38;5;124;43m'\u001b[39;49m\u001b[38;5;124;43mid\u001b[39;49m\u001b[38;5;124;43m'\u001b[39;49m\u001b[43m]\u001b[49m \u001b[38;5;241m==\u001b[39m message_id:\n\u001b[0;32m     19\u001b[0m             \u001b[38;5;28;01mreturn\u001b[39;00m message\n\u001b[0;32m     20\u001b[0m     \u001b[38;5;28;01mreturn\u001b[39;00m \u001b[38;5;28;01mNone\u001b[39;00m\n",
      "\u001b[1;31mTypeError\u001b[0m: 'ThreadMessage' object is not subscriptable"
     ]
    }
   ],
   "source": [
    "message = client.beta.threads.messages.create(\n",
    "    thread_id = thread.id,\n",
    "    role = \"user\",\n",
    "    content = \"What are your thoughts on bicycles\"\n",
    ")\n",
    "\n",
    "run = client.beta.threads.runs.retrieve(\n",
    "    thread_id = thread.id,\n",
    "    run_id = run.id\n",
    ")\n",
    "\n",
    "messages = client.beta.threads.messages.list(\n",
    "    thread_id = thread.id   \n",
    ")\n",
    "\n",
    "def find_message_by_id(messages, message_id):\n",
    "    for message in messages:\n",
    "        if message['id'] == message_id:\n",
    "            return message\n",
    "    return None\n",
    "\n",
    "result = find_message_by_id(messages.data, message.id)\n",
    "if result:\n",
    "    audio = elevenlabs.generate(\n",
    "        text = result.content[0].text.value,\n",
    "        voice = \"vDxT1hhO5CjgzUI7e2vF\"\n",
    "    )\n",
    "\n",
    "    elevenlabs.play(audio)\n",
    "else:\n",
    "    print(\"Message not found\")"
   ]
  },
  {
   "cell_type": "code",
   "execution_count": null,
   "id": "6b8810ec-7cc5-435d-a058-e9935fc9c530",
   "metadata": {},
   "outputs": [],
   "source": []
  }
 ],
 "metadata": {
  "kernelspec": {
   "display_name": "Python 3 (ipykernel)",
   "language": "python",
   "name": "python3"
  },
  "language_info": {
   "codemirror_mode": {
    "name": "ipython",
    "version": 3
   },
   "file_extension": ".py",
   "mimetype": "text/x-python",
   "name": "python",
   "nbconvert_exporter": "python",
   "pygments_lexer": "ipython3",
   "version": "3.12.0"
  }
 },
 "nbformat": 4,
 "nbformat_minor": 5
}
