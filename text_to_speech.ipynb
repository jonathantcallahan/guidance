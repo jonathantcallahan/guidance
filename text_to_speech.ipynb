{
 "cells": [
  {
   "cell_type": "code",
   "execution_count": null,
   "id": "07a10dd0",
   "metadata": {},
   "outputs": [],
   "source": [
    "!pip install elevenlabs\n",
    "!pip install openai\n",
    "!pip install numpy"
   ]
  },
  {
   "cell_type": "code",
   "execution_count": 67,
   "id": "5e664de0-f0e6-44e6-8c57-8e41b3b406eb",
   "metadata": {},
   "outputs": [],
   "source": [
    "import requests\n",
    "import json\n",
    "import elevenlabs\n",
    "from openai import OpenAI\n",
    "import time\n",
    "import numpy\n",
    "import uuid"
   ]
  },
  {
   "cell_type": "code",
   "execution_count": 12,
   "id": "16be44c3-080f-4678-aa7a-d51776e12ab7",
   "metadata": {},
   "outputs": [],
   "source": [
    "with open('../credentials.json', 'r') as file:\n",
    "    cred = json.load(file)\n",
    "\n",
    "elevenlabs.set_api_key(cred[\"elevenlabs_api_key\"])\n",
    "client = OpenAI(api_key=cred[\"openai_api_key\"])\n",
    "\n",
    "assistant_id = \"asst_nv9sFR2LXHefrpwws4EUT6xU\"\n",
    "voice_id = \"vDxT1hhO5CjgzUI7e2vF\"\n",
    "\n",
    "my_assistant = client.beta.assistants.retrieve(assistant_id)\n",
    "\n",
    "new_thread = client.beta.threads.create()"
   ]
  },
  {
   "cell_type": "code",
   "execution_count": 64,
   "id": "b7246a7a",
   "metadata": {},
   "outputs": [
    {
     "name": "stdout",
     "output_type": "stream",
     "text": [
      "c:\\Users\\jonathancallahan\\Projects\\guidance\\.venv\\Scripts\\python.exe\n"
     ]
    }
   ],
   "source": [
    "import subprocess\n",
    "import sys\n",
    "\n",
    "print(sys.executable)\n",
    "python_interpreter = sys.executable\n",
    "\n",
    "def video_generation(audio_path, audio_id):\n",
    "    os.makedirs(os.path.join('results', audio_id))\n",
    "\n",
    "    audio_file = audio_path  # Can be changed dynamically\n",
    "    source_image = \"./SadTalker/example_img.jpg\"\n",
    "    result_dir = \"./results/{audio_id}\"\n",
    "    # Construct the command string\n",
    "    command = f\"!python ./SadTalker/inference.py --driven_audio {audio_file} --source_image {source_image} --result_dir {result_dir}\"\n",
    "    get_ipython().system(command)\n",
    "    \n",
    "    '''\n",
    "    !python ./SadTalker/inference.py \\\n",
    "      --driven_audio test.wav \\\n",
    "      --source_image ./SadTalker/example_img.jpg \\\n",
    "      --result_dir ./results/\n",
    "    '''\n",
    "    \n",
    "    videos = glob.glob(\"./results/{audio_id}/*.mp4\")\n",
    "    clip = VideoFileClip(videos[0])\n",
    "    clip = resize(clip, height=420)\n",
    "    clip.ipython_display()"
   ]
  },
  {
   "cell_type": "code",
   "execution_count": 14,
   "id": "41f74ad9-ce08-4ad3-af1c-8b2c0c4c23d7",
   "metadata": {},
   "outputs": [],
   "source": [
    "def new_question(question_text):\n",
    "  message_request = client.beta.threads.messages.create(\n",
    "      thread_id = new_thread.id,\n",
    "      role = \"user\",\n",
    "      content = question_text\n",
    "  )\n",
    "\n",
    "  run = client.beta.threads.runs.create(\n",
    "    thread_id = message_request.thread_id,\n",
    "    assistant_id = my_assistant.id\n",
    "  )\n",
    "\n",
    "  run = client.beta.threads.runs.retrieve(\n",
    "    thread_id = message_request.thread_id,\n",
    "    run_id = run.id\n",
    "  )\n",
    "\n",
    "  def wait_for_completed():\n",
    "      while True:\n",
    "          response = client.beta.threads.runs.retrieve(thread_id = new_thread.id, run_id = run.id)\n",
    "          if response.status == \"completed\":\n",
    "              return response\n",
    "          time.sleep(1)\n",
    "\n",
    "  run_return = wait_for_completed()\n",
    "\n",
    "  messages = client.beta.threads.messages.list(\n",
    "    thread_id = message_request.thread_id\n",
    "  )\n",
    "\n",
    "  audio = elevenlabs.generate(\n",
    "      text = messages.data[0].content[0].text.value,\n",
    "          voice = voice_id\n",
    "  )\n",
    "\n",
    "  elevenlabs.save(audio, \"test.wav\")\n",
    "  video_generation(\"test.wav\", uuid.uuid4())\n",
    "\n",
    "  #elevenlabs.play(audio)\n",
    "  "
   ]
  },
  {
   "cell_type": "code",
   "execution_count": 66,
   "id": "7c2b035e",
   "metadata": {},
   "outputs": [
    {
     "name": "stdout",
     "output_type": "stream",
     "text": [
      "Python interpreter in script: c:\\Users\\jonathancallahan\\Projects\\guidance\\.venv\\Scripts\\python.exe\n",
      "Python interpreter in script: c:\\Users\\jonathancallahan\\Projects\\guidance\\.venv\\Scripts\\python.exe\n",
      "./SadTalker\\./checkpoints\\epoch_20.pth\n",
      "./SadTalker\\./checkpoints\\auido2pose_00140-model.pth\n",
      "./SadTalker\\./checkpoints\\auido2exp_00300-model.pth\n",
      "./SadTalker\\./checkpoints\\facevid2vid_00189-model.pth.tar\n",
      "./SadTalker\\./checkpoints\\mapping_00229-model.pth.tar\n",
      "The generated video is named example_img##test in ./results\\2023_12_21_15.33.17\n"
     ]
    },
    {
     "name": "stderr",
     "output_type": "stream",
     "text": [
      "\n",
      "landmark Det::   0%|          | 0/1 [00:00<?, ?it/s]\n",
      "landmark Det:: 100%|██████████| 1/1 [00:16<00:00, 16.73s/it]\n",
      "landmark Det:: 100%|██████████| 1/1 [00:16<00:00, 16.74s/it]\n",
      "\n",
      " 3DMM Extraction In Video::   0%|          | 0/1 [00:00<?, ?it/s]\n",
      " 3DMM Extraction In Video:: 100%|██████████| 1/1 [00:00<00:00,  1.23it/s]\n",
      " 3DMM Extraction In Video:: 100%|██████████| 1/1 [00:00<00:00,  1.23it/s]\n",
      "\n",
      "Face Renderer::   0%|          | 0/72 [00:00<?, ?it/s]\n",
      "Face Renderer::   1%|▏         | 1/72 [00:03<04:16,  3.61s/it]\n",
      "Face Renderer::   4%|▍         | 3/72 [00:04<01:19,  1.16s/it]\n",
      "Face Renderer::   6%|▌         | 4/72 [00:04<01:04,  1.06it/s]\n",
      "Face Renderer::   7%|▋         | 5/72 [00:05<00:53,  1.24it/s]\n",
      "Face Renderer::   8%|▊         | 6/72 [00:05<00:47,  1.39it/s]\n",
      "Face Renderer::  10%|▉         | 7/72 [00:06<00:42,  1.53it/s]\n",
      "Face Renderer::  11%|█         | 8/72 [00:06<00:39,  1.62it/s]\n",
      "Face Renderer::  12%|█▎        | 9/72 [00:07<00:36,  1.71it/s]\n",
      "Face Renderer::  14%|█▍        | 10/72 [00:07<00:35,  1.76it/s]\n",
      "Face Renderer::  15%|█▌        | 11/72 [00:08<00:34,  1.78it/s]\n",
      "Face Renderer::  17%|█▋        | 12/72 [00:08<00:32,  1.82it/s]\n",
      "Face Renderer::  18%|█▊        | 13/72 [00:09<00:31,  1.84it/s]\n",
      "Face Renderer::  19%|█▉        | 14/72 [00:10<00:31,  1.87it/s]\n",
      "Face Renderer::  21%|██        | 15/72 [00:10<00:30,  1.89it/s]\n",
      "Face Renderer::  22%|██▏       | 16/72 [00:11<00:29,  1.89it/s]\n",
      "Face Renderer::  24%|██▎       | 17/72 [00:11<00:29,  1.90it/s]\n",
      "Face Renderer::  25%|██▌       | 18/72 [00:12<00:28,  1.91it/s]\n",
      "Face Renderer::  26%|██▋       | 19/72 [00:12<00:27,  1.92it/s]\n",
      "Face Renderer::  28%|██▊       | 20/72 [00:13<00:27,  1.89it/s]\n",
      "Face Renderer::  29%|██▉       | 21/72 [00:13<00:26,  1.91it/s]\n",
      "Face Renderer::  31%|███       | 22/72 [00:14<00:26,  1.91it/s]\n",
      "Face Renderer::  32%|███▏      | 23/72 [00:14<00:25,  1.91it/s]\n",
      "Face Renderer::  33%|███▎      | 24/72 [00:15<00:25,  1.90it/s]\n",
      "Face Renderer::  35%|███▍      | 25/72 [00:15<00:24,  1.90it/s]\n",
      "Face Renderer::  36%|███▌      | 26/72 [00:16<00:24,  1.91it/s]\n",
      "Face Renderer::  38%|███▊      | 27/72 [00:16<00:23,  1.92it/s]\n",
      "Face Renderer::  39%|███▉      | 28/72 [00:17<00:23,  1.90it/s]\n",
      "Face Renderer::  40%|████      | 29/72 [00:17<00:22,  1.91it/s]\n",
      "Face Renderer::  42%|████▏     | 30/72 [00:18<00:21,  1.92it/s]\n",
      "Face Renderer::  43%|████▎     | 31/72 [00:18<00:21,  1.90it/s]\n",
      "Face Renderer::  44%|████▍     | 32/72 [00:19<00:20,  1.91it/s]\n",
      "Face Renderer::  46%|████▌     | 33/72 [00:19<00:20,  1.90it/s]\n",
      "Face Renderer::  47%|████▋     | 34/72 [00:20<00:19,  1.91it/s]\n",
      "Face Renderer::  49%|████▊     | 35/72 [00:21<00:19,  1.89it/s]\n",
      "Face Renderer::  50%|█████     | 36/72 [00:21<00:18,  1.91it/s]\n",
      "Face Renderer::  51%|█████▏    | 37/72 [00:22<00:18,  1.90it/s]\n",
      "Face Renderer::  53%|█████▎    | 38/72 [00:22<00:17,  1.91it/s]\n",
      "Face Renderer::  54%|█████▍    | 39/72 [00:23<00:17,  1.90it/s]\n",
      "Face Renderer::  56%|█████▌    | 40/72 [00:23<00:16,  1.91it/s]\n",
      "Face Renderer::  57%|█████▋    | 41/72 [00:24<00:16,  1.90it/s]\n",
      "Face Renderer::  58%|█████▊    | 42/72 [00:24<00:15,  1.89it/s]\n",
      "Face Renderer::  60%|█████▉    | 43/72 [00:25<00:15,  1.90it/s]\n",
      "Face Renderer::  61%|██████    | 44/72 [00:25<00:14,  1.92it/s]\n",
      "Face Renderer::  62%|██████▎   | 45/72 [00:26<00:14,  1.90it/s]\n",
      "Face Renderer::  64%|██████▍   | 46/72 [00:26<00:13,  1.90it/s]\n",
      "Face Renderer::  65%|██████▌   | 47/72 [00:27<00:13,  1.90it/s]\n",
      "Face Renderer::  67%|██████▋   | 48/72 [00:27<00:12,  1.90it/s]\n",
      "Face Renderer::  68%|██████▊   | 49/72 [00:28<00:12,  1.90it/s]\n",
      "Face Renderer::  69%|██████▉   | 50/72 [00:28<00:11,  1.90it/s]\n",
      "Face Renderer::  71%|███████   | 51/72 [00:29<00:11,  1.91it/s]\n",
      "Face Renderer::  72%|███████▏  | 52/72 [00:29<00:10,  1.90it/s]\n",
      "Face Renderer::  74%|███████▎  | 53/72 [00:30<00:09,  1.91it/s]\n",
      "Face Renderer::  75%|███████▌  | 54/72 [00:31<00:09,  1.89it/s]\n",
      "Face Renderer::  76%|███████▋  | 55/72 [00:31<00:08,  1.90it/s]\n",
      "Face Renderer::  78%|███████▊  | 56/72 [00:32<00:08,  1.88it/s]\n",
      "Face Renderer::  79%|███████▉  | 57/72 [00:32<00:07,  1.89it/s]\n",
      "Face Renderer::  81%|████████  | 58/72 [00:33<00:07,  1.90it/s]\n",
      "Face Renderer::  82%|████████▏ | 59/72 [00:33<00:06,  1.89it/s]\n",
      "Face Renderer::  83%|████████▎ | 60/72 [00:34<00:06,  1.90it/s]\n",
      "Face Renderer::  85%|████████▍ | 61/72 [00:34<00:05,  1.89it/s]\n",
      "Face Renderer::  86%|████████▌ | 62/72 [00:35<00:05,  1.89it/s]\n",
      "Face Renderer::  88%|████████▊ | 63/72 [00:35<00:04,  1.90it/s]\n",
      "Face Renderer::  89%|████████▉ | 64/72 [00:36<00:04,  1.89it/s]\n",
      "Face Renderer::  90%|█████████ | 65/72 [00:36<00:03,  1.90it/s]\n",
      "Face Renderer::  92%|█████████▏| 66/72 [00:37<00:03,  1.90it/s]\n",
      "Face Renderer::  93%|█████████▎| 67/72 [00:37<00:02,  1.88it/s]\n",
      "Face Renderer::  94%|█████████▍| 68/72 [00:38<00:02,  1.90it/s]\n",
      "Face Renderer::  96%|█████████▌| 69/72 [00:38<00:01,  1.89it/s]\n",
      "Face Renderer::  97%|█████████▋| 70/72 [00:39<00:01,  1.90it/s]\n",
      "Face Renderer::  99%|█████████▊| 71/72 [00:39<00:00,  1.89it/s]\n",
      "Face Renderer:: 100%|██████████| 72/72 [00:40<00:00,  1.89it/s]\n",
      "Face Renderer:: 100%|██████████| 72/72 [00:40<00:00,  1.78it/s]\n",
      "ffmpeg version 2023-11-15-git-78f55457c9-full_build-www.gyan.dev Copyright (c) 2000-2023 the FFmpeg developers\n",
      "  built with gcc 12.2.0 (Rev10, Built by MSYS2 project)\n",
      "  configuration: --enable-gpl --enable-version3 --enable-static --pkg-config=pkgconf --disable-w32threads --disable-autodetect --enable-fontconfig --enable-iconv --enable-gnutls --enable-libxml2 --enable-gmp --enable-bzlib --enable-lzma --enable-libsnappy --enable-zlib --enable-librist --enable-libsrt --enable-libssh --enable-libzmq --enable-avisynth --enable-libbluray --enable-libcaca --enable-sdl2 --enable-libaribb24 --enable-libaribcaption --enable-libdav1d --enable-libdavs2 --enable-libuavs3d --enable-libzvbi --enable-librav1e --enable-libsvtav1 --enable-libwebp --enable-libx264 --enable-libx265 --enable-libxavs2 --enable-libxvid --enable-libaom --enable-libjxl --enable-libopenjpeg --enable-libvpx --enable-mediafoundation --enable-libass --enable-frei0r --enable-libfreetype --enable-libfribidi --enable-libharfbuzz --enable-liblensfun --enable-libvidstab --enable-libvmaf --enable-libzimg --enable-amf --enable-cuda-llvm --enable-cuvid --enable-ffnvcodec --enable-nvdec --enable-nvenc --enable-dxva2 --enable-d3d11va --enable-libvpl --enable-libshaderc --enable-vulkan --enable-libplacebo --enable-opencl --enable-libcdio --enable-libgme --enable-libmodplug --enable-libopenmpt --enable-libopencore-amrwb --enable-libmp3lame --enable-libshine --enable-libtheora --enable-libtwolame --enable-libvo-amrwbenc --enable-libcodec2 --enable-libilbc --enable-libgsm --enable-libopencore-amrnb --enable-libopus --enable-libspeex --enable-libvorbis --enable-ladspa --enable-libbs2b --enable-libflite --enable-libmysofa --enable-librubberband --enable-libsoxr --enable-chromaprint\n",
      "  libavutil      58. 32.100 / 58. 32.100\n",
      "  libavcodec     60. 33.100 / 60. 33.100\n",
      "  libavformat    60. 17.100 / 60. 17.100\n",
      "  libavdevice    60.  4.100 / 60.  4.100\n",
      "  libavfilter     9. 13.100 /  9. 13.100\n",
      "  libswscale      7.  6.100 /  7.  6.100\n",
      "  libswresample   4. 13.100 /  4. 13.100\n",
      "  libpostproc    57.  4.100 / 57.  4.100\n",
      "Input #0, mov,mp4,m4a,3gp,3g2,mj2, from './results\\2023_12_21_15.33.17\\temp_example_img##test.mp4':\n",
      "  Metadata:\n",
      "    major_brand     : isom\n",
      "    minor_version   : 512\n",
      "    compatible_brands: isomiso2avc1mp41\n",
      "    encoder         : Lavf58.29.100\n",
      "  Duration: 00:00:05.72, start: 0.000000, bitrate: 133 kb/s\n",
      "  Stream #0:0[0x1](und): Video: h264 (High) (avc1 / 0x31637661), yuv420p(progressive), 256x256, 130 kb/s, 25 fps, 25 tbr, 12800 tbn (default)\n",
      "    Metadata:\n",
      "      handler_name    : VideoHandler\n",
      "      vendor_id       : [0][0][0][0]\n",
      "[aist#1:0/pcm_s16le @ 0000023f43755800] Guessed Channel Layout: mono\n",
      "Input #1, wav, from './results\\2023_12_21_15.33.17\\test.wav':\n",
      "  Duration: 00:00:05.72, bitrate: 256 kb/s\n",
      "  Stream #1:0: Audio: pcm_s16le ([1][0][0][0] / 0x0001), 16000 Hz, 1 channels, s16, 256 kb/s\n",
      "Stream mapping:\n",
      "  Stream #0:0 -> #0:0 (copy)\n",
      "  Stream #1:0 -> #0:1 (pcm_s16le (native) -> aac (native))\n",
      "Press [q] to stop, [?] for help\n",
      "Output #0, mp4, to './results\\2023_12_21_15.33.17\\example_img##test.mp4':\n",
      "  Metadata:\n",
      "    major_brand     : isom\n",
      "    minor_version   : 512\n",
      "    compatible_brands: isomiso2avc1mp41\n",
      "    encoder         : Lavf60.17.100\n",
      "  Stream #0:0(und): Video: h264 (High) (avc1 / 0x31637661), yuv420p(progressive), 256x256, q=2-31, 130 kb/s, 25 fps, 25 tbr, 12800 tbn (default)\n",
      "    Metadata:\n",
      "      handler_name    : VideoHandler\n",
      "      vendor_id       : [0][0][0][0]\n",
      "  Stream #0:1: Audio: aac (LC) (mp4a / 0x6134706D), 16000 Hz, mono, fltp, 69 kb/s\n",
      "    Metadata:\n",
      "      encoder         : Lavc60.33.100 aac\n",
      "size=       0kB time=-00:00:00.06 bitrate=  -0.0kbits/s speed=N/A    \n",
      "[out#0/mp4 @ 0000023f4378b140] video:91kB audio:50kB subtitle:0kB other streams:0kB global headers:0kB muxing overhead: 3.522501%\n",
      "size=     146kB time=00:00:05.69 bitrate= 210.1kbits/s speed=44.5x    \n",
      "[aac @ 0000023f4375b240] Qavg: 12343.040\n"
     ]
    }
   ],
   "source": [
    "video_generation(\"test.wav\")\n"
   ]
  },
  {
   "cell_type": "code",
   "execution_count": 52,
   "id": "6b8810ec-7cc5-435d-a058-e9935fc9c530",
   "metadata": {},
   "outputs": [
    {
     "name": "stdout",
     "output_type": "stream",
     "text": [
      "Command failed\n",
      "Traceback (most recent call last):\n",
      "  File \"./SadTalker/inference.py\", line 9, in <module>\n",
      "    from src.utils.preprocess import CropAndExtract\n",
      "  File \"C:\\Users\\jonathancallahan\\Projects\\guidance\\SadTalker\\src\\utils\\preprocess.py\", line 4, in <module>\n",
      "    import numpy as np\n",
      "ModuleNotFoundError: No module named 'numpy'\n",
      "\n"
     ]
    }
   ],
   "source": [
    "new_question(\"Hello\")"
   ]
  },
  {
   "cell_type": "code",
   "execution_count": null,
   "metadata": {},
   "outputs": [],
   "source": [
    "!python -m pip install torch==1.12.1+cu113 torchvision==0.13.1+cu113 torchaudio==0.12.1 --extra-index-url https://download.pytorch.org/whl/cu113\n",
    "!python -m pip install moviepy\n",
    "!python -m pip install imageio==2.4.1\n",
    "!python -m pip install -r requirements.txt\n",
    "!python -m pip install cmake==3.25.2\n",
    "!python -m pip install boost==0.1\n",
    "!python -m pip install dlib-bin\n",
    "!python -m pip install basicsr==1.4.2\n",
    "!python -m pip install facexlib==0.2.5\n",
    "!python -m pip install kornia==0.6.10\n",
    "!python -m pip install face-alignment==1.3.5 yacs==0.1.8\n",
    "### install gpfgan for enhancer\n",
    "!python -m pip install git+https://github.com/TencentARC/GFPGAN"
   ]
  },
  {
   "cell_type": "code",
   "execution_count": 3,
   "id": "76c998e9",
   "metadata": {},
   "outputs": [],
   "source": [
    "import glob\n",
    "import matplotlib.pyplot as plt\n",
    "from PIL import Image\n",
    "from moviepy.video.fx.resize import resize\n",
    "from moviepy.editor import VideoFileClip"
   ]
  },
  {
   "cell_type": "code",
   "execution_count": 5,
   "metadata": {},
   "outputs": [
    {
     "name": "stdout",
     "output_type": "stream",
     "text": [
      "Collecting face-alignment==1.3.4\n",
      "  Using cached face_alignment-1.3.4-py2.py3-none-any.whl\n",
      "Requirement already satisfied: torch in c:\\users\\jonathancallahan\\projects\\guidance\\.venv\\lib\\site-packages (from face-alignment==1.3.4) (1.12.1+cu113)\n",
      "Requirement already satisfied: numpy in c:\\users\\jonathancallahan\\projects\\guidance\\.venv\\lib\\site-packages (from face-alignment==1.3.4) (1.23.1)\n",
      "Requirement already satisfied: scipy>=0.17 in c:\\users\\jonathancallahan\\projects\\guidance\\.venv\\lib\\site-packages (from face-alignment==1.3.4) (1.10.1)\n",
      "Requirement already satisfied: scikit-image in c:\\users\\jonathancallahan\\projects\\guidance\\.venv\\lib\\site-packages (from face-alignment==1.3.4) (0.21.0)\n",
      "Requirement already satisfied: opencv-python in c:\\users\\jonathancallahan\\projects\\guidance\\.venv\\lib\\site-packages (from face-alignment==1.3.4) (4.8.1.78)\n",
      "Requirement already satisfied: tqdm in c:\\users\\jonathancallahan\\projects\\guidance\\.venv\\lib\\site-packages (from face-alignment==1.3.4) (4.66.1)\n",
      "Requirement already satisfied: numba in c:\\users\\jonathancallahan\\projects\\guidance\\.venv\\lib\\site-packages (from face-alignment==1.3.4) (0.58.1)\n",
      "Requirement already satisfied: llvmlite<0.42,>=0.41.0dev0 in c:\\users\\jonathancallahan\\projects\\guidance\\.venv\\lib\\site-packages (from numba->face-alignment==1.3.4) (0.41.1)\n",
      "Requirement already satisfied: importlib-metadata in c:\\users\\jonathancallahan\\projects\\guidance\\.venv\\lib\\site-packages (from numba->face-alignment==1.3.4) (6.8.0)\n",
      "Requirement already satisfied: networkx>=2.8 in c:\\users\\jonathancallahan\\projects\\guidance\\.venv\\lib\\site-packages (from scikit-image->face-alignment==1.3.4) (3.1)\n",
      "Requirement already satisfied: pillow>=9.0.1 in c:\\users\\jonathancallahan\\projects\\guidance\\.venv\\lib\\site-packages (from scikit-image->face-alignment==1.3.4) (10.1.0)\n",
      "Requirement already satisfied: imageio>=2.27 in c:\\users\\jonathancallahan\\projects\\guidance\\.venv\\lib\\site-packages (from scikit-image->face-alignment==1.3.4) (2.33.1)\n",
      "Requirement already satisfied: tifffile>=2022.8.12 in c:\\users\\jonathancallahan\\projects\\guidance\\.venv\\lib\\site-packages (from scikit-image->face-alignment==1.3.4) (2023.7.10)\n",
      "Requirement already satisfied: PyWavelets>=1.1.1 in c:\\users\\jonathancallahan\\projects\\guidance\\.venv\\lib\\site-packages (from scikit-image->face-alignment==1.3.4) (1.4.1)\n",
      "Requirement already satisfied: packaging>=21 in c:\\users\\jonathancallahan\\projects\\guidance\\.venv\\lib\\site-packages (from scikit-image->face-alignment==1.3.4) (23.2)\n",
      "Requirement already satisfied: lazy_loader>=0.2 in c:\\users\\jonathancallahan\\projects\\guidance\\.venv\\lib\\site-packages (from scikit-image->face-alignment==1.3.4) (0.3)\n",
      "Requirement already satisfied: typing-extensions in c:\\users\\jonathancallahan\\projects\\guidance\\.venv\\lib\\site-packages (from torch->face-alignment==1.3.4) (4.8.0)\n",
      "Requirement already satisfied: colorama in c:\\users\\jonathancallahan\\projects\\guidance\\.venv\\lib\\site-packages (from tqdm->face-alignment==1.3.4) (0.4.6)\n",
      "Requirement already satisfied: zipp>=0.5 in c:\\users\\jonathancallahan\\projects\\guidance\\.venv\\lib\\site-packages (from importlib-metadata->numba->face-alignment==1.3.4) (3.17.0)\n",
      "Installing collected packages: face-alignment\n",
      "  Attempting uninstall: face-alignment\n",
      "    Found existing installation: face-alignment 1.3.5\n",
      "    Uninstalling face-alignment-1.3.5:\n",
      "      Successfully uninstalled face-alignment-1.3.5\n",
      "Successfully installed face-alignment-1.3.4\n",
      "Note: you may need to restart the kernel to use updated packages.\n"
     ]
    }
   ],
   "source": [
    "pip install face-alignment==1.3.4"
   ]
  },
  {
   "cell_type": "code",
   "execution_count": null,
   "metadata": {},
   "outputs": [],
   "source": [
    "!python ./SadTalker/inference.py \\\n",
    "  --driven_audio ./SadTalker/examples/driven_audio/RD_Radio31_000.wav \\\n",
    "  --source_image ./SadTalker/example_img.jpg \\\n",
    "  --result_dir ./results"
   ]
  },
  {
   "cell_type": "code",
   "execution_count": 17,
   "metadata": {},
   "outputs": [
    {
     "name": "stdout",
     "output_type": "stream",
     "text": [
      "['example_img##RD_Radio31_000.mat', 'example_img##RD_Radio31_000.mp4', 'example_img##RD_Radio31_000.txt', 'first_frame_dir']\n"
     ]
    }
   ],
   "source": [
    "import os\n",
    "\n",
    "# Path to the directory you want to scan\n",
    "directory_path = 'results/2023_12_19_20.56.50/'\n",
    "\n",
    "# List to hold the names of folders\n",
    "file_names = []\n",
    "\n",
    "# Walk through the directory\n",
    "for entry in os.scandir(directory_path):\n",
    "    \n",
    "    file_names.append(entry.name)\n",
    "\n",
    "# Print the folder names\n",
    "print(file_names)"
   ]
  },
  {
   "cell_type": "code",
   "execution_count": 22,
   "metadata": {},
   "outputs": [
    {
     "name": "stdout",
     "output_type": "stream",
     "text": [
      "c:\\Users\\jonathancallahan\\Projects\\guidance\n",
      " Volume in drive C is Windows\n",
      " Volume Serial Number is C402-5B7C\n",
      "\n",
      " Directory of c:\\Users\\jonathancallahan\\Projects\\guidance\n",
      "\n",
      "12/19/2023  09:19 PM    <DIR>          .\n",
      "12/19/2023  09:19 PM    <DIR>          ..\n",
      "11/17/2023  07:21 PM    <DIR>          .ipynb_checkpoints\n",
      "11/26/2023  02:13 PM    <DIR>          .venv\n",
      "12/19/2023  07:31 PM    <DIR>          checkpoints\n",
      "11/26/2023  12:30 PM    <DIR>          content\n",
      "11/17/2023  06:13 PM                10 README.md\n",
      "12/19/2023  08:56 PM    <DIR>          results\n",
      "12/19/2023  07:31 PM    <DIR>          SadTalker\n",
      "12/19/2023  09:19 PM            10,914 text_to_speech.ipynb\n",
      "11/17/2023  11:05 PM    <DIR>          video\n",
      "               2 File(s)         10,924 bytes\n",
      "               9 Dir(s)  522,661,634,048 bytes free\n"
     ]
    },
    {
     "ename": "FileNotFoundError",
     "evalue": "[WinError 2] The system cannot find the file specified: 'results/2023_12_19_20.56.50/example_img##RD_Radio31_000.mp4'",
     "output_type": "error",
     "traceback": [
      "\u001b[1;31m---------------------------------------------------------------------------\u001b[0m",
      "\u001b[1;31mFileNotFoundError\u001b[0m                         Traceback (most recent call last)",
      "\u001b[1;32mc:\\Users\\jonathancallahan\\Projects\\guidance\\text_to_speech.ipynb Cell 11\u001b[0m line \u001b[0;36m9\n\u001b[0;32m      <a href='vscode-notebook-cell:/c%3A/Users/jonathancallahan/Projects/guidance/text_to_speech.ipynb#X12sZmlsZQ%3D%3D?line=4'>5</a>\u001b[0m file_name \u001b[39m=\u001b[39m \u001b[39m'\u001b[39m\u001b[39mexample_img##RD_Radio31_000.mp4\u001b[39m\u001b[39m'\u001b[39m\n\u001b[0;32m      <a href='vscode-notebook-cell:/c%3A/Users/jonathancallahan/Projects/guidance/text_to_speech.ipynb#X12sZmlsZQ%3D%3D?line=6'>7</a>\u001b[0m full_path \u001b[39m=\u001b[39m os\u001b[39m.\u001b[39mpath\u001b[39m.\u001b[39mjoin(directory_path, file_name)\n\u001b[1;32m----> <a href='vscode-notebook-cell:/c%3A/Users/jonathancallahan/Projects/guidance/text_to_speech.ipynb#X12sZmlsZQ%3D%3D?line=8'>9</a>\u001b[0m os\u001b[39m.\u001b[39;49mstartfile(full_path)\n\u001b[0;32m     <a href='vscode-notebook-cell:/c%3A/Users/jonathancallahan/Projects/guidance/text_to_speech.ipynb#X12sZmlsZQ%3D%3D?line=9'>10</a>\u001b[0m \u001b[39m'''\u001b[39;00m\n\u001b[0;32m     <a href='vscode-notebook-cell:/c%3A/Users/jonathancallahan/Projects/guidance/text_to_speech.ipynb#X12sZmlsZQ%3D%3D?line=10'>11</a>\u001b[0m \u001b[39mif os.path.exists(video_path):\u001b[39;00m\n\u001b[0;32m     <a href='vscode-notebook-cell:/c%3A/Users/jonathancallahan/Projects/guidance/text_to_speech.ipynb#X12sZmlsZQ%3D%3D?line=11'>12</a>\u001b[0m \u001b[39m    print(\"File exists\")\u001b[39;00m\n\u001b[1;32m   (...)\u001b[0m\n\u001b[0;32m     <a href='vscode-notebook-cell:/c%3A/Users/jonathancallahan/Projects/guidance/text_to_speech.ipynb#X12sZmlsZQ%3D%3D?line=14'>15</a>\u001b[0m \u001b[39m    print(\"File not found\")\u001b[39;00m\n\u001b[0;32m     <a href='vscode-notebook-cell:/c%3A/Users/jonathancallahan/Projects/guidance/text_to_speech.ipynb#X12sZmlsZQ%3D%3D?line=15'>16</a>\u001b[0m \u001b[39m    '''\u001b[39;00m\n",
      "\u001b[1;31mFileNotFoundError\u001b[0m: [WinError 2] The system cannot find the file specified: 'results/2023_12_19_20.56.50/example_img##RD_Radio31_000.mp4'"
     ]
    }
   ],
   "source": [
    "import os\n",
    "print(os.getcwd())\n",
    "%ls\n",
    "directory_path = 'results/2023_12_19_20.56.50/'\n",
    "file_name = 'example_img##RD_Radio31_000.mp4'\n",
    "\n",
    "full_path = os.path.join(directory_path, file_name)\n",
    "\n",
    "os.startfile(full_path)\n",
    "'''\n",
    "if os.path.exists(video_path):\n",
    "    print(\"File exists\")\n",
    "    os.startfile(video_path)\n",
    "else:\n",
    "    print(\"File not found\")\n",
    "    '''"
   ]
  },
  {
   "cell_type": "code",
   "execution_count": null,
   "metadata": {},
   "outputs": [],
   "source": []
  }
 ],
 "metadata": {
  "kernelspec": {
   "display_name": "Python 3 (ipykernel)",
   "language": "python",
   "name": "python3"
  },
  "language_info": {
   "codemirror_mode": {
    "name": "ipython",
    "version": 3
   },
   "file_extension": ".py",
   "mimetype": "text/x-python",
   "name": "python",
   "nbconvert_exporter": "python",
   "pygments_lexer": "ipython3",
   "version": "3.8.0"
  }
 },
 "nbformat": 4,
 "nbformat_minor": 5
}
