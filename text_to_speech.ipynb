{
 "cells": [
  {
   "cell_type": "code",
   "execution_count": null,
   "id": "07a10dd0",
   "metadata": {},
   "outputs": [],
   "source": [
    "!pip install elevenlabs\n",
    "!pip install openai"
   ]
  },
  {
   "cell_type": "code",
   "execution_count": 27,
   "id": "5e664de0-f0e6-44e6-8c57-8e41b3b406eb",
   "metadata": {},
   "outputs": [],
   "source": [
    "import requests\n",
    "import json\n",
    "import elevenlabs\n",
    "from openai import OpenAI\n",
    "import time"
   ]
  },
  {
   "cell_type": "code",
   "execution_count": 29,
   "id": "16be44c3-080f-4678-aa7a-d51776e12ab7",
   "metadata": {},
   "outputs": [],
   "source": [
    "with open('../credentials.json', 'r') as file:\n",
    "    cred = json.load(file)\n",
    "\n",
    "elevenlabs.set_api_key(cred[\"elevenlabs_api_key\"])\n",
    "client = OpenAI(api_key=cred[\"openai_api_key\"])\n",
    "\n",
    "assistant_id = \"asst_nv9sFR2LXHefrpwws4EUT6xU\"\n",
    "voice_id = \"vDxT1hhO5CjgzUI7e2vF\"\n",
    "\n",
    "my_assistant = client.beta.assistants.retrieve(assistant_id)\n",
    "\n",
    "new_thread = client.beta.threads.create()"
   ]
  },
  {
   "cell_type": "code",
   "execution_count": null,
   "id": "b7246a7a",
   "metadata": {},
   "outputs": [],
   "source": [
    "def video_generation(audio_path):\n",
    "    import subprocess\n",
    "\n",
    "# Define the command and arguments\n",
    "command = [\n",
    "    'python', './SadTalker/inference.py',\n",
    "    '--driven_audio', audio_path,\n",
    "    '--source_image', './SadTalker/example_img.jpg',\n",
    "    '--result_dir', './results'\n",
    "]\n",
    "\n",
    "# Run the command\n",
    "process = subprocess.run(command, stdout=subprocess.PIPE, stderr=subprocess.PIPE, text=True)\n",
    "\n",
    "# Check if the process was successful\n",
    "if process.returncode == 0:\n",
    "    print(\"Command executed successfully\")\n",
    "    print(process.stdout)\n",
    "else:\n",
    "    print(\"Command failed\")\n",
    "    print(process.stderr)"
   ]
  },
  {
   "cell_type": "code",
   "execution_count": 30,
   "id": "41f74ad9-ce08-4ad3-af1c-8b2c0c4c23d7",
   "metadata": {},
   "outputs": [],
   "source": [
    "def new_question(question_text):\n",
    "  message_request = client.beta.threads.messages.create(\n",
    "      thread_id = new_thread.id,\n",
    "      role = \"user\",\n",
    "      content = question_text\n",
    "  )\n",
    "\n",
    "  run = client.beta.threads.runs.create(\n",
    "    thread_id = message_request.thread_id,\n",
    "    assistant_id = my_assistant.id\n",
    "  )\n",
    "\n",
    "  run = client.beta.threads.runs.retrieve(\n",
    "    thread_id = message_request.thread_id,\n",
    "    run_id = run.id\n",
    "  )\n",
    "\n",
    "  def wait_for_completed():\n",
    "      while True:\n",
    "          response = client.beta.threads.runs.retrieve(thread_id = new_thread.id, run_id = run.id)\n",
    "          if response.status == \"completed\":\n",
    "              return response\n",
    "          time.sleep(1)\n",
    "\n",
    "  run_return = wait_for_completed()\n",
    "\n",
    "  messages = client.beta.threads.messages.list(\n",
    "    thread_id = message_request.thread_id\n",
    "  )\n",
    "\n",
    "  audio = elevenlabs.generate(\n",
    "      text = messages.data[0].content[0].text.value,\n",
    "          voice = voice_id\n",
    "  )\n",
    "\n",
    "  elevenlabs.save(audio, \"test.wav\")\n",
    "  video_generation(\"test.wav\")\n",
    "\n",
    "  #elevenlabs.play(audio)\n",
    "  "
   ]
  },
  {
   "cell_type": "code",
   "execution_count": 1,
   "metadata": {},
   "outputs": [
    {
     "name": "stdout",
     "output_type": "stream",
     "text": [
      "Python 3.8.0\n"
     ]
    }
   ],
   "source": [
    "!python --version"
   ]
  },
  {
   "cell_type": "code",
   "execution_count": 31,
   "id": "6b8810ec-7cc5-435d-a058-e9935fc9c530",
   "metadata": {},
   "outputs": [],
   "source": [
    "new_question(\"How can I relax?\")"
   ]
  },
  {
   "cell_type": "code",
   "execution_count": null,
   "metadata": {},
   "outputs": [],
   "source": [
    "!python -m pip install torch==1.12.1+cu113 torchvision==0.13.1+cu113 torchaudio==0.12.1 --extra-index-url https://download.pytorch.org/whl/cu113\n",
    "!python -m pip install moviepy\n",
    "!python -m pip install imageio==2.4.1\n",
    "!python -m pip install -r requirements.txt\n",
    "!python -m pip install cmake==3.25.2\n",
    "!python -m pip install boost==0.1\n",
    "!python -m pip install dlib-bin\n",
    "!python -m pip install basicsr==1.4.2\n",
    "!python -m pip install facexlib==0.2.5\n",
    "!python -m pip install kornia==0.6.10\n",
    "!python -m pip install face-alignment==1.3.5 yacs==0.1.8\n",
    "### install gpfgan for enhancer\n",
    "!python -m pip install git+https://github.com/TencentARC/GFPGAN"
   ]
  },
  {
   "cell_type": "code",
   "execution_count": 3,
   "id": "76c998e9",
   "metadata": {},
   "outputs": [],
   "source": [
    "import glob\n",
    "import matplotlib.pyplot as plt\n",
    "from PIL import Image\n",
    "from moviepy.video.fx.resize import resize\n",
    "from moviepy.editor import VideoFileClip"
   ]
  },
  {
   "cell_type": "code",
   "execution_count": 5,
   "metadata": {},
   "outputs": [
    {
     "name": "stdout",
     "output_type": "stream",
     "text": [
      "Collecting face-alignment==1.3.4\n",
      "  Using cached face_alignment-1.3.4-py2.py3-none-any.whl\n",
      "Requirement already satisfied: torch in c:\\users\\jonathancallahan\\projects\\guidance\\.venv\\lib\\site-packages (from face-alignment==1.3.4) (1.12.1+cu113)\n",
      "Requirement already satisfied: numpy in c:\\users\\jonathancallahan\\projects\\guidance\\.venv\\lib\\site-packages (from face-alignment==1.3.4) (1.23.1)\n",
      "Requirement already satisfied: scipy>=0.17 in c:\\users\\jonathancallahan\\projects\\guidance\\.venv\\lib\\site-packages (from face-alignment==1.3.4) (1.10.1)\n",
      "Requirement already satisfied: scikit-image in c:\\users\\jonathancallahan\\projects\\guidance\\.venv\\lib\\site-packages (from face-alignment==1.3.4) (0.21.0)\n",
      "Requirement already satisfied: opencv-python in c:\\users\\jonathancallahan\\projects\\guidance\\.venv\\lib\\site-packages (from face-alignment==1.3.4) (4.8.1.78)\n",
      "Requirement already satisfied: tqdm in c:\\users\\jonathancallahan\\projects\\guidance\\.venv\\lib\\site-packages (from face-alignment==1.3.4) (4.66.1)\n",
      "Requirement already satisfied: numba in c:\\users\\jonathancallahan\\projects\\guidance\\.venv\\lib\\site-packages (from face-alignment==1.3.4) (0.58.1)\n",
      "Requirement already satisfied: llvmlite<0.42,>=0.41.0dev0 in c:\\users\\jonathancallahan\\projects\\guidance\\.venv\\lib\\site-packages (from numba->face-alignment==1.3.4) (0.41.1)\n",
      "Requirement already satisfied: importlib-metadata in c:\\users\\jonathancallahan\\projects\\guidance\\.venv\\lib\\site-packages (from numba->face-alignment==1.3.4) (6.8.0)\n",
      "Requirement already satisfied: networkx>=2.8 in c:\\users\\jonathancallahan\\projects\\guidance\\.venv\\lib\\site-packages (from scikit-image->face-alignment==1.3.4) (3.1)\n",
      "Requirement already satisfied: pillow>=9.0.1 in c:\\users\\jonathancallahan\\projects\\guidance\\.venv\\lib\\site-packages (from scikit-image->face-alignment==1.3.4) (10.1.0)\n",
      "Requirement already satisfied: imageio>=2.27 in c:\\users\\jonathancallahan\\projects\\guidance\\.venv\\lib\\site-packages (from scikit-image->face-alignment==1.3.4) (2.33.1)\n",
      "Requirement already satisfied: tifffile>=2022.8.12 in c:\\users\\jonathancallahan\\projects\\guidance\\.venv\\lib\\site-packages (from scikit-image->face-alignment==1.3.4) (2023.7.10)\n",
      "Requirement already satisfied: PyWavelets>=1.1.1 in c:\\users\\jonathancallahan\\projects\\guidance\\.venv\\lib\\site-packages (from scikit-image->face-alignment==1.3.4) (1.4.1)\n",
      "Requirement already satisfied: packaging>=21 in c:\\users\\jonathancallahan\\projects\\guidance\\.venv\\lib\\site-packages (from scikit-image->face-alignment==1.3.4) (23.2)\n",
      "Requirement already satisfied: lazy_loader>=0.2 in c:\\users\\jonathancallahan\\projects\\guidance\\.venv\\lib\\site-packages (from scikit-image->face-alignment==1.3.4) (0.3)\n",
      "Requirement already satisfied: typing-extensions in c:\\users\\jonathancallahan\\projects\\guidance\\.venv\\lib\\site-packages (from torch->face-alignment==1.3.4) (4.8.0)\n",
      "Requirement already satisfied: colorama in c:\\users\\jonathancallahan\\projects\\guidance\\.venv\\lib\\site-packages (from tqdm->face-alignment==1.3.4) (0.4.6)\n",
      "Requirement already satisfied: zipp>=0.5 in c:\\users\\jonathancallahan\\projects\\guidance\\.venv\\lib\\site-packages (from importlib-metadata->numba->face-alignment==1.3.4) (3.17.0)\n",
      "Installing collected packages: face-alignment\n",
      "  Attempting uninstall: face-alignment\n",
      "    Found existing installation: face-alignment 1.3.5\n",
      "    Uninstalling face-alignment-1.3.5:\n",
      "      Successfully uninstalled face-alignment-1.3.5\n",
      "Successfully installed face-alignment-1.3.4\n",
      "Note: you may need to restart the kernel to use updated packages.\n"
     ]
    }
   ],
   "source": [
    "pip install face-alignment==1.3.4"
   ]
  },
  {
   "cell_type": "code",
   "execution_count": null,
   "metadata": {},
   "outputs": [],
   "source": [
    "!python ./SadTalker/inference.py \\\n",
    "  --driven_audio ./SadTalker/examples/driven_audio/RD_Radio31_000.wav \\\n",
    "  --source_image ./SadTalker/example_img.jpg \\\n",
    "  --result_dir ./results"
   ]
  },
  {
   "cell_type": "code",
   "execution_count": 17,
   "metadata": {},
   "outputs": [
    {
     "name": "stdout",
     "output_type": "stream",
     "text": [
      "['example_img##RD_Radio31_000.mat', 'example_img##RD_Radio31_000.mp4', 'example_img##RD_Radio31_000.txt', 'first_frame_dir']\n"
     ]
    }
   ],
   "source": [
    "import os\n",
    "\n",
    "# Path to the directory you want to scan\n",
    "directory_path = 'results/2023_12_19_20.56.50/'\n",
    "\n",
    "# List to hold the names of folders\n",
    "file_names = []\n",
    "\n",
    "# Walk through the directory\n",
    "for entry in os.scandir(directory_path):\n",
    "    \n",
    "    file_names.append(entry.name)\n",
    "\n",
    "# Print the folder names\n",
    "print(file_names)"
   ]
  },
  {
   "cell_type": "code",
   "execution_count": 22,
   "metadata": {},
   "outputs": [
    {
     "name": "stdout",
     "output_type": "stream",
     "text": [
      "c:\\Users\\jonathancallahan\\Projects\\guidance\n",
      " Volume in drive C is Windows\n",
      " Volume Serial Number is C402-5B7C\n",
      "\n",
      " Directory of c:\\Users\\jonathancallahan\\Projects\\guidance\n",
      "\n",
      "12/19/2023  09:19 PM    <DIR>          .\n",
      "12/19/2023  09:19 PM    <DIR>          ..\n",
      "11/17/2023  07:21 PM    <DIR>          .ipynb_checkpoints\n",
      "11/26/2023  02:13 PM    <DIR>          .venv\n",
      "12/19/2023  07:31 PM    <DIR>          checkpoints\n",
      "11/26/2023  12:30 PM    <DIR>          content\n",
      "11/17/2023  06:13 PM                10 README.md\n",
      "12/19/2023  08:56 PM    <DIR>          results\n",
      "12/19/2023  07:31 PM    <DIR>          SadTalker\n",
      "12/19/2023  09:19 PM            10,914 text_to_speech.ipynb\n",
      "11/17/2023  11:05 PM    <DIR>          video\n",
      "               2 File(s)         10,924 bytes\n",
      "               9 Dir(s)  522,661,634,048 bytes free\n"
     ]
    },
    {
     "ename": "FileNotFoundError",
     "evalue": "[WinError 2] The system cannot find the file specified: 'results/2023_12_19_20.56.50/example_img##RD_Radio31_000.mp4'",
     "output_type": "error",
     "traceback": [
      "\u001b[1;31m---------------------------------------------------------------------------\u001b[0m",
      "\u001b[1;31mFileNotFoundError\u001b[0m                         Traceback (most recent call last)",
      "\u001b[1;32mc:\\Users\\jonathancallahan\\Projects\\guidance\\text_to_speech.ipynb Cell 11\u001b[0m line \u001b[0;36m9\n\u001b[0;32m      <a href='vscode-notebook-cell:/c%3A/Users/jonathancallahan/Projects/guidance/text_to_speech.ipynb#X12sZmlsZQ%3D%3D?line=4'>5</a>\u001b[0m file_name \u001b[39m=\u001b[39m \u001b[39m'\u001b[39m\u001b[39mexample_img##RD_Radio31_000.mp4\u001b[39m\u001b[39m'\u001b[39m\n\u001b[0;32m      <a href='vscode-notebook-cell:/c%3A/Users/jonathancallahan/Projects/guidance/text_to_speech.ipynb#X12sZmlsZQ%3D%3D?line=6'>7</a>\u001b[0m full_path \u001b[39m=\u001b[39m os\u001b[39m.\u001b[39mpath\u001b[39m.\u001b[39mjoin(directory_path, file_name)\n\u001b[1;32m----> <a href='vscode-notebook-cell:/c%3A/Users/jonathancallahan/Projects/guidance/text_to_speech.ipynb#X12sZmlsZQ%3D%3D?line=8'>9</a>\u001b[0m os\u001b[39m.\u001b[39;49mstartfile(full_path)\n\u001b[0;32m     <a href='vscode-notebook-cell:/c%3A/Users/jonathancallahan/Projects/guidance/text_to_speech.ipynb#X12sZmlsZQ%3D%3D?line=9'>10</a>\u001b[0m \u001b[39m'''\u001b[39;00m\n\u001b[0;32m     <a href='vscode-notebook-cell:/c%3A/Users/jonathancallahan/Projects/guidance/text_to_speech.ipynb#X12sZmlsZQ%3D%3D?line=10'>11</a>\u001b[0m \u001b[39mif os.path.exists(video_path):\u001b[39;00m\n\u001b[0;32m     <a href='vscode-notebook-cell:/c%3A/Users/jonathancallahan/Projects/guidance/text_to_speech.ipynb#X12sZmlsZQ%3D%3D?line=11'>12</a>\u001b[0m \u001b[39m    print(\"File exists\")\u001b[39;00m\n\u001b[1;32m   (...)\u001b[0m\n\u001b[0;32m     <a href='vscode-notebook-cell:/c%3A/Users/jonathancallahan/Projects/guidance/text_to_speech.ipynb#X12sZmlsZQ%3D%3D?line=14'>15</a>\u001b[0m \u001b[39m    print(\"File not found\")\u001b[39;00m\n\u001b[0;32m     <a href='vscode-notebook-cell:/c%3A/Users/jonathancallahan/Projects/guidance/text_to_speech.ipynb#X12sZmlsZQ%3D%3D?line=15'>16</a>\u001b[0m \u001b[39m    '''\u001b[39;00m\n",
      "\u001b[1;31mFileNotFoundError\u001b[0m: [WinError 2] The system cannot find the file specified: 'results/2023_12_19_20.56.50/example_img##RD_Radio31_000.mp4'"
     ]
    }
   ],
   "source": [
    "import os\n",
    "print(os.getcwd())\n",
    "%ls\n",
    "directory_path = 'results/2023_12_19_20.56.50/'\n",
    "file_name = 'example_img##RD_Radio31_000.mp4'\n",
    "\n",
    "full_path = os.path.join(directory_path, file_name)\n",
    "\n",
    "os.startfile(full_path)\n",
    "'''\n",
    "if os.path.exists(video_path):\n",
    "    print(\"File exists\")\n",
    "    os.startfile(video_path)\n",
    "else:\n",
    "    print(\"File not found\")\n",
    "    '''"
   ]
  },
  {
   "cell_type": "code",
   "execution_count": null,
   "metadata": {},
   "outputs": [],
   "source": []
  }
 ],
 "metadata": {
  "kernelspec": {
   "display_name": "Python 3 (ipykernel)",
   "language": "python",
   "name": "python3"
  },
  "language_info": {
   "codemirror_mode": {
    "name": "ipython",
    "version": 3
   },
   "file_extension": ".py",
   "mimetype": "text/x-python",
   "name": "python",
   "nbconvert_exporter": "python",
   "pygments_lexer": "ipython3",
   "version": "3.8.0"
  }
 },
 "nbformat": 4,
 "nbformat_minor": 5
}
