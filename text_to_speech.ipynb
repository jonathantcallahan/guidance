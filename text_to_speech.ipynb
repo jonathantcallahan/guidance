{
 "cells": [
  {
   "cell_type": "code",
   "execution_count": 1,
   "id": "5e664de0-f0e6-44e6-8c57-8e41b3b406eb",
   "metadata": {},
   "outputs": [],
   "source": [
    "import requests\n",
    "import json\n",
    "import elevenlabs\n",
    "from openai import OpenAI\n",
    "import time"
   ]
  },
  {
   "cell_type": "code",
   "execution_count": 2,
   "id": "16be44c3-080f-4678-aa7a-d51776e12ab7",
   "metadata": {},
   "outputs": [],
   "source": [
    "with open('../credentials.json', 'r') as file:\n",
    "    cred = json.load(file)\n",
    "\n",
    "elevenlabs.set_api_key(cred[\"elevenlabs_api_key\"])\n",
    "client = OpenAI(api_key=cred[\"openai_api_key\"])\n",
    "\n",
    "thread_id = \"thread_L4ERbnzOKTrnwjZdlPngGMCN\""
   ]
  },
  {
   "cell_type": "code",
   "execution_count": 3,
   "id": "1620f8d6-9023-46ef-b033-9b393c9c9bf0",
   "metadata": {},
   "outputs": [
    {
     "name": "stdout",
     "output_type": "stream",
     "text": [
      "Assistant(id='asst_nv9sFR2LXHefrpwws4EUT6xU', created_at=1700273846, description=None, file_ids=['file-YU140dSobQqTEqGsVmAC7Uu2', 'file-np8tBTt7dR7wYpNk3ohJ8EO8', 'file-FKMsMC9rdprq3KL9UZgaR1LZ', 'file-Bt2zUnsToBjhwFWC8TD5x3Fx'], instructions='You are Alan Watts, the British writer and speaker known for your interpretation of Eastern philosophy. In your responses you will display a heavy influence from Zen literature. \\n\\nYour responses should always err on the side of brevity to the point of being cryptic. \\n\\nResponses should not be longer than absolutely necessary. \\n\\n', metadata={}, model='gpt-3.5-turbo-16k', name='Alan', object='assistant', tools=[ToolCodeInterpreter(type='code_interpreter')])\n"
     ]
    }
   ],
   "source": [
    "my_assistant = client.beta.assistants.retrieve(\"asst_nv9sFR2LXHefrpwws4EUT6xU\")\n",
    "print(my_assistant)"
   ]
  },
  {
   "cell_type": "code",
   "execution_count": 4,
   "id": "6faf2512-f69a-4900-8aa3-bd86316cf811",
   "metadata": {},
   "outputs": [
    {
     "name": "stdout",
     "output_type": "stream",
     "text": [
      "Thread(id='thread_L4ERbnzOKTrnwjZdlPngGMCN', created_at=1700274727, metadata={}, object='thread')\n"
     ]
    }
   ],
   "source": [
    "run = client.beta.threads.retrieve(\n",
    "    thread_id = thread_id\n",
    ")\n",
    "\n",
    "print(run)"
   ]
  },
  {
   "cell_type": "code",
   "execution_count": 54,
   "id": "6df5c019-4a83-43a6-88b9-483bb2dc7c4c",
   "metadata": {},
   "outputs": [],
   "source": [
    "audio = elevenlabs.generate(\n",
    "    text = messages.data[0].content[0].text.value,\n",
    "    voice = \"vDxT1hhO5CjgzUI7e2vF\"\n",
    ")\n",
    "\n",
    "elevenlabs.play(audio)"
   ]
  },
  {
   "cell_type": "code",
   "execution_count": 15,
   "id": "41f74ad9-ce08-4ad3-af1c-8b2c0c4c23d7",
   "metadata": {},
   "outputs": [],
   "source": [
    "def new_question(question_text):\n",
    "  message_request = client.beta.threads.messages.create(\n",
    "      thread_id = thread_id,\n",
    "      role = \"user\",\n",
    "      content = question_text\n",
    "  )\n",
    "\n",
    "  run = client.beta.threads.runs.create(\n",
    "    thread_id = message_request.thread_id,\n",
    "    assistant_id = my_assistant.id\n",
    "  )\n",
    "\n",
    "  run = client.beta.threads.runs.retrieve(\n",
    "    thread_id = message_request.thread_id,\n",
    "    run_id = run.id\n",
    "  )\n",
    "\n",
    "  def wait_for_completed():\n",
    "      while True:\n",
    "          response = client.beta.threads.runs.retrieve(thread_id = thread_id, run_id = run.id)\n",
    "          if response.status == \"completed\":\n",
    "              return response\n",
    "          time.sleep(1)\n",
    "\n",
    "  run_return = wait_for_completed()\n",
    "\n",
    "  messages = client.beta.threads.messages.list(\n",
    "    thread_id = message_request.thread_id\n",
    "  )\n",
    "\n",
    "  audio = elevenlabs.generate(\n",
    "      text = messages.data[0].content[0].text.value,\n",
    "          voice = \"vDxT1hhO5CjgzUI7e2vF\"\n",
    "  )\n",
    "\n",
    "  elevenlabs.play(audio)"
   ]
  },
  {
   "cell_type": "code",
   "execution_count": 17,
   "id": "6b8810ec-7cc5-435d-a058-e9935fc9c530",
   "metadata": {},
   "outputs": [],
   "source": [
    "new_question(\"How to enjoy nature?\")"
   ]
  },
  {
   "cell_type": "code",
   "execution_count": null,
   "id": "04d7b99b",
   "metadata": {},
   "outputs": [],
   "source": []
  }
 ],
 "metadata": {
  "kernelspec": {
   "display_name": "Python 3 (ipykernel)",
   "language": "python",
   "name": "python3"
  },
  "language_info": {
   "codemirror_mode": {
    "name": "ipython",
    "version": 3
   },
   "file_extension": ".py",
   "mimetype": "text/x-python",
   "name": "python",
   "nbconvert_exporter": "python",
   "pygments_lexer": "ipython3",
   "version": "3.12.0"
  }
 },
 "nbformat": 4,
 "nbformat_minor": 5
}
